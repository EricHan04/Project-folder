{
 "cells": [
  {
   "cell_type": "code",
   "execution_count": 1,
   "metadata": {
    "ExecuteTime": {
     "end_time": "2022-08-01T08:28:44.373295Z",
     "start_time": "2022-08-01T08:28:41.334302Z"
    },
    "scrolled": true
   },
   "outputs": [],
   "source": [
    "from selenium import webdriver\n",
    "from selenium.webdriver.common.by import By\n",
    "\n",
    "from time import sleep\n",
    "from selenium.webdriver.common.keys import Keys\n",
    "import pandas as pd\n",
    "from fake_useragent import UserAgent\n",
    "\n",
    "from selenium.webdriver.chrome.service import Service\n",
    "from webdriver_manager.chrome import ChromeDriverManager\n",
    "from selenium.webdriver.chrome.options import Options\n",
    "\n",
    "from bs4 import BeautifulSoup\n",
    "import numpy as np\n",
    "# from fuzzywuzzy import fuzz\n",
    "\n",
    "pd.set_option('display.max_columns', None)\n",
    "pd.set_option('display.expand_frame_repr', False)\n",
    "pd.set_option('max_colwidth', None)\n",
    "\n",
    "from pygooglenews import GoogleNews"
   ]
  },
  {
   "cell_type": "code",
   "execution_count": 2,
   "metadata": {
    "ExecuteTime": {
     "end_time": "2022-08-01T08:28:45.259334Z",
     "start_time": "2022-08-01T08:28:44.375236Z"
    }
   },
   "outputs": [],
   "source": [
    "# load list of startups name - using fake agent\n",
    "name_df = pd.read_excel(r'C:\\Users\\handy019\\OneDrive - University of South Australia\\Python\\3 webscrapping\\1 Startups in districts.xlsx', sheet_name='clean')\n",
    "name_list = name_df['Names'].tolist()"
   ]
  },
  {
   "cell_type": "code",
   "execution_count": 3,
   "metadata": {
    "ExecuteTime": {
     "end_time": "2022-08-01T08:28:45.265337Z",
     "start_time": "2022-08-01T08:28:45.261337Z"
    },
    "code_folding": []
   },
   "outputs": [],
   "source": [
    "# #scrap googlenews\n",
    "# gn = GoogleNews()\n",
    "\n",
    "# news = pd.DataFrame()\n",
    "\n",
    "# for name in name_list:\n",
    "#     print(name)\n",
    "#     s = gn.search('\"{}\" AND \"adelaide\"'.format(name))\n",
    "#     temp = pd.DataFrame()\n",
    "#     title_ = []\n",
    "#     links_ = []\n",
    "#     publised_date_ = []\n",
    "    \n",
    "#     for i in range(len(s['entries'])):\n",
    "#         if len(s['entries'])!=0:\n",
    "#             title_.append(s['entries'][i]['title'])\n",
    "#             links_.append(s['entries'][i]['links'][0]['href'])\n",
    "#             publised_date_.append(s['entries'][i]['published'])\n",
    "#         else:\n",
    "#             print(\"no results\"+name)\n",
    "\n",
    "#     temp['title'] = title_\n",
    "#     temp['links_'] = links_\n",
    "#     temp['publised_date_'] = publised_date_\n",
    "#     temp['company'] = name\n",
    "#     print(len(temp))\n",
    "    \n",
    "#     news = pd.concat([news,temp], ignore_index=True)"
   ]
  },
  {
   "cell_type": "code",
   "execution_count": 4,
   "metadata": {
    "ExecuteTime": {
     "end_time": "2022-08-01T08:28:45.271337Z",
     "start_time": "2022-08-01T08:28:45.267332Z"
    }
   },
   "outputs": [],
   "source": [
    "# news.to_csv('articles_news_link (adelaide).csv', encoding='utf-8', index=None)"
   ]
  },
  {
   "cell_type": "code",
   "execution_count": 5,
   "metadata": {
    "ExecuteTime": {
     "end_time": "2022-08-01T08:28:45.277341Z",
     "start_time": "2022-08-01T08:28:45.273331Z"
    }
   },
   "outputs": [],
   "source": [
    "# news = pd.read_csv(r'articles_news_link (adelaide).csv', encoding='iso-8859-1')\n",
    "# news"
   ]
  },
  {
   "cell_type": "code",
   "execution_count": 6,
   "metadata": {
    "ExecuteTime": {
     "end_time": "2022-08-01T08:28:45.285334Z",
     "start_time": "2022-08-01T08:28:45.280335Z"
    },
    "code_folding": []
   },
   "outputs": [],
   "source": [
    "# #news from Proquest - get the link of the articles\n",
    "# #start the engine\n",
    "# options = Options()\n",
    "# options.add_argument(\"start-maximized\")\n",
    "\n",
    "# proquest_link = pd.DataFrame()\n",
    "\n",
    "# for company in name_list:\n",
    "#     print(company)\n",
    "    \n",
    "#     temp = pd.DataFrame()\n",
    "#     link_ = []\n",
    "\n",
    "#     #selenium 3\n",
    "#     driver = webdriver.Chrome(executable_path=r'C:\\Users\\handy019\\OneDrive - University of South Australia\\Python\\3 webscrapping\\chromedriver.exe', options=options)\n",
    "\n",
    "#     #enter the page address\n",
    "#     driver.get(\"https://www.proquest.com/anznews?accountid=14649\")\n",
    "\n",
    "#     sleep(np.random.randint(low=10, high=30))\n",
    "\n",
    "#     #enter what we want to search\n",
    "#     input1 = driver.find_element_by_id(\"searchTerm\")\n",
    "#     input1.click()\n",
    "#     input1.send_keys('\"{}\" AND adelaide'.format(company.lower()))\n",
    "\n",
    "#     #hit ENTER\n",
    "#     sleep(np.random.randint(low=10, high=30))\n",
    "#     input1.send_keys(Keys.ENTER)\n",
    "#     sleep(np.random.randint(low=10, high=30))\n",
    "    \n",
    "#     try:\n",
    "#         no_result = driver.find_element_by_class_name('searchSuggestionsEmphasizedBox')\n",
    "        \n",
    "#         print(\"no results for\"+\" \"+company)\n",
    "\n",
    "#         sleep(np.random.randint(low=10, high=30))\n",
    "#         driver.quit()\n",
    "        \n",
    "        \n",
    "#     except:\n",
    "\n",
    "#         try:\n",
    "#             el = driver.find_element_by_id('itemsPerPage') \n",
    "#             for option in el.find_elements_by_tag_name('option'):     \n",
    "#                 if option.text == '100':        \n",
    "#                     option.click()  \n",
    "#             sleep(np.random.randint(low=10, high=30))        \n",
    "#             total_result = driver.find_element_by_id(\"pqResultsCount\").text.split(\" \")[0]\n",
    "#             total_result = int(total_result.replace(',', ''))\n",
    "\n",
    "#             if total_result <=100:\n",
    "\n",
    "#                 for i in range(1,total_result+1):\n",
    "#                     link_.append(driver.find_element_by_id(\"result-header-{}\".format(i)).find_elements_by_tag_name('a')[0].get_attribute('href'))\n",
    "\n",
    "#                 temp['ProQuest_link'] = link_\n",
    "#                 temp['company'] = company\n",
    "#                 proquest_link = pd.concat([proquest_link, temp], ignore_index=True)\n",
    "\n",
    "#             else:\n",
    "#                 print(\"more than 100 results\"+\" \"+company)\n",
    "\n",
    "#         except:\n",
    "#             print(\"error\"+\" \"+company)\n",
    "\n",
    "#         sleep(np.random.randint(low=10, high=30))\n",
    "#         driver.quit()"
   ]
  },
  {
   "cell_type": "code",
   "execution_count": 7,
   "metadata": {
    "ExecuteTime": {
     "end_time": "2022-08-01T08:28:45.293335Z",
     "start_time": "2022-08-01T08:28:45.287332Z"
    }
   },
   "outputs": [],
   "source": [
    "# proquest_link.to_csv(r'C:\\Users\\handy019\\OneDrive - University of South Australia\\Python\\3 webscrapping\\proquest_link.csv', encoding='utf-8', index=None)"
   ]
  },
  {
   "cell_type": "code",
   "execution_count": 44,
   "metadata": {
    "ExecuteTime": {
     "end_time": "2022-08-04T03:06:42.416449Z",
     "start_time": "2022-08-04T00:43:06.836683Z"
    },
    "code_folding": [],
    "scrolled": true
   },
   "outputs": [
    {
     "name": "stdout",
     "output_type": "stream",
     "text": [
      "900 Tier 5\n",
      "901 Tier 5\n",
      "902 Tier 5\n",
      "903 Tier 5\n",
      "904 Tier 5\n",
      "905 Tier 5\n",
      "906 Tier 5\n",
      "907 Tier 5\n",
      "908 Tier 5\n",
      "909 Tier 5\n",
      "910 Tier 5\n",
      "911 Tier 5\n",
      "912 Tier 5\n",
      "913 Tier 5\n",
      "914 Tier 5\n",
      "915 Tier 5\n",
      "916 Tier 5\n",
      "917 Tier 5\n",
      "918 Tier 5\n",
      "919 Tier 5\n",
      "920 Tier 5\n",
      "921 Trellis Technologies\n",
      "922 Trellis Technologies\n",
      "923 Trip to Sip\n",
      "924 Venyu\n",
      "925 Venyu\n",
      "926 Venyu\n",
      "927 Venyu\n",
      "928 Venyu\n",
      "929 Venyu\n",
      "930 Venyu\n",
      "931 Village Foundation\n",
      "932 Village Foundation\n",
      "933 Village Foundation\n",
      "934 Village Foundation\n",
      "935 Village Foundation\n",
      "936 Village Foundation\n",
      "937 Village Foundation\n",
      "938 Village Foundation\n",
      "939 Village Foundation\n",
      "940 Voxon\n",
      "941 Voxon\n",
      "942 Voxon\n",
      "943 Voxon\n",
      "944 Voxon\n",
      "945 Voxon\n",
      "946 Voxon\n",
      "947 Voxon\n",
      "948 Voxon\n",
      "949 Voxon\n",
      "950 Voxon\n",
      "951 Voxon\n",
      "952 Voxon\n",
      "953 Voxon\n",
      "954 Voxon\n",
      "955 Voxon\n",
      "956 Voxon\n",
      "957 Voxon\n",
      "958 Voxon\n",
      "959 Voxon\n",
      "960 Voxon\n",
      "961 Voxon\n",
      "962 Voxon\n",
      "963 Will Bishop\n",
      "964 Will Bishop\n",
      "965 Will Bishop\n",
      "966 Will Bishop\n",
      "967 Will Bishop\n",
      "968 Will Bishop\n",
      "969 Will Bishop\n",
      "970 Will Bishop\n",
      "971 Will Bishop\n",
      "972 Will Bishop\n",
      "973 Will Bishop\n",
      "974 Will Bishop\n",
      "975 Will Bishop\n",
      "976 Will Bishop\n",
      "977 Will Bishop\n",
      "978 Will Bishop\n",
      "979 Young and Associates\n",
      "980 Young and Associates\n",
      "981 Young and Associates\n",
      "982 Young and Associates\n"
     ]
    }
   ],
   "source": [
    "#news from Proquest - get the link of the articles\n",
    "#start the engine\n",
    "proquest_link = pd.read_csv(r'C:\\Users\\handy019\\OneDrive - University of South Australia\\Python\\3 webscrapping\\proquest_link.csv', encoding='iso-8859-1')\n",
    "\n",
    "options = Options()\n",
    "options.add_argument(\"start-maximized\")\n",
    "\n",
    "link_ = []\n",
    "company_ = []\n",
    "title_ = []\n",
    "date_ = []\n",
    "publisher_ = []\n",
    "source_type_ = []\n",
    "\n",
    "for i in range(900,983):\n",
    "    print(i, proquest_link['company'].iloc[i])\n",
    "    \n",
    "    link_.append(proquest_link['ProQuest_link'].iloc[i])    \n",
    "    company_.append(proquest_link['company'].iloc[i])\n",
    "\n",
    "    #selenium 3\n",
    "    driver = webdriver.Chrome(executable_path=r'C:\\Users\\handy019\\OneDrive - University of South Australia\\Python\\3 webscrapping\\chromedriver.exe', options=options)\n",
    "    sleep(np.random.randint(low=10, high=30))\n",
    "    \n",
    "    try:\n",
    "        #enter the page address\n",
    "        try:\n",
    "            driver.get(proquest_link['ProQuest_link'].iloc[i])\n",
    "\n",
    "            sleep(np.random.randint(low=10, high=30))\n",
    "\n",
    "            text = driver.find_element_by_id(\"fullTextZone\")\n",
    "\n",
    "            out = text.text.split('\\n')\n",
    "        except:\n",
    "            driver.get(proquest_link['ProQuest_link'].iloc[i])\n",
    "\n",
    "            sleep(np.random.randint(low=10, high=30))\n",
    "\n",
    "            text = driver.find_element_by_id(\"fullTextZone\")\n",
    "\n",
    "            out = text.text.split('\\n')        \n",
    "\n",
    "        try:\n",
    "\n",
    "            with open(r'C:\\Users\\handy019\\OneDrive - University of South Australia\\Python\\3 webscrapping\\2 newspaper\\proquest text\\{}.txt'.format(i), 'w', encoding=\"utf-8\") as f:\n",
    "                for line in out:\n",
    "                    f.write(line)\n",
    "                    f.write('\\n')\n",
    "        except:\n",
    "            print('error - full text')\n",
    "            title_.append('error - detail')\n",
    "            date_.append('error - detail')\n",
    "            publisher_.append('error - detail')\n",
    "            source_type_.append('error - detail') \n",
    "\n",
    "        sleep(np.random.randint(low=10, high=30))\n",
    "\n",
    "        try:\n",
    "            input1 = driver.find_element_by_xpath(\"//a[@id='addFlashPageParameterformat_citation' and text()='Details']\")\n",
    "            input1.click()\n",
    "            sleep(np.random.randint(low=10, high=30))\n",
    "\n",
    "            title_.append(driver.find_element_by_xpath(\"//div[contains(text(),'Title')]/following-sibling::div\").text)\n",
    "            date_.append(driver.find_element_by_xpath(\"//div[contains(text(),'Publication date')]/following-sibling::div\").text)\n",
    "            publisher_.append(driver.find_element_by_xpath(\"//div[contains(text(),'Publisher')]/following-sibling::div\").text)\n",
    "            source_type_.append(driver.find_element_by_xpath(\"//div[contains(text(),'Source type')]/following-sibling::div\").text)\n",
    "\n",
    "        except:\n",
    "            input1 = driver.find_element_by_xpath(\"//a[@id='addFlashPageParameterformat_abstract' and text()='Abstract/Details']\")\n",
    "            input1.click()\n",
    "            sleep(np.random.randint(low=10, high=30))\n",
    "\n",
    "            title_.append(driver.find_element_by_xpath(\"//div[contains(text(),'Title')]/following-sibling::div\").text)\n",
    "            date_.append(driver.find_element_by_xpath(\"//div[contains(text(),'Publication date')]/following-sibling::div\").text)\n",
    "            publisher_.append(driver.find_element_by_xpath(\"//div[contains(text(),'Publisher')]/following-sibling::div\").text)\n",
    "            source_type_.append(driver.find_element_by_xpath(\"//div[contains(text(),'Source type')]/following-sibling::div\").text)    \n",
    "    except:\n",
    "        print('error',proquest_link['company'].iloc[i],proquest_link['ProQuest_link'].iloc[i])\n",
    "        title_.append('error - 404 :)')\n",
    "        date_.append('error - 404 :)')\n",
    "        publisher_.append('error - 404 :)')\n",
    "        source_type_.append('error - 404 :)') \n",
    "        \n",
    "    sleep(np.random.randint(low=10, high=30))\n",
    "    driver.quit()"
   ]
  },
  {
   "cell_type": "code",
   "execution_count": 34,
   "metadata": {
    "ExecuteTime": {
     "end_time": "2022-08-01T01:18:19.224916Z",
     "start_time": "2022-08-01T01:18:19.217930Z"
    },
    "scrolled": true
   },
   "outputs": [
    {
     "name": "stdout",
     "output_type": "stream",
     "text": [
      "['Experience for the future', 'LET’S GET PHYSICAL', 'Hi-tech gives lowdown on aged-care solutions', 'Off the Record: Flinders Uni rumoured as key anchor tenant for Walker Corp’s Festival Plaza office tower', 'Stone & Chalk’s ambitious job creation plan', \"Journey to find state's digital 'rough diamonds'\", 'Ingham Influential: Top 30 movers and shakers aged under 30', 'IT diary - CONFERENCES, EXHIBITIONS, COURSES AND EVENTS: [5 IT Broadsheet Edition]', 'IT diary - conferences, exhibitions, courses and events', 'IT DIARY', 'iO Energy powering up to take on the top level', 'Cheap and green renewable machine', 'Lot Fourteen: cheap and green renewable machine', 'Why SA innovators Fivecast, Cryoclock, Lumary, IO Energy, Ping and Myriota are drawing investors', 'SA’s best solar and electricity rates revealed in ESCOSA report', 'Cheaper electricity for power use during the day', 'Power of savings from renewables', 'Switch for cheap power', 'OFF THE DRAWING BOARD INTO REALITY: INVENTION’S BROUGHT TO LIFE AT FLINDERS', 'Buffett has confidence in future of newspapers', 'Double vision as new era kicks off', 'Mixed signals; COVER STORY', \"Main Stories in today's Australian newspapers\", 'Virtual view of training', 'OFF THE DRAWING BOARD INTO REALITY: INVENTION’S BROUGHT TO LIFE AT FLINDERS', 'TAKE A CHANCE ON ME', 'The beauty behind Fletcher: [1 FIRST Edition]', 'How they played for their new teams: [1 Edition]', 'How they played for their new teams: [1 - Edition]', 'VR ready for the future', 'School means business with firms on campus', 'School means business', 'Hints and glimpses not enough', 'Calling rural entrepreneurs', 'Mentoring the creative leaders of tomorrow', 'Hawthorn finally runs out of excuses: FOOTBALL', 'VICE-REGAL', 'The Advertiser Benefit of business on campus', 'Effort rewarded in reality', 'Lofty goals for new app', \"Nurse's death prompts calls for true investigation\", 'Common sensors', 'Lofty goals for new visitor app', 'SA police news: Man left with serious injuries after assault, car theft at Paralowie', 'SA police news: Mercedes driver busted at 197km/h on Princes Highway | Car torched after northern suburbs pursuit', 'SA police news: Shotgun, machete used in CBD hold-up | Bus causes delays on Port Rd after crashing into traffic lights', 'MAN WHO STOPS A NATION', 'MAN WHO STOPS A NATION', 'HARD-HITTING HERO OF PNG INSPIRES NEXT GEN', 'HARD-HITTING HERO OF PNG INSPIRES NEXT GEN', 'HARD-HITTING HERO OF PNG INSPIRES NEXT GEN', \"THEY SAY IT'S MY BIRTHDAY\", 'LETTERS FROM READERS.', 'Drug Addiction Needs Medical Solutions', 'Hi-tech start-ups pitch for cash prize jackpot', 'SA venture makes a pitch for big league', 'Local start ups head to UK for inspiration', 'Winning ideas cash in on equity funding pool', \"Bluethumb's pitch down to a fine art\", 'NBL SEASON PREVIEW 2013-14', 'BUSINESS DIARY Advantage Adelaide SA', 'BUSINESS DIARY Advantage Adelaide (SA)', 'Hawks plan to be mobile: NBL', \"School's out for summer: [1 State Edition]\", 'Hawks claw back table leaders', \"Old soldier Bruton won't fade away\", 'Town backs Trengove', 'Five straight for top force Pioneers', 'SA WEEKEND CONFIDENTIAL', 'Tempo may be problem, says Gordie', 'Women’s footy primed to expand', 'Pioneers show grit to steal victory', 'Rookie a Tiger reborn: Basketball', 'La Boca Up Late launch', 'Google a must for online advertising', 'Out & About', 'Essential tips for DIY sites', 'Web designers boom in a fast-changing world', 'Second-half fade-out costs Pioneers', 'Free online presence is relegated to history', 'Triple treat for Pioneers in SEABL', 'Coach has high hopes for imports', 'Demons tipped for Barber Shield', 'Pair of big losses hit the Pioneers', 'Women’s footy league off to a flyer', 'Egan sparks Tigers’ Anzac triumph', 'Pioneers rewrite the record books', 'Pioneers nab win in capital thriller', 'Squad’s showing Merrett worthy', 'One-day finals spots on the line', 'Pioneers smash Sabres', 'Mt Gambier centre of country action', 'West Gambier brings home cup', 'Vox pop', 'Undermanned Hawks beat Kings in NBL', 'Hawks lament failure to score', 'Adnam on board for bright future with Wollongong', 'Snakes keep the home fires burning on a good day for Tigers: IN THE SHEDS', 'Excess baggage: [Late Edition]', 'Undermanned Hawks beat Kings in NBL']\n",
      "['Nov 24, 2019', 'Jun 1, 2020', 'Oct 11, 2018', 'Mar 5, 2021', 'Nov 29, 2019', 'Apr 23, 2019', 'Apr 4, 2022', 'Oct 3, 2006', 'Nov 11, 2008', 'Nov 4, 2008', 'Jun 7, 2022', 'Apr 1, 2022', 'Mar 31, 2022', 'Jun 3, 2021', 'Sep 3, 2021', 'Sep 8, 2020', 'Oct 29, 2021', 'Sep 9, 2021', 'Jul 7, 2018', 'Feb 2, 2013', 'Aug 3, 2017', 'May 5, 2007', 'Nov 9, 2005', 'Oct 9, 2018', 'Jul 7, 2018', 'Apr 28, 2018', 'May 28, 2004', 'Apr 2, 2003', 'Apr 2, 2003', 'Oct 9, 2018', 'Jul 22, 2019', 'Jul 31, 2019', 'Aug 15, 2009', 'Sep 3, 2019', 'Aug 14, 2018', 'Aug 15, 2009', 'Jul 17, 2019', 'Jul 22, 2019', 'Aug 9, 2018', 'Oct 20, 2019', 'Dec 11, 2012', 'Mar 25, 2017', 'Oct 30, 2019', 'Aug 18, 2021', 'Aug 20, 2021', 'Aug 16, 2021', 'Oct 3, 2020', 'Oct 3, 2020', 'Oct 3, 2020', 'Oct 3, 2020', 'Oct 3, 2020', 'Jun 27, 2021', 'Oct 10, 2001', 'Jul 31, 2001', 'Jun 7, 2016', 'Sep 27, 2017', 'Jul 20, 2018', 'Aug 23, 2016', 'Jun 10, 2016', 'Oct 10, 2013', 'Apr 17, 2012', 'Aug 21, 2012', 'Oct 26, 2012', 'Oct 29, 2005', 'Feb 10, 2014', 'Oct 10, 2013', 'Jul 31, 2016', 'Aug 27, 2017', 'Nov 4, 2017', 'Feb 3, 2017', 'Oct 29, 2017', 'Jul 30, 2017', 'Oct 10, 2013', 'Jan 14, 2017', 'May 11, 2010', 'Dec 21, 2016', 'Mar 28, 2017', 'Mar 10, 2011', 'Jul 15, 2018', 'Nov 27, 2012', 'Sep 10, 2017', 'Feb 19, 2017', 'Nov 19, 2017', 'Jun 3, 2018', 'Jul 23, 2017', 'Apr 29, 2018', 'Sep 4, 2016', 'Jul 8, 2018', 'Jul 9, 2017', 'Jan 21, 2018', 'Jul 24, 2016', 'Jan 17, 2016', 'Apr 17, 2016', 'Dec 17, 2012', 'Nov 25, 2015', 'Oct 12, 2013', 'Oct 18, 2014', 'Jun 2, 2010', 'Sep 13, 2003', 'Nov 25, 2015']\n",
      "['Nationwide News Pty Ltd', 'Nationwide News Pty Ltd', 'Nationwide News Pty Ltd', 'Nationwide News Pty Ltd', 'Nationwide News Pty Ltd', 'Nationwide News Pty Ltd', 'Nationwide News Pty Ltd', 'Nationwide News Pty Ltd', 'Nationwide News Pty Ltd', 'Nationwide News Pty Ltd', 'Nationwide News Pty Ltd', 'Nationwide News Pty Ltd', 'Nationwide News Pty Ltd', 'Nationwide News Pty Ltd', 'Nationwide News Pty Ltd', 'Nationwide News Pty Ltd', 'Nationwide News Pty Ltd', 'Nationwide News Pty Ltd', 'Nationwide News Pty Ltd', 'Nationwide News Pty Ltd', 'Nationwide News Pty Ltd', 'Fairfax Digital', 'Australian Associated Press Pty Limited', 'Nationwide News Pty Ltd', 'Nationwide News Pty Ltd', 'Nationwide News Pty Ltd', 'Nationwide News Pty Ltd', 'Nationwide News Pty Ltd', 'Nationwide News Pty Ltd', 'Nationwide News Pty Ltd', 'Nationwide News Pty Ltd', 'Nationwide News Pty Ltd', 'Fairfax Digital', 'Nationwide News Pty Ltd', 'Nationwide News Pty Ltd', 'Fairfax Digital', 'Nationwide News Pty Ltd', 'Nationwide News Pty Ltd', 'Nationwide News Pty Ltd', 'Nationwide News Pty Ltd', 'Nationwide News Pty Ltd', 'Nationwide News Pty Ltd', 'Nationwide News Pty Ltd', 'Nationwide News Pty Ltd', 'Nationwide News Pty Ltd', 'Nationwide News Pty Ltd', 'Nationwide News Pty Ltd', 'Nationwide News Pty Ltd', 'Nationwide News Pty Ltd', 'Nationwide News Pty Ltd', 'Nationwide News Pty Ltd', 'Nationwide News Pty Ltd', 'Fairfax Media Publications Pty Limited', 'Fairfax Media Publications Pty Limited', 'Nationwide News Pty Ltd', 'Nationwide News Pty Ltd', 'Nationwide News Pty Ltd', 'Nationwide News Pty Ltd', 'Nationwide News Pty Ltd', 'Nationwide News Pty Ltd', 'Nationwide News Pty Ltd', 'Nationwide News Pty Ltd', 'Fairfax Digital', 'Nationwide News Pty Ltd', 'Fairfax Digital', 'Stuff Limited', 'Nationwide News Pty Ltd', 'Nationwide News Pty Ltd', 'Nationwide News Pty Ltd', 'Nationwide News Pty Ltd', 'Nationwide News Pty Ltd', 'Nationwide News Pty Ltd', 'Fairfax Digital', 'Nationwide News Pty Ltd', 'Nationwide News Pty Ltd', 'Nationwide News Pty Ltd', 'Nationwide News Pty Ltd', 'Nationwide News Pty Ltd', 'Nationwide News Pty Ltd', 'Nationwide News Pty Ltd', 'Nationwide News Pty Ltd', 'Nationwide News Pty Ltd', 'Nationwide News Pty Ltd', 'Nationwide News Pty Ltd', 'Nationwide News Pty Ltd', 'Nationwide News Pty Ltd', 'Nationwide News Pty Ltd', 'Nationwide News Pty Ltd', 'Nationwide News Pty Ltd', 'Nationwide News Pty Ltd', 'Nationwide News Pty Ltd', 'Nationwide News Pty Ltd', 'Nationwide News Pty Ltd', 'Nationwide News Pty Ltd', 'Australian Associated Press Pty Limited', 'Fairfax Digital', 'Fairfax Digital', 'Fairfax Digital', 'Fairfax Digital', 'Australian Associated Press Pty Limited']\n",
      "['Newspaper', 'Newspaper', 'Newspaper', 'Newspaper', 'Newspaper', 'Newspaper', 'Newspaper', 'Newspaper', 'Newspaper', 'Newspaper', 'Newspaper', 'Newspaper', 'Newspaper', 'Newspaper', 'Newspaper', 'Newspaper', 'Newspaper', 'Newspaper', 'Newspaper', 'Newspaper', 'Newspaper', 'Newspaper', 'Wire Feed', 'Newspaper', 'Newspaper', 'Newspaper', 'Newspaper', 'Newspaper', 'Newspaper', 'Newspaper', 'Newspaper', 'Newspaper', 'Newspaper', 'Newspaper', 'Newspaper', 'Newspaper', 'Newspaper', 'Newspaper', 'Newspaper', 'Newspaper', 'Newspaper', 'Newspaper', 'Newspaper', 'Newspaper', 'Newspaper', 'Newspaper', 'Newspaper', 'Newspaper', 'Newspaper', 'Newspaper', 'Newspaper', 'Newspaper', 'Newspaper', 'Newspaper', 'Newspaper', 'Newspaper', 'Newspaper', 'Newspaper', 'Newspaper', 'Newspaper', 'Newspaper', 'Newspaper', 'Newspaper', 'Newspaper', 'Newspaper', 'Newspaper', 'Newspaper', 'Newspaper', 'Newspaper', 'Newspaper', 'Newspaper', 'Newspaper', 'Newspaper', 'Newspaper', 'Newspaper', 'Newspaper', 'Newspaper', 'Newspaper', 'Newspaper', 'Newspaper', 'Newspaper', 'Newspaper', 'Newspaper', 'Newspaper', 'Newspaper', 'Newspaper', 'Newspaper', 'Newspaper', 'Newspaper', 'Newspaper', 'Newspaper', 'Newspaper', 'Newspaper', 'Newspaper', 'Newspaper', 'Newspaper', 'Newspaper', 'Newspaper', 'Newspaper', 'Wire Feed']\n",
      "['https://www.proquest.com/anznews/docview/2316805136/1B59CB429BC44ADCPQ/23?accountid=14649', 'https://www.proquest.com/anznews/docview/2407935954/1B59CB429BC44ADCPQ/24?accountid=14649', 'https://www.proquest.com/anznews/docview/2117443572/1B59CB429BC44ADCPQ/25?accountid=14649', 'https://www.proquest.com/anznews/docview/2497358769/66F78F01B3A54505PQ/1?accountid=14649', 'https://www.proquest.com/anznews/docview/2319214307/66F78F01B3A54505PQ/2?accountid=14649', 'https://www.proquest.com/anznews/docview/2212010120/CEC3EBBE0CF243B2PQ/1?accountid=14649', 'https://www.proquest.com/anznews/docview/2646839839/48A7F907A92D460APQ/1?accountid=14649', 'https://www.proquest.com/anznews/docview/357528074/48A7F907A92D460APQ/2?accountid=14649', 'https://www.proquest.com/anznews/docview/356751804/48A7F907A92D460APQ/3?accountid=14649', 'https://www.proquest.com/anznews/docview/356757672/48A7F907A92D460APQ/4?accountid=14649', 'https://www.proquest.com/anznews/docview/2673434440/A0B10D0FBA554864PQ/1?accountid=14649', 'https://www.proquest.com/anznews/docview/2645654633/A0B10D0FBA554864PQ/2?accountid=14649', 'https://www.proquest.com/anznews/docview/2645823476/A0B10D0FBA554864PQ/3?accountid=14649', 'https://www.proquest.com/anznews/docview/2536678197/A0B10D0FBA554864PQ/4?accountid=14649', 'https://www.proquest.com/anznews/docview/2569018194/A0B10D0FBA554864PQ/5?accountid=14649', 'https://www.proquest.com/anznews/docview/2440532900/A0B10D0FBA554864PQ/6?accountid=14649', 'https://www.proquest.com/anznews/docview/2587380733/A0B10D0FBA554864PQ/7?accountid=14649', 'https://www.proquest.com/anznews/docview/2570219526/A0B10D0FBA554864PQ/8?accountid=14649', 'https://www.proquest.com/anznews/docview/2064916956/8564CF0820E4C85PQ/1?accountid=14649', 'https://www.proquest.com/anznews/docview/1283315462/E8681D0958BE452DPQ/1?accountid=14649', 'https://www.proquest.com/anznews/docview/1925233921/E8681D0958BE452DPQ/2?accountid=14649', 'https://www.proquest.com/anznews/docview/365311220/E8681D0958BE452DPQ/3?accountid=14649', 'https://www.proquest.com/anznews/docview/450620570/E8681D0958BE452DPQ/4?accountid=14649', 'https://www.proquest.com/anznews/docview/2116889057/ABEE11568F674EC0PQ/1?accountid=14649', 'https://www.proquest.com/anznews/docview/2064916956/ABEE11568F674EC0PQ/2?accountid=14649', 'https://www.proquest.com/anznews/docview/2032731465/ABEE11568F674EC0PQ/3?accountid=14649', 'https://www.proquest.com/anznews/docview/360558048/ABEE11568F674EC0PQ/4?accountid=14649', 'https://www.proquest.com/anznews/docview/353283985/ABEE11568F674EC0PQ/5?accountid=14649', 'https://www.proquest.com/anznews/docview/353281675/ABEE11568F674EC0PQ/6?accountid=14649', 'https://www.proquest.com/anznews/docview/2116889074/ABEE11568F674EC0PQ/7?accountid=14649', 'https://www.proquest.com/anznews/docview/2260597536/ABEE11568F674EC0PQ/8?accountid=14649', 'https://www.proquest.com/anznews/docview/2266409919/ABEE11568F674EC0PQ/9?accountid=14649', 'https://www.proquest.com/anznews/docview/364241582/ABEE11568F674EC0PQ/10?accountid=14649', 'https://www.proquest.com/anznews/docview/2283125351/ABEE11568F674EC0PQ/11?accountid=14649', 'https://www.proquest.com/anznews/docview/2087628842/ABEE11568F674EC0PQ/12?accountid=14649', 'https://www.proquest.com/anznews/docview/364237753/ABEE11568F674EC0PQ/13?accountid=14649', 'https://www.proquest.com/anznews/docview/2258227565/ABEE11568F674EC0PQ/14?accountid=14649', 'https://www.proquest.com/anznews/docview/2260598357/ABEE11568F674EC0PQ/15?accountid=14649', 'https://www.proquest.com/anznews/docview/2085001753/ABEE11568F674EC0PQ/16?accountid=14649', 'https://www.proquest.com/anznews/docview/2306806732/ABEE11568F674EC0PQ/17?accountid=14649', 'https://www.proquest.com/anznews/docview/1223827274/ABEE11568F674EC0PQ/18?accountid=14649', 'https://www.proquest.com/anznews/docview/1884182185/ABEE11568F674EC0PQ/19?accountid=14649', 'https://www.proquest.com/anznews/docview/2309555222/ABEE11568F674EC0PQ/20?accountid=14649', 'https://www.proquest.com/anznews/docview/2562603202/D8D783C053E244C4PQ/1?accountid=14649', 'https://www.proquest.com/anznews/docview/2562985867/D8D783C053E244C4PQ/2?accountid=14649', 'https://www.proquest.com/anznews/docview/2561713248/D8D783C053E244C4PQ/3?accountid=14649', 'https://www.proquest.com/anznews/docview/2448018118/D8D783C053E244C4PQ/4?accountid=14649', 'https://www.proquest.com/anznews/docview/2448018070/D8D783C053E244C4PQ/5?accountid=14649', 'https://www.proquest.com/anznews/docview/2448220502/D8D783C053E244C4PQ/6?accountid=14649', 'https://www.proquest.com/anznews/docview/2448017778/D8D783C053E244C4PQ/7?accountid=14649', 'https://www.proquest.com/anznews/docview/2448017997/D8D783C053E244C4PQ/8?accountid=14649', 'https://www.proquest.com/anznews/docview/2544976073/D8D783C053E244C4PQ/9?accountid=14649', 'https://www.proquest.com/anznews/docview/1016041527/D8D783C053E244C4PQ/10?accountid=14649', 'https://www.proquest.com/anznews/docview/1016077039/D8D783C053E244C4PQ/11?accountid=14649', 'https://www.proquest.com/anznews/docview/1793936297/B9BC5B4EE44C4223PQ/1?accountid=14649', 'https://www.proquest.com/anznews/docview/1942744099/B9BC5B4EE44C4223PQ/2?accountid=14649', 'https://www.proquest.com/anznews/docview/2071659734/B9BC5B4EE44C4223PQ/3?accountid=14649', 'https://www.proquest.com/anznews/docview/1812923451/B9BC5B4EE44C4223PQ/4?accountid=14649', 'https://www.proquest.com/anznews/docview/1794956723/B9BC5B4EE44C4223PQ/5?accountid=14649', 'https://www.proquest.com/anznews/docview/1440253366/126A99EB618D40A7PQ/1?accountid=14649', 'https://www.proquest.com/anznews/docview/1000439232/126A99EB618D40A7PQ/2?accountid=14649', 'https://www.proquest.com/anznews/docview/1034267728/126A99EB618D40A7PQ/3?accountid=14649', 'https://www.proquest.com/anznews/docview/1115032595/126A99EB618D40A7PQ/4?accountid=14649', 'https://www.proquest.com/anznews/docview/355504805/126A99EB618D40A7PQ/5?accountid=14649', 'https://www.proquest.com/anznews/docview/1496549505/126A99EB618D40A7PQ/6?accountid=14649', 'https://www.proquest.com/anznews/docview/1440916443/126A99EB618D40A7PQ/7?accountid=14649', 'https://www.proquest.com/anznews/docview/1807708706/126A99EB618D40A7PQ/8?accountid=14649', 'https://www.proquest.com/anznews/docview/1932415122/126A99EB618D40A7PQ/9?accountid=14649', 'https://www.proquest.com/anznews/docview/1961859597/126A99EB618D40A7PQ/10?accountid=14649', 'https://www.proquest.com/anznews/docview/1863912476/126A99EB618D40A7PQ/11?accountid=14649', 'https://www.proquest.com/anznews/docview/1956538983/126A99EB618D40A7PQ/12?accountid=14649', 'https://www.proquest.com/anznews/docview/1924264243/126A99EB618D40A7PQ/13?accountid=14649', 'https://www.proquest.com/anznews/docview/1440287137/126A99EB618D40A7PQ/14?accountid=14649', 'https://www.proquest.com/anznews/docview/1861695021/126A99EB618D40A7PQ/15?accountid=14649', 'https://www.proquest.com/anznews/docview/252293377/126A99EB618D40A7PQ/16?accountid=14649', 'https://www.proquest.com/anznews/docview/1850794916/126A99EB618D40A7PQ/17?accountid=14649', 'https://www.proquest.com/anznews/docview/1881134716/126A99EB618D40A7PQ/18?accountid=14649', 'https://www.proquest.com/anznews/docview/855954985/126A99EB618D40A7PQ/19?accountid=14649', 'https://www.proquest.com/anznews/docview/2069450135/126A99EB618D40A7PQ/20?accountid=14649', 'https://www.proquest.com/anznews/docview/1197601598/126A99EB618D40A7PQ/21?accountid=14649', 'https://www.proquest.com/anznews/docview/1936850509/126A99EB618D40A7PQ/22?accountid=14649', 'https://www.proquest.com/anznews/docview/1869560529/126A99EB618D40A7PQ/23?accountid=14649', 'https://www.proquest.com/anznews/docview/1965628309/126A99EB618D40A7PQ/24?accountid=14649', 'https://www.proquest.com/anznews/docview/2048594627/126A99EB618D40A7PQ/25?accountid=14649', 'https://www.proquest.com/anznews/docview/1922194783/126A99EB618D40A7PQ/26?accountid=14649', 'https://www.proquest.com/anznews/docview/2031767728/126A99EB618D40A7PQ/27?accountid=14649', 'https://www.proquest.com/anznews/docview/1816346145/126A99EB618D40A7PQ/28?accountid=14649', 'https://www.proquest.com/anznews/docview/2065445238/126A99EB618D40A7PQ/29?accountid=14649', 'https://www.proquest.com/anznews/docview/1917011921/126A99EB618D40A7PQ/30?accountid=14649', 'https://www.proquest.com/anznews/docview/1989225093/126A99EB618D40A7PQ/31?accountid=14649', 'https://www.proquest.com/anznews/docview/1806243523/126A99EB618D40A7PQ/32?accountid=14649', 'https://www.proquest.com/anznews/docview/1757280893/126A99EB618D40A7PQ/33?accountid=14649', 'https://www.proquest.com/anznews/docview/1781344992/126A99EB618D40A7PQ/34?accountid=14649', 'https://www.proquest.com/anznews/docview/1239031574/126A99EB618D40A7PQ/35?accountid=14649', 'https://www.proquest.com/anznews/docview/1735916523/126A99EB618D40A7PQ/36?accountid=14649', 'https://www.proquest.com/anznews/docview/1442057889/126A99EB618D40A7PQ/37?accountid=14649', 'https://www.proquest.com/anznews/docview/1642434997/126A99EB618D40A7PQ/38?accountid=14649', 'https://www.proquest.com/anznews/docview/356686728/126A99EB618D40A7PQ/39?accountid=14649', 'https://www.proquest.com/anznews/docview/363911119/126A99EB618D40A7PQ/40?accountid=14649', 'https://www.proquest.com/anznews/docview/1735869511/126A99EB618D40A7PQ/41?accountid=14649']\n",
      "['Global Centre for Modern Ageing', 'Global Centre for Modern Ageing', 'Global Centre for Modern Ageing', 'Good Empire', 'Good Empire', 'GP InnoVentures', 'Infravision', 'Infravision', 'Infravision', 'Infravision', 'IO Energy', 'IO Energy', 'IO Energy', 'IO Energy', 'IO Energy', 'IO Energy', 'IO Energy', 'IO Energy', 'Joey Crowd', 'Landmark Media', 'Landmark Media', 'Landmark Media', 'Landmark Media', 'Lateral Vision', 'Lateral Vision', 'Lateral Vision', 'Lateral Vision', 'Lateral Vision', 'Lateral Vision', 'Lateral Vision', 'Lateral Vision', 'Lateral Vision', 'Lateral Vision', 'Lateral Vision', 'Lateral Vision', 'Lateral Vision', 'Lateral Vision', 'Lateral Vision', 'Lateral Vision', 'Lateral Vision', 'Lateral Vision', 'Lateral Vision', 'Lateral Vision', 'LEVO', 'LEVO', 'LEVO', 'LEVO', 'LEVO', 'LEVO', 'LEVO', 'LEVO', 'LEVO', 'LEVO', 'LEVO', 'Link4', 'Link4', 'Link4', 'Link4', 'Link4', 'Luke Jamieson', 'Luke Jamieson', 'Luke Jamieson', 'Luke Jamieson', 'Luke Jamieson', 'Luke Jamieson', 'Luke Jamieson', 'Luke Jamieson', 'Luke Jamieson', 'Luke Jamieson', 'Luke Jamieson', 'Luke Jamieson', 'Luke Jamieson', 'Luke Jamieson', 'Luke Jamieson', 'Luke Jamieson', 'Luke Jamieson', 'Luke Jamieson', 'Luke Jamieson', 'Luke Jamieson', 'Luke Jamieson', 'Luke Jamieson', 'Luke Jamieson', 'Luke Jamieson', 'Luke Jamieson', 'Luke Jamieson', 'Luke Jamieson', 'Luke Jamieson', 'Luke Jamieson', 'Luke Jamieson', 'Luke Jamieson', 'Luke Jamieson', 'Luke Jamieson', 'Luke Jamieson', 'Luke Jamieson', 'Luke Jamieson', 'Luke Jamieson', 'Luke Jamieson', 'Luke Jamieson', 'Luke Jamieson', 'Luke Jamieson']\n"
     ]
    }
   ],
   "source": [
    "print(title_)\n",
    "print(date_)\n",
    "print(publisher_)\n",
    "print(source_type_)\n",
    "print(link_)\n",
    "print(company_)"
   ]
  },
  {
   "cell_type": "code",
   "execution_count": 18,
   "metadata": {
    "ExecuteTime": {
     "end_time": "2022-07-29T04:19:46.812896Z",
     "start_time": "2022-07-29T04:19:46.760901Z"
    }
   },
   "outputs": [],
   "source": [
    "# #first 100:\n",
    "# news_100 = pd.DataFrame()\n",
    "# news_100['company'] = company_\n",
    "# news_100['link'] = link_\n",
    "# news_100['title'] = title_\n",
    "# news_100['date_'] = date_\n",
    "# news_100['publisher_'] = publisher_\n",
    "# news_100['source_type_'] = source_type_\n",
    "\n",
    "# news_100.to_csv(r'C:\\Users\\handy019\\OneDrive - University of South Australia\\Python\\3 webscrapping\\2 newspaper\\news_100.csv', encoding='utf-8', index=None)"
   ]
  },
  {
   "cell_type": "code",
   "execution_count": 22,
   "metadata": {
    "ExecuteTime": {
     "end_time": "2022-07-29T06:54:33.399571Z",
     "start_time": "2022-07-29T06:54:33.387555Z"
    }
   },
   "outputs": [],
   "source": [
    "# #second 100:\n",
    "# news_200 = pd.DataFrame()\n",
    "# news_200['company'] = company_\n",
    "# news_200['link'] = link_\n",
    "# news_200['title'] = title_\n",
    "# news_200['date_'] = date_\n",
    "# news_200['publisher_'] = publisher_\n",
    "# news_200['source_type_'] = source_type_\n",
    "\n",
    "# news_200.to_csv(r'C:\\Users\\handy019\\OneDrive - University of South Australia\\Python\\3 webscrapping\\2 newspaper\\news_200.csv', encoding='utf-8', index=None)"
   ]
  },
  {
   "cell_type": "code",
   "execution_count": 24,
   "metadata": {
    "ExecuteTime": {
     "end_time": "2022-07-30T04:16:33.782829Z",
     "start_time": "2022-07-30T04:16:33.768832Z"
    }
   },
   "outputs": [],
   "source": [
    "# #third 100:\n",
    "# news_300 = pd.DataFrame()\n",
    "# news_300['company'] = company_\n",
    "# news_300['link'] = link_\n",
    "# news_300['title'] = title_\n",
    "# news_300['date_'] = date_\n",
    "# news_300['publisher_'] = publisher_\n",
    "# news_300['source_type_'] = source_type_\n",
    "\n",
    "# news_300.to_csv(r'C:\\Users\\handy019\\OneDrive - University of South Australia\\Python\\3 webscrapping\\2 newspaper\\news_300.csv', encoding='utf-8', index=None)"
   ]
  },
  {
   "cell_type": "code",
   "execution_count": 35,
   "metadata": {
    "ExecuteTime": {
     "end_time": "2022-08-01T01:18:36.217883Z",
     "start_time": "2022-08-01T01:18:36.197890Z"
    }
   },
   "outputs": [],
   "source": [
    "# #fourth 100:\n",
    "# news_400 = pd.DataFrame()\n",
    "# news_400['company'] = company_\n",
    "# news_400['link'] = link_\n",
    "# news_400['title'] = title_\n",
    "# news_400['date_'] = date_\n",
    "# news_400['publisher_'] = publisher_\n",
    "# news_400['source_type_'] = source_type_\n",
    "\n",
    "# news_400.to_csv(r'C:\\Users\\handy019\\OneDrive - University of South Australia\\Python\\3 webscrapping\\2 newspaper\\news_400.csv', encoding='utf-8', index=None)"
   ]
  },
  {
   "cell_type": "code",
   "execution_count": 9,
   "metadata": {
    "ExecuteTime": {
     "end_time": "2022-08-02T01:41:55.986394Z",
     "start_time": "2022-08-02T01:41:55.923389Z"
    }
   },
   "outputs": [],
   "source": [
    "# #fifth 100:\n",
    "# news_500 = pd.DataFrame()\n",
    "# news_500['company'] = company_\n",
    "# news_500['link'] = link_\n",
    "# news_500['title'] = title_\n",
    "# news_500['date_'] = date_\n",
    "# news_500['publisher_'] = publisher_\n",
    "# news_500['source_type_'] = source_type_\n",
    "\n",
    "# news_500.to_csv(r'C:\\Users\\handy019\\OneDrive - University of South Australia\\Python\\3 webscrapping\\2 newspaper\\news_500.csv', encoding='utf-8', index=None)"
   ]
  },
  {
   "cell_type": "code",
   "execution_count": 12,
   "metadata": {
    "ExecuteTime": {
     "end_time": "2022-08-02T06:34:40.194229Z",
     "start_time": "2022-08-02T06:34:40.180198Z"
    }
   },
   "outputs": [],
   "source": [
    "# #sixth 100:\n",
    "# news_600 = pd.DataFrame()\n",
    "# news_600['company'] = company_\n",
    "# news_600['link'] = link_\n",
    "# news_600['title'] = title_\n",
    "# news_600['date_'] = date_\n",
    "# news_600['publisher_'] = publisher_\n",
    "# news_600['source_type_'] = source_type_\n",
    "\n",
    "# news_600.to_csv(r'C:\\Users\\handy019\\OneDrive - University of South Australia\\Python\\3 webscrapping\\2 newspaper\\news_600.csv', encoding='utf-8', index=None)"
   ]
  },
  {
   "cell_type": "code",
   "execution_count": 14,
   "metadata": {
    "ExecuteTime": {
     "end_time": "2022-08-03T00:59:45.051456Z",
     "start_time": "2022-08-03T00:59:45.030440Z"
    }
   },
   "outputs": [],
   "source": [
    "# #seventh 100:\n",
    "# news_700 = pd.DataFrame()\n",
    "# news_700['company'] = company_\n",
    "# news_700['link'] = link_\n",
    "# news_700['title'] = title_\n",
    "# news_700['date_'] = date_\n",
    "# news_700['publisher_'] = publisher_\n",
    "# news_700['source_type_'] = source_type_\n",
    "\n",
    "# news_700.to_csv(r'C:\\Users\\handy019\\OneDrive - University of South Australia\\Python\\3 webscrapping\\2 newspaper\\news_700.csv', encoding='utf-8', index=None)"
   ]
  },
  {
   "cell_type": "code",
   "execution_count": 36,
   "metadata": {
    "ExecuteTime": {
     "end_time": "2022-08-03T06:53:21.769414Z",
     "start_time": "2022-08-03T06:53:21.749416Z"
    }
   },
   "outputs": [],
   "source": [
    "# #eighth 100:\n",
    "# news_800 = pd.DataFrame()\n",
    "# news_800['company'] = company_\n",
    "# news_800['link'] = link_\n",
    "# news_800['title'] = title_\n",
    "# news_800['date_'] = date_\n",
    "# news_800['publisher_'] = publisher_\n",
    "# news_800['source_type_'] = source_type_\n",
    "\n",
    "# news_800.to_csv(r'C:\\Users\\handy019\\OneDrive - University of South Australia\\Python\\3 webscrapping\\2 newspaper\\news_800.csv', encoding='utf-8', index=None)"
   ]
  },
  {
   "cell_type": "code",
   "execution_count": 42,
   "metadata": {
    "ExecuteTime": {
     "end_time": "2022-08-04T00:42:39.491044Z",
     "start_time": "2022-08-04T00:42:39.471047Z"
    }
   },
   "outputs": [],
   "source": [
    "# #nineth 100:\n",
    "# news_900 = pd.DataFrame()\n",
    "# news_900['company'] = company_\n",
    "# news_900['link'] = link_\n",
    "# news_900['title'] = title_\n",
    "# news_900['date_'] = date_\n",
    "# news_900['publisher_'] = publisher_\n",
    "# news_900['source_type_'] = source_type_\n",
    "\n",
    "# news_900.to_csv(r'C:\\Users\\handy019\\OneDrive - University of South Australia\\Python\\3 webscrapping\\2 newspaper\\news_900.csv', encoding='utf-8', index=None)"
   ]
  },
  {
   "cell_type": "code",
   "execution_count": 45,
   "metadata": {
    "ExecuteTime": {
     "end_time": "2022-08-04T05:58:23.104329Z",
     "start_time": "2022-08-04T05:58:23.081337Z"
    }
   },
   "outputs": [],
   "source": [
    "#tenth 100:\n",
    "news_1000 = pd.DataFrame()\n",
    "news_1000['company'] = company_\n",
    "news_1000['link'] = link_\n",
    "news_1000['title'] = title_\n",
    "news_1000['date_'] = date_\n",
    "news_1000['publisher_'] = publisher_\n",
    "news_1000['source_type_'] = source_type_\n",
    "\n",
    "news_1000.to_csv(r'C:\\Users\\handy019\\OneDrive - University of South Australia\\Python\\3 webscrapping\\2 newspaper\\news_1000.csv', encoding='utf-8', index=None)"
   ]
  },
  {
   "cell_type": "code",
   "execution_count": null,
   "metadata": {},
   "outputs": [],
   "source": []
  }
 ],
 "metadata": {
  "hide_input": false,
  "kernelspec": {
   "display_name": "Python 3 (ipykernel)",
   "language": "python",
   "name": "python3"
  },
  "language_info": {
   "codemirror_mode": {
    "name": "ipython",
    "version": 3
   },
   "file_extension": ".py",
   "mimetype": "text/x-python",
   "name": "python",
   "nbconvert_exporter": "python",
   "pygments_lexer": "ipython3",
   "version": "3.11.4"
  },
  "toc": {
   "base_numbering": 1,
   "nav_menu": {},
   "number_sections": true,
   "sideBar": true,
   "skip_h1_title": false,
   "title_cell": "Table of Contents",
   "title_sidebar": "Contents",
   "toc_cell": false,
   "toc_position": {},
   "toc_section_display": true,
   "toc_window_display": false
  }
 },
 "nbformat": 4,
 "nbformat_minor": 4
}
