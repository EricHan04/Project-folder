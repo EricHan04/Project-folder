{
 "cells": [
  {
   "cell_type": "code",
   "execution_count": 1,
   "id": "67188079",
   "metadata": {
    "ExecuteTime": {
     "end_time": "2023-11-29T02:58:25.929853Z",
     "start_time": "2023-11-29T02:58:20.138508Z"
    }
   },
   "outputs": [],
   "source": [
    "import pandas as pd\n",
    "import numpy as np\n",
    "from transformers import AutoModelForSequenceClassification, AutoTokenizer, pipeline\n",
    "import re\n",
    "# Load model & tokenizer\n",
    "\n",
    "bart_model = AutoModelForSequenceClassification.from_pretrained(\n",
    "    'navteca_bart_large_mnli'\n",
    ")\n",
    "\n",
    "bart_tokenizer = AutoTokenizer.from_pretrained(\n",
    "    'navteca_bart_large_mnli'\n",
    ")\n",
    "\n",
    "nlp = pipeline('zero-shot-classification',\n",
    "               model=bart_model,\n",
    "               tokenizer=bart_tokenizer)"
   ]
  },
  {
   "cell_type": "code",
   "execution_count": 2,
   "id": "7663d2cd",
   "metadata": {
    "ExecuteTime": {
     "end_time": "2023-11-29T02:58:25.934756Z",
     "start_time": "2023-11-29T02:58:25.930857Z"
    }
   },
   "outputs": [],
   "source": [
    "labels = [\n",
    "    'sport', 'lifestyle', 'entertainment', 'technology', 'politics',\n",
    "    'finance', 'weather', 'business']"
   ]
  },
  {
   "cell_type": "code",
   "execution_count": 3,
   "id": "6c0a163b",
   "metadata": {
    "ExecuteTime": {
     "end_time": "2023-11-29T02:58:25.977230Z",
     "start_time": "2023-11-29T02:58:25.936746Z"
    }
   },
   "outputs": [],
   "source": [
    "df1 = pd.read_csv(r'linkedin post/post_text_first40.csv', encoding='iso-8859-1')\n",
    "df2 = pd.read_csv(r'linkedin post/post_text_40_52.csv', encoding='iso-8859-1')\n",
    "df3 = pd.read_csv(r'linkedin post/post_text_54_83.csv', encoding='iso-8859-1')"
   ]
  },
  {
   "cell_type": "code",
   "execution_count": 4,
   "id": "665604e5",
   "metadata": {
    "ExecuteTime": {
     "end_time": "2023-11-29T02:58:25.984705Z",
     "start_time": "2023-11-29T02:58:25.979224Z"
    }
   },
   "outputs": [],
   "source": [
    "df = pd.concat([df1,df2,df3], ignore_index=True)"
   ]
  },
  {
   "cell_type": "code",
   "execution_count": 5,
   "id": "063d6249",
   "metadata": {
    "ExecuteTime": {
     "end_time": "2023-11-29T02:58:25.990131Z",
     "start_time": "2023-11-29T02:58:25.985691Z"
    }
   },
   "outputs": [],
   "source": [
    "def cleanText(text):\n",
    "#     text = re.sub(r'@[A-Za-z0-9:_]+', '', text)  # remove @mensions\n",
    "    text = re.sub(r'#', ' ', text)  # remove '#'\n",
    "    text = re.sub(r'&amp;', ' ', text)\n",
    "#     text = re.sub(r'RT[\\s]+', '', text)  # remove RT\n",
    "    text = re.sub(r'https?:\\/\\/\\S+', ' ', text)  # remove the hyper link\n",
    "    emoji_pattern = re.compile(\"[\"\n",
    "        u\"\\U0001F600-\\U0001F64F\"  # emoticons\n",
    "        u\"\\U0001F300-\\U0001F5FF\"  # symbols & pictographs\n",
    "        u\"\\U0001F680-\\U0001F6FF\"  # transport & map symbols\n",
    "        u\"\\U0001F1E0-\\U0001F1FF\"  # flags (iOS)\n",
    "                           \"]+\", flags=re.UNICODE)\n",
    "    text = emoji_pattern.sub(r' ', text) # remove emoji\n",
    "    text = re.sub(r'[.,\"\\'?:!;]', ' ', text)  # remove punctions\n",
    "    text = re.sub(u\"([^\\u0041-\\u005a\\u0061-\\u007a\\u0020\\u0027])\", ' ', text)  # just keep words, spaces and single quote\n",
    "    return text\n",
    "\n",
    "def join_string(file):\n",
    "    text = str()\n",
    "    for line in file:\n",
    "        #     print(line)\n",
    "        if line.find('Word count') != -1:\n",
    "            pass\n",
    "        elif line.find('CREDIT:') != -1:\n",
    "            pass\n",
    "        else:\n",
    "            text = text + \" \" + line.strip('\\n ')\n",
    "    \n",
    "    return text"
   ]
  },
  {
   "cell_type": "code",
   "execution_count": 6,
   "id": "78dc4d0e",
   "metadata": {
    "ExecuteTime": {
     "end_time": "2023-11-29T02:58:26.069113Z",
     "start_time": "2023-11-29T02:58:25.991122Z"
    }
   },
   "outputs": [],
   "source": [
    "df['post_cleaned'] = df['post'].apply(lambda x: cleanText(x))"
   ]
  },
  {
   "cell_type": "code",
   "execution_count": 7,
   "id": "9b24efe7",
   "metadata": {
    "ExecuteTime": {
     "end_time": "2023-11-29T02:59:02.711738Z",
     "start_time": "2023-11-29T02:58:26.070104Z"
    },
    "scrolled": true
   },
   "outputs": [
    {
     "name": "stdout",
     "output_type": "stream",
     "text": [
      "0\n",
      "Accede\n",
      "1\n",
      "Accede\n",
      "2\n",
      "Accede\n",
      "3\n",
      "Accede\n",
      "4\n",
      "Accede\n",
      "5\n",
      "Accede\n",
      "6\n",
      "Accede\n",
      "7\n",
      "Accede\n",
      "8\n",
      "Adaptivews\n",
      "9\n",
      "Adaptivews\n"
     ]
    }
   ],
   "source": [
    "out_labels = []\n",
    "out_scores = []\n",
    "\n",
    "for i in range(10):\n",
    "    print(i)\n",
    "    print(df['company'].loc[i])\n",
    "    try:\n",
    "        out_labels.append(nlp(df['post_cleaned'].loc[i], labels)['labels'])\n",
    "        out_scores.append(nlp(df['post_cleaned'].loc[i], labels)['scores'])\n",
    "        \n",
    "    except:\n",
    "        out_labels.append(np.nan)\n",
    "        out_scores.append(np.nan)\n",
    "        "
   ]
  },
  {
   "cell_type": "code",
   "execution_count": 44,
   "id": "53ab93af",
   "metadata": {
    "ExecuteTime": {
     "end_time": "2023-11-29T03:05:44.906035Z",
     "start_time": "2023-11-29T03:05:44.900259Z"
    },
    "collapsed": true
   },
   "outputs": [
    {
     "name": "stderr",
     "output_type": "stream",
     "text": [
      "C:\\Users\\EricHan\\AppData\\Local\\Temp\\ipykernel_15584\\4166367199.py:4: FutureWarning: Setting an item of incompatible dtype is deprecated and will raise in a future error of pandas. Value '['technology-business-entertainment-weather-lifestyle-finance-sport-politics', 'technology-business-entertainment-lifestyle-sport-finance-weather-politics', 'entertainment-business-lifestyle-sport-technology-weather-finance-politics', 'business-technology-entertainment-lifestyle-sport-weather-finance-politics', 'technology-business-entertainment-lifestyle-weather-finance-sport-politics', 'technology-business-sport-finance-entertainment-lifestyle-weather-politics', 'technology-business-entertainment-lifestyle-finance-weather-sport-politics', 'business-technology-lifestyle-entertainment-finance-weather-sport-politics', 'business-weather-entertainment-lifestyle-technology-finance-politics-sport', 'business-sport-lifestyle-weather-entertainment-technology-finance-politics']' has dtype incompatible with float64, please explicitly cast to a compatible dtype first.\n",
      "  df.loc[df.index<10 , 'labels'] = ['-'.join(x) for x in out_labels]\n",
      "C:\\Users\\EricHan\\AppData\\Local\\Temp\\ipykernel_15584\\4166367199.py:5: FutureWarning: Setting an item of incompatible dtype is deprecated and will raise in a future error of pandas. Value '['0.49432799220085144-0.39122918248176575-0.06852279603481293-0.018376963213086128-0.01006491668522358-0.006216653622686863-0.005732850171625614-0.00552864745259285', '0.9520650506019592-0.030149126425385475-0.006667523179203272-0.003414466045796871-0.0026211219374090433-0.0018599877366796136-0.0017504538409411907-0.0014722344931215048', '0.7119021415710449-0.07489857077598572-0.06764445453882217-0.04049098864197731-0.0335264578461647-0.03151998296380043-0.025759952142834663-0.014257497154176235', '0.38250723481178284-0.18155668675899506-0.1408931314945221-0.1273154616355896-0.07091284543275833-0.04321512207388878-0.02983061969280243-0.02376886084675789', '0.7368465065956116-0.0619891993701458-0.05776633322238922-0.04606534168124199-0.028859930112957954-0.025631511583924294-0.023388706147670746-0.01945246011018753', '0.5515953302383423-0.31891873478889465-0.02894175611436367-0.027666516602039337-0.026644283905625343-0.026441192254424095-0.011669138446450233-0.008123033680021763', '0.2992722690105438-0.19200578331947327-0.16439242660999298-0.09843436628580093-0.07289151102304459-0.07202093303203583-0.05728313699364662-0.04369952902197838', '0.7629991769790649-0.0767538845539093-0.044637154787778854-0.04234302043914795-0.028759976848959923-0.0181463360786438-0.014809449203312397-0.011551008559763432', '0.39024609327316284-0.13866689801216125-0.11588571965694427-0.10126165300607681-0.07938069850206375-0.06441878527402878-0.0583074651658535-0.05183267220854759', '0.28172406554222107-0.2065666913986206-0.15423846244812012-0.11354108154773712-0.09690079838037491-0.08546881377696991-0.03435095399618149-0.027209145948290825']' has dtype incompatible with float64, please explicitly cast to a compatible dtype first.\n",
      "  df.loc[df.index<10 , 'scores'] = ['-'.join([str(y) for y in x]) for x in out_scores]\n"
     ]
    }
   ],
   "source": [
    "df['labels'] = np.nan\n",
    "df['scores'] = np.nan\n",
    "\n",
    "df.loc[df.index<10 , 'labels'] = ['-'.join(x) for x in out_labels]\n",
    "df.loc[df.index<10 , 'scores'] = ['-'.join([str(y) for y in x]) for x in out_scores]"
   ]
  },
  {
   "cell_type": "code",
   "execution_count": 45,
   "id": "3dc969a8",
   "metadata": {
    "ExecuteTime": {
     "end_time": "2023-11-29T03:05:52.589600Z",
     "start_time": "2023-11-29T03:05:52.578977Z"
    }
   },
   "outputs": [
    {
     "data": {
      "text/html": [
       "<div>\n",
       "<style scoped>\n",
       "    .dataframe tbody tr th:only-of-type {\n",
       "        vertical-align: middle;\n",
       "    }\n",
       "\n",
       "    .dataframe tbody tr th {\n",
       "        vertical-align: top;\n",
       "    }\n",
       "\n",
       "    .dataframe thead th {\n",
       "        text-align: right;\n",
       "    }\n",
       "</style>\n",
       "<table border=\"1\" class=\"dataframe\">\n",
       "  <thead>\n",
       "    <tr style=\"text-align: right;\">\n",
       "      <th></th>\n",
       "      <th>company</th>\n",
       "      <th>post_time</th>\n",
       "      <th>date_retrived</th>\n",
       "      <th>post</th>\n",
       "      <th>reaction_count</th>\n",
       "      <th>repost</th>\n",
       "      <th>post_cleaned</th>\n",
       "      <th>labels</th>\n",
       "      <th>scores</th>\n",
       "    </tr>\n",
       "  </thead>\n",
       "  <tbody>\n",
       "    <tr>\n",
       "      <th>0</th>\n",
       "      <td>Accede</td>\n",
       "      <td>2mo</td>\n",
       "      <td>2022-06-06</td>\n",
       "      <td>As a South Australian owned and operated compa...</td>\n",
       "      <td>2</td>\n",
       "      <td>0</td>\n",
       "      <td>As a South Australian owned and operated compa...</td>\n",
       "      <td>technology-business-entertainment-weather-life...</td>\n",
       "      <td>0.49432799220085144-0.39122918248176575-0.0685...</td>\n",
       "    </tr>\n",
       "    <tr>\n",
       "      <th>1</th>\n",
       "      <td>Accede</td>\n",
       "      <td>3mo</td>\n",
       "      <td>2022-06-06</td>\n",
       "      <td>Revolutionised Hospital Nutrition System Softw...</td>\n",
       "      <td>3</td>\n",
       "      <td>0</td>\n",
       "      <td>Revolutionised Hospital Nutrition System Softw...</td>\n",
       "      <td>technology-business-entertainment-lifestyle-sp...</td>\n",
       "      <td>0.9520650506019592-0.030149126425385475-0.0066...</td>\n",
       "    </tr>\n",
       "    <tr>\n",
       "      <th>2</th>\n",
       "      <td>Accede</td>\n",
       "      <td>1mo</td>\n",
       "      <td>2022-06-06</td>\n",
       "      <td>Wishing all our clients and everyone a very ha...</td>\n",
       "      <td>3</td>\n",
       "      <td>0</td>\n",
       "      <td>Wishing all our clients and everyone a very ha...</td>\n",
       "      <td>entertainment-business-lifestyle-sport-technol...</td>\n",
       "      <td>0.7119021415710449-0.07489857077598572-0.06764...</td>\n",
       "    </tr>\n",
       "    <tr>\n",
       "      <th>3</th>\n",
       "      <td>Accede</td>\n",
       "      <td>2mo</td>\n",
       "      <td>2022-06-06</td>\n",
       "      <td>Meet our duo Twin Junior Developers Nic &amp; Jon ...</td>\n",
       "      <td>2</td>\n",
       "      <td>0</td>\n",
       "      <td>Meet our duo Twin Junior Developers Nic   Jon ...</td>\n",
       "      <td>business-technology-entertainment-lifestyle-sp...</td>\n",
       "      <td>0.38250723481178284-0.18155668675899506-0.1408...</td>\n",
       "    </tr>\n",
       "    <tr>\n",
       "      <th>4</th>\n",
       "      <td>Accede</td>\n",
       "      <td>3mo</td>\n",
       "      <td>2022-06-06</td>\n",
       "      <td>Imagine having software that can fully customi...</td>\n",
       "      <td>1</td>\n",
       "      <td>0</td>\n",
       "      <td>Imagine having software that can fully customi...</td>\n",
       "      <td>technology-business-entertainment-lifestyle-we...</td>\n",
       "      <td>0.7368465065956116-0.0619891993701458-0.057766...</td>\n",
       "    </tr>\n",
       "  </tbody>\n",
       "</table>\n",
       "</div>"
      ],
      "text/plain": [
       "  company post_time date_retrived  \\\n",
       "0  Accede       2mo    2022-06-06   \n",
       "1  Accede       3mo    2022-06-06   \n",
       "2  Accede       1mo    2022-06-06   \n",
       "3  Accede       2mo    2022-06-06   \n",
       "4  Accede       3mo    2022-06-06   \n",
       "\n",
       "                                                post reaction_count  repost  \\\n",
       "0  As a South Australian owned and operated compa...              2       0   \n",
       "1  Revolutionised Hospital Nutrition System Softw...              3       0   \n",
       "2  Wishing all our clients and everyone a very ha...              3       0   \n",
       "3  Meet our duo Twin Junior Developers Nic & Jon ...              2       0   \n",
       "4  Imagine having software that can fully customi...              1       0   \n",
       "\n",
       "                                        post_cleaned  \\\n",
       "0  As a South Australian owned and operated compa...   \n",
       "1  Revolutionised Hospital Nutrition System Softw...   \n",
       "2  Wishing all our clients and everyone a very ha...   \n",
       "3  Meet our duo Twin Junior Developers Nic   Jon ...   \n",
       "4  Imagine having software that can fully customi...   \n",
       "\n",
       "                                              labels  \\\n",
       "0  technology-business-entertainment-weather-life...   \n",
       "1  technology-business-entertainment-lifestyle-sp...   \n",
       "2  entertainment-business-lifestyle-sport-technol...   \n",
       "3  business-technology-entertainment-lifestyle-sp...   \n",
       "4  technology-business-entertainment-lifestyle-we...   \n",
       "\n",
       "                                              scores  \n",
       "0  0.49432799220085144-0.39122918248176575-0.0685...  \n",
       "1  0.9520650506019592-0.030149126425385475-0.0066...  \n",
       "2  0.7119021415710449-0.07489857077598572-0.06764...  \n",
       "3  0.38250723481178284-0.18155668675899506-0.1408...  \n",
       "4  0.7368465065956116-0.0619891993701458-0.057766...  "
      ]
     },
     "execution_count": 45,
     "metadata": {},
     "output_type": "execute_result"
    }
   ],
   "source": [
    "df.head()"
   ]
  },
  {
   "cell_type": "code",
   "execution_count": null,
   "id": "bb3b327e",
   "metadata": {
    "ExecuteTime": {
     "end_time": "2023-11-29T02:59:03.831645Z",
     "start_time": "2023-11-29T02:59:03.831645Z"
    }
   },
   "outputs": [],
   "source": [
    "# df.to_csv(r'linkedin post with labels.csv', encoding='utf-8', index=None)"
   ]
  },
  {
   "cell_type": "code",
   "execution_count": null,
   "id": "e88cc650",
   "metadata": {},
   "outputs": [],
   "source": []
  }
 ],
 "metadata": {
  "hide_input": false,
  "kernelspec": {
   "display_name": "Python 3 (ipykernel)",
   "language": "python",
   "name": "python3"
  },
  "language_info": {
   "codemirror_mode": {
    "name": "ipython",
    "version": 3
   },
   "file_extension": ".py",
   "mimetype": "text/x-python",
   "name": "python",
   "nbconvert_exporter": "python",
   "pygments_lexer": "ipython3",
   "version": "3.11.4"
  },
  "toc": {
   "base_numbering": 1,
   "nav_menu": {},
   "number_sections": true,
   "sideBar": false,
   "skip_h1_title": false,
   "title_cell": "Table of Contents",
   "title_sidebar": "Contents",
   "toc_cell": false,
   "toc_position": {},
   "toc_section_display": true,
   "toc_window_display": false
  }
 },
 "nbformat": 4,
 "nbformat_minor": 5
}
