{
 "cells": [
  {
   "cell_type": "code",
   "execution_count": 1,
   "metadata": {
    "ExecuteTime": {
     "end_time": "2022-09-14T05:47:16.584844Z",
     "start_time": "2022-09-14T05:47:16.581998Z"
    }
   },
   "outputs": [],
   "source": [
    "# import transformers\n",
    "\n",
    "# classifier = transformers.pipeline('zero-shot-classification', model='facebook/bart-large-mnli')\n",
    "\n",
    "# sequence= 'i can perform article'\n",
    "# labels = ['writting', 'management', 'checking']\n",
    "# classifier(sequence, labels)"
   ]
  },
  {
   "cell_type": "code",
   "execution_count": 2,
   "metadata": {
    "ExecuteTime": {
     "end_time": "2022-09-14T05:47:16.759005Z",
     "start_time": "2022-09-14T05:47:16.755673Z"
    }
   },
   "outputs": [],
   "source": [
    "# from transformers import AutoTokenizer, AutoModelForSequenceClassification\n",
    "# import torch\n",
    "# device = torch.device(\"cuda\") if torch.cuda.is_available() else torch.device(\"cpu\")\n",
    "\n",
    "# model_name = \"MoritzLaurer/DeBERTa-v3-large-mnli-fever-anli-ling-wanli\"\n",
    "# tokenizer = AutoTokenizer.from_pretrained(model_name)\n",
    "# model = AutoModelForSequenceClassification.from_pretrained(model_name)\n",
    "\n",
    "# premise = \"I first thought that I liked the movie, but upon second thought it was actually disappointing.\"\n",
    "# hypothesis = \"The movie was not good.\"\n",
    "\n",
    "# input = tokenizer(premise, hypothesis, truncation=True, return_tensors=\"pt\")\n",
    "# output = model(input[\"input_ids\"].to(device))  # device = \"cuda:0\" or \"cpu\"\n",
    "# prediction = torch.softmax(output[\"logits\"][0], -1).tolist()\n",
    "# label_names = [\"entailment\", \"neutral\", \"contradiction\"]\n",
    "# prediction = {name: round(float(pred) * 100, 1) for pred, name in zip(prediction, label_names)}\n",
    "# print(prediction)"
   ]
  },
  {
   "cell_type": "code",
   "execution_count": 3,
   "metadata": {
    "ExecuteTime": {
     "end_time": "2022-09-21T01:24:48.445827Z",
     "start_time": "2022-09-21T01:24:39.804348Z"
    }
   },
   "outputs": [],
   "source": [
    "from transformers import AutoModelForSequenceClassification, AutoTokenizer, pipeline\n",
    "import re\n",
    "# Load model & tokenizer\n",
    "\n",
    "bart_model = AutoModelForSequenceClassification.from_pretrained(\n",
    "    '/mnt/c/Users/duchi/OneDrive - University of South Australia/Python/3 webscrapping/4 do it again/zero-shot classification/navteca_bart_large_mnli'\n",
    ")\n",
    "\n",
    "bart_tokenizer = AutoTokenizer.from_pretrained(\n",
    "    '/mnt/c/Users/duchi/OneDrive - University of South Australia/Python/3 webscrapping/4 do it again/zero-shot classification/navteca_bart_large_mnli'\n",
    ")\n",
    "\n",
    "nlp = pipeline('zero-shot-classification',\n",
    "               model=bart_model,\n",
    "               tokenizer=bart_tokenizer)\n",
    "\n",
    "# # Get predictions\n",
    "\n",
    "# sequence = 'i can perform article'\n",
    "# labels = ['writting', 'management', 'checking']\n",
    "# nlp(sequence, labels)"
   ]
  },
  {
   "cell_type": "code",
   "execution_count": 21,
   "metadata": {
    "ExecuteTime": {
     "end_time": "2022-09-14T06:49:21.500740Z",
     "start_time": "2022-09-14T06:49:09.523856Z"
    },
    "collapsed": true
   },
   "outputs": [
    {
     "data": {
      "text/plain": [
       "{'sequence': 'A package has exploded on the campus of Northeastern University in Boston injuring a staffer Authorities say another suspicious package was found near the city’s Museum of Fine Arts on the outskirts of campus The FBI is aiding the investigation',\n",
       " 'labels': ['news',\n",
       "  'emergency',\n",
       "  'emission',\n",
       "  'firm',\n",
       "  'company',\n",
       "  'renewable',\n",
       "  'economy',\n",
       "  'innovation',\n",
       "  'technology',\n",
       "  'machine learning',\n",
       "  'movie',\n",
       "  'finance',\n",
       "  'startup',\n",
       "  'sport',\n",
       "  'politics',\n",
       "  'fashion'],\n",
       " 'scores': [0.4491525888442993,\n",
       "  0.15918049216270447,\n",
       "  0.15562798082828522,\n",
       "  0.0716843530535698,\n",
       "  0.06330427527427673,\n",
       "  0.01847311481833458,\n",
       "  0.01707402803003788,\n",
       "  0.015423877164721489,\n",
       "  0.014309453777968884,\n",
       "  0.011429241858422756,\n",
       "  0.005095410160720348,\n",
       "  0.004265937954187393,\n",
       "  0.00417352607473731,\n",
       "  0.004095293581485748,\n",
       "  0.0036844597198069096,\n",
       "  0.0030259834602475166]}"
      ]
     },
     "execution_count": 21,
     "metadata": {},
     "output_type": "execute_result"
    }
   ],
   "source": [
    "# sequence = \"A package has exploded on the campus of Northeastern University in Boston injuring a staffer Authorities say another suspicious package was found near the city’s Museum of Fine Arts on the outskirts of campus The FBI is aiding the investigation\"\n",
    "# labels = [\n",
    "#     \"renewable\", \"politics\", \"emission\", \"sport\", \"emergency\", \"innovation\",\n",
    "#     \"technology\", \"startup\", \"machine learning\", \"firm\", \"company\", \"news\",\n",
    "#     \"finance\", \"economy\", \"fashion\", \"movie\"\n",
    "# ]\n",
    "# nlp(sequence, labels)"
   ]
  },
  {
   "cell_type": "code",
   "execution_count": 4,
   "metadata": {
    "ExecuteTime": {
     "end_time": "2022-09-21T01:24:17.471571Z",
     "start_time": "2022-09-21T01:24:17.465154Z"
    },
    "code_folding": [
     0,
     17
    ]
   },
   "outputs": [],
   "source": [
    "def cleanText(text):\n",
    "#     text = re.sub(r'@[A-Za-z0-9:_]+', '', text)  # remove @mensions\n",
    "    text = re.sub(r'#', ' ', text)  # remove '#'\n",
    "    text = re.sub(r'&amp;', ' ', text)\n",
    "#     text = re.sub(r'RT[\\s]+', '', text)  # remove RT\n",
    "    text = re.sub(r'https?:\\/\\/\\S+', ' ', text)  # remove the hyper link\n",
    "    emoji_pattern = re.compile(\"[\"\n",
    "        u\"\\U0001F600-\\U0001F64F\"  # emoticons\n",
    "        u\"\\U0001F300-\\U0001F5FF\"  # symbols & pictographs\n",
    "        u\"\\U0001F680-\\U0001F6FF\"  # transport & map symbols\n",
    "        u\"\\U0001F1E0-\\U0001F1FF\"  # flags (iOS)\n",
    "                           \"]+\", flags=re.UNICODE)\n",
    "    text = emoji_pattern.sub(r' ', text) # remove emoji\n",
    "    text = re.sub(r'[.,\"\\'?:!;]', ' ', text)  # remove punctions\n",
    "    text = re.sub(u\"([^\\u0041-\\u005a\\u0061-\\u007a\\u0020\\u0027])\", ' ', text)  # just keep words, spaces and single quote\n",
    "    return text\n",
    "\n",
    "def join_string(file):\n",
    "    text = str()\n",
    "    for line in file:\n",
    "        #     print(line)\n",
    "        if line.find('Word count') != -1:\n",
    "            pass\n",
    "        elif line.find('CREDIT:') != -1:\n",
    "            pass\n",
    "        else:\n",
    "            text = text + \" \" + line.strip('\\n ')\n",
    "    \n",
    "    return text"
   ]
  },
  {
   "cell_type": "code",
   "execution_count": 5,
   "metadata": {
    "ExecuteTime": {
     "end_time": "2022-09-21T01:27:11.141009Z",
     "start_time": "2022-09-21T01:27:11.129444Z"
    }
   },
   "outputs": [
    {
     "name": "stdout",
     "output_type": "stream",
     "text": [
      " TECHNOLOGY developed in Adelaide is helping relatives keep tabs on vulnerable elderly family members in care  In the wake of the Oakden and other aged care scandals the link s creator says it can give families peace of mind while allowing care teams to better monitor people in residential care and receiving home care  CareApp is a smartphone app allowing carers to photograph  with permission  people in care while updating their records  noting anything from physical and mood changes through to whether they are taking medication  even if they are washing regularly  Family members can view the information on their smartphones  CareApp founder Allison Nikula said the app could help avoid a repeat of recent aged care scandals  and noted the use by multiple carers would help ensure no single carer can cover up signs of problems  Ms Nikula is an occupational therapist and graduate of Business SA s SA Young Entrepreneur Scheme who previously led a team of more than     community care workers at an aged care provider  The technology has been trialled by St Louis Home Care since January last year and is being rolled out to its more than     clients and their families across Adelaide and Victor Harbor and in its Parkside nursing home  It also is being piloted by three Meals on Wheels branches in NSW   We are bridging the knowledge gap between a family member  their loved one  the carer and aged care provider   Ms Nikula said Debbie Bain uses the app to receive regular updates on her aunt Mary Barnes at the St Louis Nursing Home at Parkside   It s not always easy to visit as much as we d like  but with this technology we feel like we can be part of her day  \n"
     ]
    }
   ],
   "source": [
    "file = open(\n",
    "    r'/mnt/c/Users/duchi/OneDrive - University of South Australia/Python/3 webscrapping/2 newspaper/proquest text/{}.txt'\n",
    "    .format(197),\n",
    "    encoding=\"utf8\")\n",
    "\n",
    "text = cleanText(join_string(file))\n",
    "print(text)"
   ]
  },
  {
   "cell_type": "code",
   "execution_count": 6,
   "metadata": {
    "ExecuteTime": {
     "end_time": "2022-09-21T01:24:48.483566Z",
     "start_time": "2022-09-21T01:24:48.479306Z"
    }
   },
   "outputs": [],
   "source": [
    "labels = [\n",
    "    'sport', 'lifestyle', 'entertainment', 'technology', 'politics',\n",
    "    'finance', 'weather', 'business']"
   ]
  },
  {
   "cell_type": "code",
   "execution_count": 7,
   "metadata": {
    "ExecuteTime": {
     "end_time": "2022-09-21T01:27:39.833892Z",
     "start_time": "2022-09-21T01:27:19.942431Z"
    }
   },
   "outputs": [
    {
     "data": {
      "text/plain": [
       "{'sequence': ' TECHNOLOGY developed in Adelaide is helping relatives keep tabs on vulnerable elderly family members in care  In the wake of the Oakden and other aged care scandals the link s creator says it can give families peace of mind while allowing care teams to better monitor people in residential care and receiving home care  CareApp is a smartphone app allowing carers to photograph  with permission  people in care while updating their records  noting anything from physical and mood changes through to whether they are taking medication  even if they are washing regularly  Family members can view the information on their smartphones  CareApp founder Allison Nikula said the app could help avoid a repeat of recent aged care scandals  and noted the use by multiple carers would help ensure no single carer can cover up signs of problems  Ms Nikula is an occupational therapist and graduate of Business SA s SA Young Entrepreneur Scheme who previously led a team of more than     community care workers at an aged care provider  The technology has been trialled by St Louis Home Care since January last year and is being rolled out to its more than     clients and their families across Adelaide and Victor Harbor and in its Parkside nursing home  It also is being piloted by three Meals on Wheels branches in NSW   We are bridging the knowledge gap between a family member  their loved one  the carer and aged care provider   Ms Nikula said Debbie Bain uses the app to receive regular updates on her aunt Mary Barnes at the St Louis Nursing Home at Parkside   It s not always easy to visit as much as we d like  but with this technology we feel like we can be part of her day  ',\n",
       " 'labels': ['technology',\n",
       "  'business',\n",
       "  'lifestyle',\n",
       "  'weather',\n",
       "  'entertainment',\n",
       "  'politics',\n",
       "  'sport',\n",
       "  'finance'],\n",
       " 'scores': [0.9036911129951477,\n",
       "  0.04756156727671623,\n",
       "  0.02675454318523407,\n",
       "  0.005406454671174288,\n",
       "  0.005317004397511482,\n",
       "  0.0038514912594109774,\n",
       "  0.003843081183731556,\n",
       "  0.00357470172457397]}"
      ]
     },
     "execution_count": 7,
     "metadata": {},
     "output_type": "execute_result"
    }
   ],
   "source": [
    "nlp(text, labels)"
   ]
  },
  {
   "cell_type": "code",
   "execution_count": 14,
   "metadata": {
    "ExecuteTime": {
     "end_time": "2022-09-21T01:50:20.212791Z",
     "start_time": "2022-09-21T01:50:02.062510Z"
    }
   },
   "outputs": [
    {
     "data": {
      "text/plain": [
       "{'sequence': ' TECHNOLOGY developed in Adelaide is helping relatives keep tabs on vulnerable elderly family members in care  In the wake of the Oakden and other aged care scandals the link s creator says it can give families peace of mind while allowing care teams to better monitor people in residential care and receiving home care  CareApp is a smartphone app allowing carers to photograph  with permission  people in care while updating their records  noting anything from physical and mood changes through to whether they are taking medication  even if they are washing regularly  Family members can view the information on their smartphones  CareApp founder Allison Nikula said the app could help avoid a repeat of recent aged care scandals  and noted the use by multiple carers would help ensure no single carer can cover up signs of problems  Ms Nikula is an occupational therapist and graduate of Business SA s SA Young Entrepreneur Scheme who previously led a team of more than     community care workers at an aged care provider  The technology has been trialled by St Louis Home Care since January last year and is being rolled out to its more than     clients and their families across Adelaide and Victor Harbor and in its Parkside nursing home  It also is being piloted by three Meals on Wheels branches in NSW   We are bridging the knowledge gap between a family member  their loved one  the carer and aged care provider   Ms Nikula said Debbie Bain uses the app to receive regular updates on her aunt Mary Barnes at the St Louis Nursing Home at Parkside   It s not always easy to visit as much as we d like  but with this technology we feel like we can be part of her day  ',\n",
       " 'labels': ['business',\n",
       "  'lifestyle',\n",
       "  'weather',\n",
       "  'entertainment',\n",
       "  'politics',\n",
       "  'sport',\n",
       "  'finance'],\n",
       " 'scores': [0.49384406208992004,\n",
       "  0.2777992784976959,\n",
       "  0.05613662675023079,\n",
       "  0.055208172649145126,\n",
       "  0.03999090939760208,\n",
       "  0.03990379720926285,\n",
       "  0.0371171310544014]}"
      ]
     },
     "execution_count": 14,
     "metadata": {},
     "output_type": "execute_result"
    }
   ],
   "source": [
    "labels = [\n",
    "    'sport', 'lifestyle', 'entertainment', 'politics',\n",
    "    'finance', 'weather', 'business']\n",
    "\n",
    "nlp(text, labels)"
   ]
  },
  {
   "cell_type": "code",
   "execution_count": null,
   "metadata": {},
   "outputs": [],
   "source": []
  }
 ],
 "metadata": {
  "kernelspec": {
   "display_name": "Python 3",
   "language": "python",
   "name": "python3"
  },
  "language_info": {
   "codemirror_mode": {
    "name": "ipython",
    "version": 3
   },
   "file_extension": ".py",
   "mimetype": "text/x-python",
   "name": "python",
   "nbconvert_exporter": "python",
   "pygments_lexer": "ipython3",
   "version": "3.8.5"
  },
  "toc": {
   "base_numbering": 1,
   "nav_menu": {},
   "number_sections": true,
   "sideBar": true,
   "skip_h1_title": false,
   "title_cell": "Table of Contents",
   "title_sidebar": "Contents",
   "toc_cell": false,
   "toc_position": {},
   "toc_section_display": true,
   "toc_window_display": false
  },
  "varInspector": {
   "cols": {
    "lenName": 16,
    "lenType": 16,
    "lenVar": 40
   },
   "kernels_config": {
    "python": {
     "delete_cmd_postfix": "",
     "delete_cmd_prefix": "del ",
     "library": "var_list.py",
     "varRefreshCmd": "print(var_dic_list())"
    },
    "r": {
     "delete_cmd_postfix": ") ",
     "delete_cmd_prefix": "rm(",
     "library": "var_list.r",
     "varRefreshCmd": "cat(var_dic_list()) "
    }
   },
   "types_to_exclude": [
    "module",
    "function",
    "builtin_function_or_method",
    "instance",
    "_Feature"
   ],
   "window_display": false
  }
 },
 "nbformat": 4,
 "nbformat_minor": 4
}
