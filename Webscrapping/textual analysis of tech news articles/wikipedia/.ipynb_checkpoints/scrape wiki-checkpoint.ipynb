{
 "cells": [
  {
   "cell_type": "code",
   "execution_count": 1,
   "metadata": {
    "ExecuteTime": {
     "end_time": "2022-11-02T06:35:18.853366Z",
     "start_time": "2022-11-02T06:35:17.584042Z"
    }
   },
   "outputs": [],
   "source": [
    "import wikipedia\n",
    "import nltk\n",
    "\n",
    "import re\n",
    "from nltk.stem import WordNetLemmatizer\n",
    "from gensim import corpora\n",
    "import pickle\n",
    "import gensim\n",
    "\n",
    "import pandas as pd\n",
    "import numpy as np\n",
    "\n",
    "from gensim.models import LsiModel"
   ]
  },
  {
   "cell_type": "code",
   "execution_count": 2,
   "metadata": {
    "ExecuteTime": {
     "end_time": "2022-10-28T00:24:34.894285Z",
     "start_time": "2022-10-28T00:24:34.892106Z"
    }
   },
   "outputs": [],
   "source": [
    "# nltk.download('stopwords')\n",
    "# nltk.download('wordnet')\n",
    "# en_stop = set(nltk.corpus.stopwords.words('english'))"
   ]
  },
  {
   "cell_type": "markdown",
   "metadata": {},
   "source": [
    "# Topic Modeling with LDA - Latent Dirichlet Allocation"
   ]
  },
  {
   "cell_type": "code",
   "execution_count": null,
   "metadata": {
    "ExecuteTime": {
     "end_time": "2022-10-11T04:08:40.076801Z",
     "start_time": "2022-10-11T04:08:33.215763Z"
    }
   },
   "outputs": [],
   "source": [
    "autonomous_vehicle = wikipedia.page(\"Autonomous Vehicle\")\n",
    "artificial_intelligence = wikipedia.page(\"Artificial Intelligence\")\n",
    "satellite = wikipedia.page(\"Satellite\")\n",
    "eiffel_tower = wikipedia.page(\"Eiffel Tower\")\n",
    "\n",
    "corpus = [autonomous_vehicle.content, artificial_intelligence.content, satellite.content, eiffel_tower.content]"
   ]
  },
  {
   "cell_type": "code",
   "execution_count": null,
   "metadata": {
    "ExecuteTime": {
     "end_time": "2022-10-11T04:11:38.868252Z",
     "start_time": "2022-10-11T04:11:38.861654Z"
    },
    "code_folding": [
     2
    ]
   },
   "outputs": [],
   "source": [
    "stemmer = WordNetLemmatizer()\n",
    "\n",
    "def preprocess_text(document):\n",
    "        # Remove all the special characters\n",
    "        document = re.sub(r'\\W', ' ', str(document))\n",
    "\n",
    "        # remove all single characters\n",
    "        document = re.sub(r'\\s+[a-zA-Z]\\s+', ' ', document)\n",
    "\n",
    "        # Remove single characters from the start\n",
    "        document = re.sub(r'\\^[a-zA-Z]\\s+', ' ', document)\n",
    "\n",
    "        # Substituting multiple spaces with single space\n",
    "        document = re.sub(r'\\s+', ' ', document, flags=re.I)\n",
    "\n",
    "        # Removing prefixed 'b'\n",
    "        document = re.sub(r'^b\\s+', '', document)\n",
    "\n",
    "        # Converting to Lowercase\n",
    "        document = document.lower()\n",
    "\n",
    "        # Lemmatization\n",
    "        tokens = document.split()\n",
    "        tokens = [stemmer.lemmatize(word) for word in tokens]\n",
    "        tokens = [word for word in tokens if word not in en_stop]\n",
    "        tokens = [word for word in tokens if len(word)  > 5]\n",
    "\n",
    "        return tokens"
   ]
  },
  {
   "cell_type": "code",
   "execution_count": null,
   "metadata": {
    "ExecuteTime": {
     "end_time": "2022-10-11T04:13:34.159974Z",
     "start_time": "2022-10-11T04:13:32.811421Z"
    }
   },
   "outputs": [],
   "source": [
    "#iterate through the corpus list that contains the four Wikipedia articles and preprocess text\n",
    "processed_data = [];\n",
    "for doc in corpus:\n",
    "    tokens = preprocess_text(doc)\n",
    "    processed_data.append(tokens)"
   ]
  },
  {
   "cell_type": "code",
   "execution_count": null,
   "metadata": {
    "ExecuteTime": {
     "end_time": "2022-10-11T04:14:11.944711Z",
     "start_time": "2022-10-11T04:14:11.877447Z"
    }
   },
   "outputs": [],
   "source": [
    "#use this list to create a dictionary and corresponding bag of words corpus\n",
    "gensim_dictionary = corpora.Dictionary(processed_data)\n",
    "gensim_corpus = [gensim_dictionary.doc2bow(token, allow_update=True) for token in processed_data]"
   ]
  },
  {
   "cell_type": "code",
   "execution_count": null,
   "metadata": {
    "ExecuteTime": {
     "end_time": "2022-10-11T04:14:43.557942Z",
     "start_time": "2022-10-11T04:14:43.545201Z"
    }
   },
   "outputs": [],
   "source": [
    "#save our dictionary as well as the bag of words corpus using pickle\n",
    "pickle.dump(gensim_corpus, open('gensim_corpus_corpus.pkl', 'wb'))\n",
    "gensim_dictionary.save('gensim_dictionary.gensim')"
   ]
  },
  {
   "cell_type": "code",
   "execution_count": null,
   "metadata": {
    "ExecuteTime": {
     "end_time": "2022-10-11T04:18:01.717810Z",
     "start_time": "2022-10-11T04:18:00.582473Z"
    }
   },
   "outputs": [],
   "source": [
    "#create LDA model in Gensim, use the LdaModel class, pass the bag of words corpus to the LdaModel constructor\n",
    "lda_model = gensim.models.ldamodel.LdaModel(gensim_corpus, num_topics=10, id2word=gensim_dictionary, passes=20)\n",
    "lda_model.save('gensim_model.gensim')"
   ]
  },
  {
   "cell_type": "code",
   "execution_count": null,
   "metadata": {
    "ExecuteTime": {
     "end_time": "2022-10-11T04:18:18.219295Z",
     "start_time": "2022-10-11T04:18:18.211733Z"
    },
    "scrolled": true
   },
   "outputs": [],
   "source": [
    "#It is important to mention here that LDA is an unsupervised learning algorithm and \n",
    "#in real-world problems, you will not know about the topics in the dataset beforehand. \n",
    "#You will simply be given a corpus, the topics will be created using LDA \n",
    "#and then the names of the topics are up to you.\n",
    "\n",
    "topics = lda_model.print_topics(num_words=5)\n",
    "for topic in topics:\n",
    "    print(topic)"
   ]
  },
  {
   "cell_type": "markdown",
   "metadata": {},
   "source": [
    "# Topic Modeling via LSI - Latent Semantic Indexing"
   ]
  },
  {
   "cell_type": "code",
   "execution_count": null,
   "metadata": {
    "ExecuteTime": {
     "end_time": "2022-10-11T04:20:29.200245Z",
     "start_time": "2022-10-11T04:20:29.081914Z"
    }
   },
   "outputs": [],
   "source": [
    "lsi_model = LsiModel(gensim_corpus, num_topics=4, id2word=gensim_dictionary)\n",
    "topics = lsi_model.print_topics(num_words=10)\n",
    "for topic in topics:\n",
    "    print(topic)"
   ]
  },
  {
   "cell_type": "markdown",
   "metadata": {},
   "source": [
    "# Rule-Based Matching - spacy"
   ]
  },
  {
   "cell_type": "code",
   "execution_count": null,
   "metadata": {
    "ExecuteTime": {
     "end_time": "2022-10-11T04:33:35.616702Z",
     "start_time": "2022-10-11T04:33:29.487221Z"
    }
   },
   "outputs": [],
   "source": [
    "import spacy\n",
    "nlp = spacy.load('en_core_web_trf')\n",
    "\n",
    "from spacy.matcher import Matcher\n",
    "from spacy.matcher import PhraseMatcher\n",
    "\n",
    "m_tool = Matcher(nlp.vocab)"
   ]
  },
  {
   "cell_type": "code",
   "execution_count": null,
   "metadata": {
    "ExecuteTime": {
     "end_time": "2022-10-11T04:32:22.659213Z",
     "start_time": "2022-10-11T04:32:22.528322Z"
    }
   },
   "outputs": [],
   "source": [
    "p1 = [{'LOWER': 'quickbrownfox'}]\n",
    "p2 = [{'LOWER': 'quick'}, {'IS_PUNCT': True}, {'LOWER': 'brown'}, {'IS_PUNCT': True}, {'LOWER': 'fox'}]\n",
    "p3 = [{'LOWER': 'quick'}, {'LOWER': 'brown'}, {'LOWER': 'fox'}]\n",
    "p4 = [{'LOWER': 'quick'}, {'LOWER': 'brownfox'}]\n",
    "\n",
    "m_tool.add('QBF', [p1,p2,p3,p4])\n",
    "\n",
    "sentence = nlp(u'The quick-brown-fox jumps over the lazy dog. The quick brown fox eats well. \\\n",
    "               the quickbrownfox is dead. the dog misses the quick brownfox')\n",
    "\n",
    "phrase_matches = m_tool(sentence)\n",
    "print(phrase_matches )\n",
    "\n",
    "for match_id, start, end in phrase_matches:\n",
    "    string_id = nlp.vocab.strings[match_id]  \n",
    "    span = sentence[start:end]                   \n",
    "    print(match_id, string_id, start, end, span.text)"
   ]
  },
  {
   "cell_type": "markdown",
   "metadata": {},
   "source": [
    "# Phrase-Based Matching"
   ]
  },
  {
   "cell_type": "code",
   "execution_count": null,
   "metadata": {
    "ExecuteTime": {
     "end_time": "2022-10-11T04:32:50.279986Z",
     "start_time": "2022-10-11T04:32:49.081972Z"
    }
   },
   "outputs": [],
   "source": [
    "import bs4 as bs  \n",
    "import urllib.request  \n",
    "import re  \n",
    "import nltk\n",
    "\n",
    "scrapped_data = urllib.request.urlopen('https://en.wikipedia.org/wiki/Artificial_intelligence')  \n",
    "article = scrapped_data.read()\n",
    "\n",
    "parsed_article = bs.BeautifulSoup(article,'lxml')\n",
    "\n",
    "paragraphs = parsed_article.find_all('p')\n",
    "\n",
    "article_text = \"\"\n",
    "\n",
    "for p in paragraphs:  \n",
    "    article_text += p.text\n",
    "    \n",
    "    \n",
    "processed_article = article_text.lower()  \n",
    "processed_article = re.sub('[^a-zA-Z]', ' ', processed_article )  \n",
    "processed_article = re.sub(r'\\s+', ' ', processed_article)"
   ]
  },
  {
   "cell_type": "code",
   "execution_count": null,
   "metadata": {
    "ExecuteTime": {
     "end_time": "2022-10-11T04:42:55.522431Z",
     "start_time": "2022-10-11T04:42:03.307445Z"
    },
    "scrolled": true
   },
   "outputs": [],
   "source": [
    "#Create Phrase Matcher Object\n",
    "phrase_matcher = PhraseMatcher(nlp.vocab)\n",
    "\n",
    "phrases = ['machine learning', 'robots', 'intelligent agents']\n",
    "\n",
    "patterns = [nlp(text) for text in phrases]\n",
    "\n",
    "phrase_matcher.add('AI', None, *patterns)\n",
    "\n",
    "sentence = nlp(processed_article)\n",
    "\n",
    "matched_phrases = phrase_matcher(sentence)\n",
    "\n",
    "for match_id, start, end in matched_phrases:\n",
    "    string_id = nlp.vocab.strings[match_id]  \n",
    "    span = sentence[start:end]                   \n",
    "    print(match_id, string_id, start, end, span.text)"
   ]
  },
  {
   "cell_type": "code",
   "execution_count": null,
   "metadata": {
    "ExecuteTime": {
     "end_time": "2022-10-11T05:04:56.568588Z",
     "start_time": "2022-10-11T04:55:00.705752Z"
    }
   },
   "outputs": [],
   "source": [
    "!conda install -c conda-forge pattern"
   ]
  },
  {
   "cell_type": "markdown",
   "metadata": {},
   "source": [
    "# Downloading Built-In Gensim Models and Datasets"
   ]
  },
  {
   "cell_type": "code",
   "execution_count": 2,
   "metadata": {
    "ExecuteTime": {
     "end_time": "2022-11-02T06:35:30.225787Z",
     "start_time": "2022-11-02T06:35:30.214775Z"
    }
   },
   "outputs": [],
   "source": [
    "import gensim.downloader as api\n",
    "from gensim.models import KeyedVectors"
   ]
  },
  {
   "cell_type": "code",
   "execution_count": 4,
   "metadata": {
    "ExecuteTime": {
     "end_time": "2022-11-02T06:28:56.187466Z",
     "start_time": "2022-11-02T06:28:56.181474Z"
    }
   },
   "outputs": [],
   "source": [
    "# model_list = [\n",
    "#     'fasttext-wiki-news-subwords-300', 'glove-twitter-100',\n",
    "#     'glove-twitter-200', 'glove-twitter-25', 'glove-twitter-50',\n",
    "#     'glove-wiki-gigaword-100', 'glove-wiki-gigaword-200',\n",
    "#     'glove-wiki-gigaword-300', 'glove-wiki-gigaword-50',\n",
    "#     'conceptnet-numberbatch-17-06-300'\n",
    "# ]\n",
    "\n",
    "# w2v_embedding = api.load('fasttext-wiki-news-subwords-300')\n",
    "\n",
    "# w2v_embedding.save(\n",
    "#     r'/mnt/c/Users/handy019/OneDrive - University of South Australia/Python/3 webscrapping/4 do it again/gensim pre-trained model/fasttext-wiki-news-subwords-300.d2v'\n",
    "# )"
   ]
  },
  {
   "cell_type": "code",
   "execution_count": 3,
   "metadata": {
    "ExecuteTime": {
     "end_time": "2022-11-02T06:35:32.358606Z",
     "start_time": "2022-11-02T06:35:32.104605Z"
    }
   },
   "outputs": [],
   "source": [
    "w2v_embedding = KeyedVectors.load(\n",
    "    r'C:\\Users\\duchi\\OneDrive - University of South Australia\\Python\\3 webscrapping\\4 do it again\\gensim pre-trained model\\glove-wiki-gigaword-300.d2v'\n",
    ")"
   ]
  },
  {
   "cell_type": "code",
   "execution_count": 29,
   "metadata": {
    "ExecuteTime": {
     "end_time": "2022-11-02T07:15:53.943549Z",
     "start_time": "2022-11-02T07:15:53.934573Z"
    }
   },
   "outputs": [
    {
     "data": {
      "text/plain": [
       "['OSHA',\n",
       " 'Occupational Safety and Health Administration',\n",
       " 'injury rate',\n",
       " 'safety record',\n",
       " 'injuries',\n",
       " 'death',\n",
       " 'occupational safety',\n",
       " 'worker safety',\n",
       " 'safety training',\n",
       " 'safety performance',\n",
       " 'safety climate',\n",
       " 'safety program',\n",
       " 'work environment safety',\n",
       " 'fatalities',\n",
       " 'TRIR',\n",
       " 'total recordable incident rate',\n",
       " 'incident rate',\n",
       " 'injury',\n",
       " 'injure',\n",
       " 'workplace safety',\n",
       " 'illness',\n",
       " 'employee safety',\n",
       " 'safety procedure',\n",
       " 'safety hazard',\n",
       " 'work safety',\n",
       " 'safety condition',\n",
       " 'fatality',\n",
       " 'employees',\n",
       " 'workers',\n",
       " 'employee',\n",
       " 'worker',\n",
       " 'staff',\n",
       " 'healthcare',\n",
       " 'medical',\n",
       " 'hospitals',\n",
       " 'patients',\n",
       " 'disease',\n",
       " 'diseases',\n",
       " 'injured',\n",
       " 'illnesses',\n",
       " 'safe',\n",
       " 'safety',\n",
       " 'hazards',\n",
       " 'hazard',\n",
       " 'accident',\n",
       " 'accidents',\n",
       " 'suffered',\n",
       " 'suffering',\n",
       " 'casualties',\n",
       " 'bruises',\n",
       " 'wounds',\n",
       " 'hospitalized',\n",
       " 'wounded',\n",
       " 'wound',\n",
       " 'trauma',\n",
       " 'injuring',\n",
       " 'hurt',\n",
       " 'fatal',\n",
       " 'incidents',\n",
       " 'deaths',\n",
       " 'pain',\n",
       " 'laborer',\n",
       " 'working',\n",
       " 'practice',\n",
       " 'skill',\n",
       " 'trained',\n",
       " 'trainees',\n",
       " 'crashes',\n",
       " 'toll',\n",
       " 'infections',\n",
       " 'collisions',\n",
       " 'killed',\n",
       " 'casualty',\n",
       " 'hospitalizations',\n",
       " 'incidences',\n",
       " 'dead',\n",
       " 'deadly',\n",
       " 'accidental',\n",
       " 'tragedy',\n",
       " 'tragic',\n",
       " 'harm',\n",
       " 'hamful',\n",
       " 'ailments',\n",
       " 'ailment',\n",
       " 'diagnosed',\n",
       " 'chronic',\n",
       " 'sickness',\n",
       " 'safest',\n",
       " 'safer',\n",
       " 'cleaner',\n",
       " 'quieter',\n",
       " 'greener',\n",
       " 'unsafe',\n",
       " 'dangerous',\n",
       " 'secure',\n",
       " 'workplaces',\n",
       " 'hazardous',\n",
       " 'danger',\n",
       " 'dangers',\n",
       " 'toxic',\n",
       " 'vulnerable',\n",
       " 'lethal',\n",
       " 'afflictions',\n",
       " 'symptoms',\n",
       " 'symptom',\n",
       " 'poisonous',\n",
       " 'chemicals',\n",
       " 'toxins',\n",
       " 'radioactive',\n",
       " 'contaminants',\n",
       " 'pesticides',\n",
       " 'contaminated',\n",
       " 'harmful',\n",
       " 'pollutants',\n",
       " 'pollutant',\n",
       " 'chemical',\n",
       " 'contamination',\n",
       " 'noxious',\n",
       " 'poisonous',\n",
       " 'chemicals',\n",
       " 'toxins',\n",
       " 'radioactive',\n",
       " 'hazardous',\n",
       " 'contaminants',\n",
       " 'pesticides',\n",
       " 'waste',\n",
       " 'contaminated',\n",
       " 'wastes',\n",
       " 'harmful',\n",
       " 'sludge',\n",
       " 'pollutants',\n",
       " 'chemical',\n",
       " 'fumes',\n",
       " 'contamination',\n",
       " 'substances',\n",
       " 'carcinogenic',\n",
       " 'noxious',\n",
       " 'dioxin',\n",
       " 'arsenic',\n",
       " 'polluted',\n",
       " 'pesticide',\n",
       " 'pollution',\n",
       " 'corrosive',\n",
       " 'asbestos',\n",
       " 'dioxins',\n",
       " 'compounds',\n",
       " 'chlorine',\n",
       " 'flammable',\n",
       " 'substance',\n",
       " 'spill',\n",
       " 'gases',\n",
       " 'poison',\n",
       " 'exposure',\n",
       " 'benzene',\n",
       " 'cyanide',\n",
       " 'contain',\n",
       " 'toxin',\n",
       " 'amounts',\n",
       " 'toxicity',\n",
       " 'liquid',\n",
       " 'sulfur',\n",
       " 'poisons',\n",
       " 'residue',\n",
       " 'poisoning',\n",
       " 'bacteria',\n",
       " 'dangerous',\n",
       " 'inhaling',\n",
       " 'pcbs']"
      ]
     },
     "execution_count": 29,
     "metadata": {},
     "output_type": "execute_result"
    }
   ],
   "source": [
    "keywords"
   ]
  },
  {
   "cell_type": "code",
   "execution_count": 27,
   "metadata": {
    "ExecuteTime": {
     "end_time": "2022-11-02T07:15:44.613870Z",
     "start_time": "2022-11-02T07:15:44.574997Z"
    }
   },
   "outputs": [],
   "source": [
    "list1 = [x[0] for x in w2v_embedding.most_similar(\"toxic\",topn=50)]"
   ]
  },
  {
   "cell_type": "code",
   "execution_count": null,
   "metadata": {},
   "outputs": [],
   "source": []
  },
  {
   "cell_type": "code",
   "execution_count": null,
   "metadata": {},
   "outputs": [],
   "source": []
  },
  {
   "cell_type": "code",
   "execution_count": 167,
   "metadata": {
    "ExecuteTime": {
     "end_time": "2022-10-28T00:58:34.226458Z",
     "start_time": "2022-10-28T00:58:34.220015Z"
    },
    "code_folding": []
   },
   "outputs": [],
   "source": [
    "list_ = [\n",
    "    'neuroplasticity', 'mechanical', 'engineering', 'space', 'aerospace',\n",
    "    'science', 'earth', 'laser', 'lasers', 'photonics', 'photonic',\n",
    "    'renewable', 'artificial', 'intelligence', 'management', 'advanced',\n",
    "    'environmental', 'robotics', 'robotic', 'botany', 'planetarium',\n",
    "    'astrophysics', 'satellite', 'technologies', 'technology', 'electronic',\n",
    "    'autonomous', 'driverless', 'software', 'program', 'embryologists',\n",
    "    'mobility', 'services', 'systems', 'smart', 'energy', 'data', 'e-learning',\n",
    "    'open-source', 'web-based', 'digital', '3-d', '3d', 'predictive',\n",
    "    'analytics', 'decision-making', 'consumer-driven', 'app', 'apps',\n",
    "    'developed', 'smartphone', 'innovations', 'innovation', 'thermal',\n",
    "    'machine', 'modelling', 'simulation', 'imagery', 'biosecurity', 'tech',\n",
    "    'internet', 'geolocation', 'communication', 'radio', 'frequency',\n",
    "    'halogen', 'efficiency', 'efficiencies', 'quartz', 'filament', 'tungsten',\n",
    "    'power', 'recycled', 'solar', 'photovoltaic', 'battery', 'aerial',\n",
    "    'mapping', 'developer', 'online', 'platform', 'telehealth', 'start-ups',\n",
    "    'electricity', 'data-driven', 'solutions', 'crowd-funding', 'virtual',\n",
    "    'drone', 'cloud-based', 'wearable', 'gps', 'x-ray', 'portable', 'system',\n",
    "    'pre-order', 'sensors', 'sensor', 'interactive'\n",
    "]"
   ]
  },
  {
   "cell_type": "code",
   "execution_count": 168,
   "metadata": {
    "ExecuteTime": {
     "end_time": "2022-10-28T00:58:37.761519Z",
     "start_time": "2022-10-28T00:58:34.770302Z"
    }
   },
   "outputs": [],
   "source": [
    "similar = {}\n",
    "\n",
    "for key in list_:\n",
    "    \n",
    "    try:\n",
    "        temp = w2v_embedding.most_similar(key,topn=50)\n",
    "\n",
    "        similar[key] = [x[0] for x in temp]\n",
    "        similar['{}_score'.format(key)] = [x[1] for x in temp]\n",
    "    except:\n",
    "        print(key)"
   ]
  },
  {
   "cell_type": "code",
   "execution_count": 169,
   "metadata": {
    "ExecuteTime": {
     "end_time": "2022-10-28T00:58:39.243039Z",
     "start_time": "2022-10-28T00:58:39.240470Z"
    }
   },
   "outputs": [],
   "source": [
    "# w2v_embedding.save(\n",
    "#     r'/mnt/c/Users/handy019/OneDrive - University of South Australia/Python/3 webscrapping/4 do it again/gensim pre-trained model/{}.d2v'\n",
    "#     .format(name))"
   ]
  },
  {
   "cell_type": "code",
   "execution_count": 170,
   "metadata": {
    "ExecuteTime": {
     "end_time": "2022-10-28T00:58:39.768375Z",
     "start_time": "2022-10-28T00:58:39.728251Z"
    },
    "collapsed": true
   },
   "outputs": [
    {
     "data": {
      "text/plain": [
       "[('geocoding', 0.4380856454372406),\n",
       " ('location-based', 0.41686856746673584),\n",
       " ('websense', 0.40829652547836304),\n",
       " ('gnupg', 0.40550944209098816),\n",
       " ('cad/cam', 0.39738544821739197),\n",
       " ('fpga', 0.3946461081504822),\n",
       " ('e-card', 0.39462560415267944),\n",
       " ('fluoropolymers', 0.3938526213169098),\n",
       " ('fasttrack', 0.39105573296546936),\n",
       " ('anti-censorship', 0.39045822620391846),\n",
       " ('industry-standard', 0.38938531279563904),\n",
       " ('multiseat', 0.38789454102516174),\n",
       " ('dropbox', 0.3870222270488739),\n",
       " ('levenshtein', 0.3851688802242279),\n",
       " ('relatedness', 0.3848205804824829),\n",
       " ('high-precision', 0.3845316767692566),\n",
       " ('localisation', 0.3833083510398865),\n",
       " ('inkscape', 0.3824479281902313),\n",
       " ('ipsec', 0.3806017339229584),\n",
       " ('vpn', 0.3793243169784546),\n",
       " ('anti-spam', 0.378400593996048),\n",
       " ('modularization', 0.378022700548172),\n",
       " ('microarray', 0.37561485171318054),\n",
       " ('benkert', 0.3743286728858948),\n",
       " ('webgl', 0.374021053314209),\n",
       " ('user-generated', 0.37397557497024536),\n",
       " ('utilising', 0.3734482228755951),\n",
       " ('ipbes', 0.3733900785446167),\n",
       " ('end-to-end', 0.37304550409317017),\n",
       " ('exif', 0.37291085720062256),\n",
       " ('backhaul', 0.3724440932273865),\n",
       " ('webmail', 0.3720073997974396),\n",
       " ('montavista', 0.37199166417121887),\n",
       " ('vnr', 0.37196311354637146),\n",
       " ('telestrator', 0.3717961311340332),\n",
       " ('e911', 0.37111425399780273),\n",
       " ('cloud-based', 0.3705039322376251),\n",
       " ('comsats', 0.36932358145713806),\n",
       " ('mediawiki', 0.36879926919937134),\n",
       " ('tmds', 0.3685658872127533),\n",
       " ('value-added', 0.367482453584671),\n",
       " ('end-users', 0.36738869547843933),\n",
       " ('checksums', 0.3671328127384186),\n",
       " ('icalendar', 0.3667214512825012),\n",
       " ('ess', 0.3666510283946991),\n",
       " ('service-oriented', 0.36623460054397583),\n",
       " ('fpgas', 0.3660641014575958),\n",
       " ('neusoft', 0.36597299575805664),\n",
       " ('vbz', 0.3659172058105469),\n",
       " ('perceiver', 0.3650244176387787)]"
      ]
     },
     "execution_count": 170,
     "metadata": {},
     "output_type": "execute_result"
    }
   ],
   "source": [
    "w2v_embedding.most_similar(\"geolocation\",topn=50)"
   ]
  },
  {
   "cell_type": "code",
   "execution_count": 171,
   "metadata": {
    "ExecuteTime": {
     "end_time": "2022-10-28T00:58:42.754256Z",
     "start_time": "2022-10-28T00:58:42.740441Z"
    }
   },
   "outputs": [],
   "source": [
    "similar_frame = pd.DataFrame(data=similar)"
   ]
  },
  {
   "cell_type": "code",
   "execution_count": 173,
   "metadata": {
    "ExecuteTime": {
     "end_time": "2022-10-28T00:59:49.725180Z",
     "start_time": "2022-10-28T00:59:49.690566Z"
    }
   },
   "outputs": [],
   "source": [
    "similar_frame[list_].to_csv(r'/mnt/c/Users/handy019/OneDrive - University of South Australia/Python/3 webscrapping/3 summary/similar_frame.csv', encoding='utf-8', index=None)\n",
    "similar_frame.to_csv(r'/mnt/c/Users/handy019/OneDrive - University of South Australia/Python/3 webscrapping/3 summary/similar_frame_with_score.csv', encoding='utf-8', index=None)"
   ]
  },
  {
   "cell_type": "code",
   "execution_count": 174,
   "metadata": {
    "ExecuteTime": {
     "end_time": "2022-10-28T01:02:07.040914Z",
     "start_time": "2022-10-28T01:02:07.022030Z"
    }
   },
   "outputs": [
    {
     "data": {
      "text/html": [
       "<div>\n",
       "<style scoped>\n",
       "    .dataframe tbody tr th:only-of-type {\n",
       "        vertical-align: middle;\n",
       "    }\n",
       "\n",
       "    .dataframe tbody tr th {\n",
       "        vertical-align: top;\n",
       "    }\n",
       "\n",
       "    .dataframe thead th {\n",
       "        text-align: right;\n",
       "    }\n",
       "</style>\n",
       "<table border=\"1\" class=\"dataframe\">\n",
       "  <thead>\n",
       "    <tr style=\"text-align: right;\">\n",
       "      <th></th>\n",
       "      <th>neuroplasticity</th>\n",
       "      <th>neuroplasticity_score</th>\n",
       "      <th>mechanical</th>\n",
       "      <th>mechanical_score</th>\n",
       "      <th>engineering</th>\n",
       "      <th>engineering_score</th>\n",
       "      <th>space</th>\n",
       "      <th>space_score</th>\n",
       "      <th>aerospace</th>\n",
       "      <th>aerospace_score</th>\n",
       "      <th>...</th>\n",
       "      <th>system</th>\n",
       "      <th>system_score</th>\n",
       "      <th>pre-order</th>\n",
       "      <th>pre-order_score</th>\n",
       "      <th>sensors</th>\n",
       "      <th>sensors_score</th>\n",
       "      <th>sensor</th>\n",
       "      <th>sensor_score</th>\n",
       "      <th>interactive</th>\n",
       "      <th>interactive_score</th>\n",
       "    </tr>\n",
       "  </thead>\n",
       "  <tbody>\n",
       "    <tr>\n",
       "      <th>0</th>\n",
       "      <td>neurogenesis</td>\n",
       "      <td>0.527151</td>\n",
       "      <td>electrical</td>\n",
       "      <td>0.639377</td>\n",
       "      <td>engineers</td>\n",
       "      <td>0.611102</td>\n",
       "      <td>nasa</td>\n",
       "      <td>0.632399</td>\n",
       "      <td>automotive</td>\n",
       "      <td>0.563180</td>\n",
       "      <td>...</td>\n",
       "      <td>systems</td>\n",
       "      <td>0.794524</td>\n",
       "      <td>pre-ordered</td>\n",
       "      <td>0.554411</td>\n",
       "      <td>sensor</td>\n",
       "      <td>0.787914</td>\n",
       "      <td>sensors</td>\n",
       "      <td>0.787914</td>\n",
       "      <td>multimedia</td>\n",
       "      <td>0.666878</td>\n",
       "    </tr>\n",
       "    <tr>\n",
       "      <th>1</th>\n",
       "      <td>plasticity</td>\n",
       "      <td>0.481572</td>\n",
       "      <td>hydraulic</td>\n",
       "      <td>0.585176</td>\n",
       "      <td>technology</td>\n",
       "      <td>0.602139</td>\n",
       "      <td>spacecraft</td>\n",
       "      <td>0.625613</td>\n",
       "      <td>aviation</td>\n",
       "      <td>0.553433</td>\n",
       "      <td>...</td>\n",
       "      <td>which</td>\n",
       "      <td>0.513731</td>\n",
       "      <td>pre-orders</td>\n",
       "      <td>0.548903</td>\n",
       "      <td>infrared</td>\n",
       "      <td>0.635932</td>\n",
       "      <td>infrared</td>\n",
       "      <td>0.598667</td>\n",
       "      <td>online</td>\n",
       "      <td>0.574534</td>\n",
       "    </tr>\n",
       "    <tr>\n",
       "      <th>2</th>\n",
       "      <td>diamagnetism</td>\n",
       "      <td>0.460442</td>\n",
       "      <td>engineering</td>\n",
       "      <td>0.566597</td>\n",
       "      <td>sciences</td>\n",
       "      <td>0.592431</td>\n",
       "      <td>spaces</td>\n",
       "      <td>0.590746</td>\n",
       "      <td>aeronautics</td>\n",
       "      <td>0.551577</td>\n",
       "      <td>...</td>\n",
       "      <td>mechanism</td>\n",
       "      <td>0.511397</td>\n",
       "      <td>itunes</td>\n",
       "      <td>0.533538</td>\n",
       "      <td>detect</td>\n",
       "      <td>0.619463</td>\n",
       "      <td>device</td>\n",
       "      <td>0.542785</td>\n",
       "      <td>entertainment</td>\n",
       "      <td>0.552217</td>\n",
       "    </tr>\n",
       "    <tr>\n",
       "      <th>3</th>\n",
       "      <td>gliosis</td>\n",
       "      <td>0.455925</td>\n",
       "      <td>mechanics</td>\n",
       "      <td>0.487156</td>\n",
       "      <td>engineer</td>\n",
       "      <td>0.583249</td>\n",
       "      <td>shuttle</td>\n",
       "      <td>0.571557</td>\n",
       "      <td>engineering</td>\n",
       "      <td>0.520104</td>\n",
       "      <td>...</td>\n",
       "      <td>control</td>\n",
       "      <td>0.505229</td>\n",
       "      <td>preorder</td>\n",
       "      <td>0.508901</td>\n",
       "      <td>detectors</td>\n",
       "      <td>0.611098</td>\n",
       "      <td>sensing</td>\n",
       "      <td>0.538370</td>\n",
       "      <td>video</td>\n",
       "      <td>0.534405</td>\n",
       "    </tr>\n",
       "    <tr>\n",
       "      <th>4</th>\n",
       "      <td>neovascularization</td>\n",
       "      <td>0.455304</td>\n",
       "      <td>vibration</td>\n",
       "      <td>0.474555</td>\n",
       "      <td>science</td>\n",
       "      <td>0.575667</td>\n",
       "      <td>astronauts</td>\n",
       "      <td>0.563398</td>\n",
       "      <td>lockheed</td>\n",
       "      <td>0.519512</td>\n",
       "      <td>...</td>\n",
       "      <td>computerized</td>\n",
       "      <td>0.504438</td>\n",
       "      <td>download-only</td>\n",
       "      <td>0.494121</td>\n",
       "      <td>devices</td>\n",
       "      <td>0.586671</td>\n",
       "      <td>detector</td>\n",
       "      <td>0.520930</td>\n",
       "      <td>digital</td>\n",
       "      <td>0.521121</td>\n",
       "    </tr>\n",
       "  </tbody>\n",
       "</table>\n",
       "<p>5 rows × 198 columns</p>\n",
       "</div>"
      ],
      "text/plain": [
       "      neuroplasticity  neuroplasticity_score   mechanical  mechanical_score  \\\n",
       "0        neurogenesis               0.527151   electrical          0.639377   \n",
       "1          plasticity               0.481572    hydraulic          0.585176   \n",
       "2        diamagnetism               0.460442  engineering          0.566597   \n",
       "3             gliosis               0.455925    mechanics          0.487156   \n",
       "4  neovascularization               0.455304    vibration          0.474555   \n",
       "\n",
       "  engineering  engineering_score       space  space_score    aerospace  \\\n",
       "0   engineers           0.611102        nasa     0.632399   automotive   \n",
       "1  technology           0.602139  spacecraft     0.625613     aviation   \n",
       "2    sciences           0.592431      spaces     0.590746  aeronautics   \n",
       "3    engineer           0.583249     shuttle     0.571557  engineering   \n",
       "4     science           0.575667  astronauts     0.563398     lockheed   \n",
       "\n",
       "   aerospace_score  ...        system  system_score      pre-order  \\\n",
       "0         0.563180  ...       systems      0.794524    pre-ordered   \n",
       "1         0.553433  ...         which      0.513731     pre-orders   \n",
       "2         0.551577  ...     mechanism      0.511397         itunes   \n",
       "3         0.520104  ...       control      0.505229       preorder   \n",
       "4         0.519512  ...  computerized      0.504438  download-only   \n",
       "\n",
       "   pre-order_score    sensors  sensors_score    sensor  sensor_score  \\\n",
       "0         0.554411     sensor       0.787914   sensors      0.787914   \n",
       "1         0.548903   infrared       0.635932  infrared      0.598667   \n",
       "2         0.533538     detect       0.619463    device      0.542785   \n",
       "3         0.508901  detectors       0.611098   sensing      0.538370   \n",
       "4         0.494121    devices       0.586671  detector      0.520930   \n",
       "\n",
       "     interactive  interactive_score  \n",
       "0     multimedia           0.666878  \n",
       "1         online           0.574534  \n",
       "2  entertainment           0.552217  \n",
       "3          video           0.534405  \n",
       "4        digital           0.521121  \n",
       "\n",
       "[5 rows x 198 columns]"
      ]
     },
     "execution_count": 174,
     "metadata": {},
     "output_type": "execute_result"
    }
   ],
   "source": [
    "similar_frame.head()"
   ]
  },
  {
   "cell_type": "code",
   "execution_count": 175,
   "metadata": {
    "ExecuteTime": {
     "end_time": "2022-10-28T02:14:46.511911Z",
     "start_time": "2022-10-28T02:14:46.507853Z"
    }
   },
   "outputs": [
    {
     "data": {
      "text/plain": [
       "99"
      ]
     },
     "execution_count": 175,
     "metadata": {},
     "output_type": "execute_result"
    }
   ],
   "source": [
    "len(list_)"
   ]
  },
  {
   "cell_type": "code",
   "execution_count": null,
   "metadata": {},
   "outputs": [],
   "source": []
  },
  {
   "cell_type": "code",
   "execution_count": null,
   "metadata": {},
   "outputs": [],
   "source": []
  },
  {
   "cell_type": "code",
   "execution_count": null,
   "metadata": {},
   "outputs": [],
   "source": []
  },
  {
   "cell_type": "code",
   "execution_count": null,
   "metadata": {},
   "outputs": [],
   "source": []
  },
  {
   "cell_type": "code",
   "execution_count": null,
   "metadata": {},
   "outputs": [],
   "source": []
  },
  {
   "cell_type": "code",
   "execution_count": null,
   "metadata": {},
   "outputs": [],
   "source": []
  },
  {
   "cell_type": "code",
   "execution_count": null,
   "metadata": {},
   "outputs": [],
   "source": []
  },
  {
   "cell_type": "code",
   "execution_count": null,
   "metadata": {},
   "outputs": [],
   "source": []
  },
  {
   "cell_type": "code",
   "execution_count": null,
   "metadata": {},
   "outputs": [],
   "source": []
  },
  {
   "cell_type": "code",
   "execution_count": null,
   "metadata": {},
   "outputs": [],
   "source": []
  },
  {
   "cell_type": "code",
   "execution_count": null,
   "metadata": {},
   "outputs": [],
   "source": []
  },
  {
   "cell_type": "code",
   "execution_count": null,
   "metadata": {},
   "outputs": [],
   "source": []
  },
  {
   "cell_type": "code",
   "execution_count": null,
   "metadata": {},
   "outputs": [],
   "source": []
  },
  {
   "cell_type": "code",
   "execution_count": null,
   "metadata": {},
   "outputs": [],
   "source": []
  },
  {
   "cell_type": "code",
   "execution_count": null,
   "metadata": {},
   "outputs": [],
   "source": []
  }
 ],
 "metadata": {
  "kernelspec": {
   "display_name": "Python 3",
   "language": "python",
   "name": "python3"
  },
  "language_info": {
   "codemirror_mode": {
    "name": "ipython",
    "version": 3
   },
   "file_extension": ".py",
   "mimetype": "text/x-python",
   "name": "python",
   "nbconvert_exporter": "python",
   "pygments_lexer": "ipython3",
   "version": "3.7.6"
  },
  "toc": {
   "base_numbering": 1,
   "nav_menu": {},
   "number_sections": true,
   "sideBar": true,
   "skip_h1_title": false,
   "title_cell": "Table of Contents",
   "title_sidebar": "Contents",
   "toc_cell": false,
   "toc_position": {},
   "toc_section_display": true,
   "toc_window_display": false
  },
  "varInspector": {
   "cols": {
    "lenName": 16,
    "lenType": 16,
    "lenVar": 40
   },
   "kernels_config": {
    "python": {
     "delete_cmd_postfix": "",
     "delete_cmd_prefix": "del ",
     "library": "var_list.py",
     "varRefreshCmd": "print(var_dic_list())"
    },
    "r": {
     "delete_cmd_postfix": ") ",
     "delete_cmd_prefix": "rm(",
     "library": "var_list.r",
     "varRefreshCmd": "cat(var_dic_list()) "
    }
   },
   "types_to_exclude": [
    "module",
    "function",
    "builtin_function_or_method",
    "instance",
    "_Feature"
   ],
   "window_display": false
  }
 },
 "nbformat": 4,
 "nbformat_minor": 4
}
