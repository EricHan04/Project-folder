{
 "cells": [
  {
   "cell_type": "code",
   "execution_count": 1,
   "metadata": {
    "ExecuteTime": {
     "end_time": "2022-12-21T12:06:15.574867Z",
     "start_time": "2022-12-21T12:06:13.506974Z"
    }
   },
   "outputs": [],
   "source": [
    "import pandas as pd\n",
    "import numpy as np\n",
    "import folium \n",
    "import geopandas as gpd\n",
    "import folium.plugins as plugins\n",
    "\n",
    "from datetime import datetime\n",
    "\n",
    "\n",
    "from difflib import get_close_matches\n",
    "\n",
    "import matplotlib.pyplot as plt\n",
    "import matplotlib.pyplot\n",
    "\n",
    "%matplotlib inline\n",
    "\n",
    "# import chart_studio.plotly as py\n",
    "# import plotly.graph_objects as go\n",
    "\n",
    "import seaborn as sns\n",
    "\n",
    "pd.set_option('display.max_columns', None)\n",
    "pd.set_option('display.expand_frame_repr', False)\n",
    "pd.set_option('max_colwidth', None)\n",
    "\n",
    "from scipy.stats.mstats import winsorize"
   ]
  },
  {
   "cell_type": "code",
   "execution_count": 2,
   "metadata": {
    "ExecuteTime": {
     "end_time": "2022-12-21T12:06:15.732995Z",
     "start_time": "2022-12-21T12:06:15.576829Z"
    },
    "code_folding": []
   },
   "outputs": [],
   "source": [
    "#load tech_1\n",
    "tech1 = pd.read_csv(\n",
    "    r'C:\\Users\\duchi\\OneDrive - University of South Australia\\Python\\3 webscrapping\\3 summary\\tech_1.csv',\n",
    "    encoding='iso-8859-1')\n",
    "\n",
    "#load location tech1 (for non-similar names only (around 2000))\n",
    "loc_tech1 = pd.read_csv(\n",
    "    r'C:\\Users\\duchi\\OneDrive - University of South Australia\\Python\\3 webscrapping\\3 summary\\loc_for_tech_1.csv',\n",
    "    encoding='iso-8859-1')\n",
    "\n",
    "# print(len(loc_tech1))\n",
    "\n",
    "#prepare tech_2\n",
    "\n",
    "df1 = pd.read_csv(\n",
    "    r'C:\\Users\\duchi\\OneDrive - University of South Australia\\Python\\3 webscrapping\\4 do it again\\spacy name entities\\name_entity_proquest_tech(2).csv',\n",
    "    encoding='iso-8859-1')\n",
    "\n",
    "# df1_1 = pd.DataFrame()\n",
    "\n",
    "# #prep the data for organization name\n",
    "# for i in range(len(df1)):\n",
    "#     if df1.tech.loc[i] =='agtech':\n",
    "#         print(i)\n",
    "        \n",
    "#     x = df1['organization'].loc[i]\n",
    "#     list_1 = []\n",
    "\n",
    "#     if type(x) != float:\n",
    "#         list_1 = list_1 + [y.strip(\"''\") for y in x.split(', ')]\n",
    "#         temp = pd.DataFrame({'org': list_1})\n",
    "#         temp['tech'] = df1.tech.loc[i]\n",
    "#         df1_1 = pd.concat([df1_1, temp], ignore_index=True)\n",
    "#     else:\n",
    "#         pass\n",
    "\n",
    "test1 = pd.read_csv(\n",
    "    r'C:\\Users\\duchi\\OneDrive - University of South Australia\\Python\\3 webscrapping\\2 newspaper\\technews(2)_1000.csv',\n",
    "    encoding='iso-8859-1')\n",
    "test2 = pd.read_csv(\n",
    "    r'C:\\Users\\duchi\\OneDrive - University of South Australia\\Python\\3 webscrapping\\2 newspaper\\technews(2)_2000.csv',\n",
    "    encoding='iso-8859-1')\n",
    "test3 = pd.read_csv(\n",
    "    r'C:\\Users\\duchi\\OneDrive - University of South Australia\\Python\\3 webscrapping\\2 newspaper\\technews(2)_3000.csv',\n",
    "    encoding='iso-8859-1')\n",
    "\n",
    "pq_link = pd.concat([test1,test2,test3], ignore_index=True)\n",
    "\n",
    "#merge date time with organization name\n",
    "# print(len(df1))\n",
    "df1 = pd.merge(df1, pq_link[['tech','link','date_']], how='left', on=['tech','link'])\n",
    "# print(len(df1))\n",
    "\n",
    "df1 = df1.reset_index()\n",
    "\n",
    "# load location of organization (for non-similar name only)\n",
    "loc1 = pd.read_csv(\n",
    "    r'C:\\Users\\duchi\\OneDrive - University of South Australia\\Python\\3 webscrapping\\4 do it again\\spacy name entities\\geo_location(2)_1.csv',\n",
    "    encoding='iso-8859-1')\n",
    "\n",
    "# print(len(loc1))\n",
    "\n",
    "# more location for organization (from similar name)\n",
    "loc_similar1 = pd.read_csv(\n",
    "    r'C:\\Users\\duchi\\OneDrive - University of South Australia\\Python\\3 webscrapping\\4 do it again\\spacy name entities\\geo_location_similar.csv',\n",
    "    encoding='iso-8859-1')\n",
    "\n",
    "# print(len(loc_similar1))"
   ]
  },
  {
   "cell_type": "code",
   "execution_count": 3,
   "metadata": {
    "ExecuteTime": {
     "end_time": "2022-12-21T12:06:15.763927Z",
     "start_time": "2022-12-21T12:06:15.733992Z"
    },
    "code_folding": []
   },
   "outputs": [
    {
     "name": "stdout",
     "output_type": "stream",
     "text": [
      "3117\n",
      "4373\n",
      "7490\n",
      "7490\n"
     ]
    }
   ],
   "source": [
    "print(len(df1))\n",
    "print(len(tech1))\n",
    "df1 = pd.concat([df1,tech1],ignore_index=True)\n",
    "print(len(df1))\n",
    "df1 = df1.drop_duplicates(ignore_index=True)\n",
    "print(len(df1))"
   ]
  },
  {
   "cell_type": "code",
   "execution_count": 4,
   "metadata": {
    "ExecuteTime": {
     "end_time": "2022-12-21T12:06:15.809789Z",
     "start_time": "2022-12-21T12:06:15.764911Z"
    }
   },
   "outputs": [
    {
     "name": "stdout",
     "output_type": "stream",
     "text": [
      "2874\n",
      "5375\n",
      "14419\n",
      "22668\n",
      "20469\n"
     ]
    }
   ],
   "source": [
    "print(len(loc1))\n",
    "print(len(loc_tech1))\n",
    "print(len(loc_similar1))\n",
    "\n",
    "loc = pd.concat([loc1,loc_tech1,loc_similar1],ignore_index=True)\n",
    "\n",
    "print(len(loc))\n",
    "loc=loc.drop_duplicates(ignore_index=True)\n",
    "\n",
    "print(len(loc))"
   ]
  },
  {
   "cell_type": "code",
   "execution_count": 5,
   "metadata": {
    "ExecuteTime": {
     "end_time": "2022-12-21T12:06:15.824786Z",
     "start_time": "2022-12-21T12:06:15.810787Z"
    },
    "code_folding": [
     0,
     3,
     8,
     13
    ]
   },
   "outputs": [],
   "source": [
    "Aerospace_Space = [\n",
    "    'satellite technology', 'aerospace engineering', 'space exploration'\n",
    "]\n",
    "Advanced_manufacturing = [\n",
    "    'smart technology', 'smart home technology', 'automation systems',\n",
    "    'smart technologies', 'photovoltaic panels', 'robotics'\n",
    "]\n",
    "Agtech = ['agtech']\n",
    "Digital_infrastructure = [\n",
    "    'blockchain', 'crowd funding', 'cloud-based software', 'data storage',\n",
    "    'blockchain innovation'\n",
    "]\n",
    "Health_medical = ['digital health', 'neuroplasticity']\n",
    "Machine_learning = [\n",
    "    'data analytics',\n",
    "    'autonomous vehicle technology',\n",
    "    'automation systems',\n",
    "    'blockchain innovation',\n",
    "    'aerial-mapping',\n",
    "    'e-invoicing',\n",
    "    'robotics',\n",
    "    'point of sale',\n",
    "    'artificial intelligence',\n",
    "    'smart technology',\n",
    "    'smart home technology',\n",
    "    'smart technologies',\n",
    "]\n",
    "Renewable_energy = ['energy storage technology', 'renewable energy']\n",
    "VFX_VR_AR = ['VR technology', 'virtual reality', 'augmented reality']\n",
    "start_up = ['start-up']"
   ]
  },
  {
   "cell_type": "code",
   "execution_count": 6,
   "metadata": {
    "ExecuteTime": {
     "end_time": "2022-12-21T12:06:15.855739Z",
     "start_time": "2022-12-21T12:06:15.825747Z"
    },
    "code_folding": []
   },
   "outputs": [],
   "source": [
    "#GroupedLayerControl\n",
    "from jinja2 import Template\n",
    "from branca.element import Figure\n",
    "from folium.map import Layer, LayerControl, FeatureGroup\n",
    "\n",
    "class GroupedLayerControl(Layer):\n",
    "\t_template = Template(u\"\"\"\n",
    "\t\t\t{% macro header(this, kwargs) %}\n",
    "\t\t\t<link rel=\"stylesheet\" href=\"https://raw.githubusercontent.com/ismyrnow/leaflet-groupedlayercontrol/gh-pages/src/leaflet.groupedlayercontrol.css\" />\n",
    "\t\t\t<script src=\"leaflet.groupedlayercontrol.js\"></script> \n",
    "\t\t\t{% endmacro %}\n",
    "\t\t\t{% macro script(this, kwargs) %}\n",
    "\t\t\tvar baseMaps = { {%- for groupkey, group in this._basemaps.items() %}\n",
    "\t\t\t\t\t\t\t{{ groupkey|tojson }} : {\t\t\n",
    "\t\t\t\t\t\t\t\t\t\t {%- for key, val in group.items() %}\n",
    "\t\t\t\t\t\t\t\t\t\t\t{{ key|tojson }} : {{ val.get_name() }},\n",
    "\t\t\t\t\t\t\t\t\t\t{%- endfor %}\n",
    "\t\t\t\t\t\t\t\t}\t,\n",
    "\t\t\t\t\t\t\t{%- endfor %}\n",
    "\t\t\t};\n",
    "\t\t\tvar overlays = {\n",
    "\t\t\t\t\t {%- for groupkey, group in this._overlays.items() %}\n",
    "\t\t\t\t\t\t\t\n",
    "\t\t\t\t\t\t\t\t {{ groupkey|tojson }} : {\t\t\n",
    "\t\t\t\t\t\t\t\t\t\t {%- for key, val in group.items() %}\n",
    "\t\t\t\t\t\t\t\t\t\t\t{{ key|tojson }} : {{ val.get_name() }},\n",
    "\t\t\t\t\t\t\t\t\t\t{%- endfor %}\n",
    "\t\t\t\t\t\t\t\t\t}  ,\n",
    "\t\t\t\t\t\t\t{%- endfor %} };\n",
    "\t\t\tvar options = {\n",
    "\t\t\t\texclusiveGroups : [ {%- for i in this._radio %} \"{{i}}\", {%- endfor %} ],\n",
    "\t\t\t\tcontainer_width \t: \"300px\",\n",
    "\t\t\t\tgroup_maxHeight     : \"80px\",\n",
    "\t\t\t\texclusive       \t: false,\n",
    "\t\t\t\tcollapsed : true, \n",
    "\t\t\t\tposition: 'topright',\n",
    "\t\t\t\tshow: false\n",
    "\t\t\t};\n",
    "\t\t\t\n",
    "\t\t\tL.control.groupedLayers(baseMaps, overlays, options).addTo({{ this._parent.get_name() }})\n",
    "\t\t\t\n",
    "\t\t\tdocument.getElementById('idname').click();\n",
    "        {% endmacro %}\n",
    "        \"\"\")\n",
    "\t\t\n",
    "\tdef __init__(self, bmaps, olays, radio, name=None, overlay=True, control=True, show=True, options=None, **kwargs):\n",
    "\t\tsuper(GroupedLayerControl, self).__init__(name=name, overlay=overlay, control=control, show=show)\n",
    "\t\tself._basemaps = bmaps\n",
    "\t\tself._overlays = olays\n",
    "\t\tself._radio = radio\n",
    "\t\tself._name = 'GroupedLayerControl'"
   ]
  },
  {
   "cell_type": "code",
   "execution_count": 7,
   "metadata": {
    "ExecuteTime": {
     "end_time": "2022-12-21T12:06:15.871695Z",
     "start_time": "2022-12-21T12:06:15.857661Z"
    }
   },
   "outputs": [
    {
     "data": {
      "text/plain": [
       "array(['start-up', 'artificial intelligence', 'satellite technology',\n",
       "       'energy storage technology', 'smart technology',\n",
       "       'smart home technology', 'blockchain', 'VR technology',\n",
       "       'digital health', 'data analytics', 'crowd funding',\n",
       "       'cloud-based software', 'data storage', 'neuroplasticity',\n",
       "       'aerospace engineering', 'renewable energy',\n",
       "       'autonomous vehicle technology', 'automation systems',\n",
       "       'space exploration', 'agtech', 'blockchain innovation',\n",
       "       'smart technologies', 'photovoltaic panels', 'aerial-mapping',\n",
       "       'virtual reality', 'augmented reality', 'e-invoicing', 'robotics',\n",
       "       'point of sale'], dtype=object)"
      ]
     },
     "execution_count": 7,
     "metadata": {},
     "output_type": "execute_result"
    }
   ],
   "source": [
    "df1.tech.unique()"
   ]
  },
  {
   "cell_type": "code",
   "execution_count": 8,
   "metadata": {
    "ExecuteTime": {
     "end_time": "2022-12-21T12:06:15.887625Z",
     "start_time": "2022-12-21T12:06:15.872622Z"
    },
    "code_folding": [
     0
    ]
   },
   "outputs": [],
   "source": [
    "def create_groupdate(df, key_list):\n",
    "\n",
    "    #prepare\n",
    "    groupdate = df1[(~df1['organization'].isna())\n",
    "                   & (df1['tech'].isin(key_list))].groupby(\n",
    "                       'date_')['organization'].apply(','.join).reset_index()\n",
    "    \n",
    "    groupdate = groupdate.drop(axis=1, index=len(groupdate) - 1)\n",
    "\n",
    "    groupdate['year'] = groupdate['date_'].apply(\n",
    "        lambda x: x.split(',')[1].strip(\" \"))\n",
    "\n",
    "    groupdate2 = groupdate.groupby('year')['organization'].apply(\n",
    "        ','.join).reset_index()\n",
    "\n",
    "    return groupdate2"
   ]
  },
  {
   "cell_type": "code",
   "execution_count": 9,
   "metadata": {
    "ExecuteTime": {
     "end_time": "2022-12-21T12:06:15.903542Z",
     "start_time": "2022-12-21T12:06:15.888579Z"
    },
    "code_folding": [
     0
    ]
   },
   "outputs": [],
   "source": [
    "def prepare_map(groupdate2, sa_only, a):\n",
    "    #get the frame for the map\n",
    "    new = pd.DataFrame()\n",
    "\n",
    "    for i in range(len(sa_only)):\n",
    "        try:\n",
    "            temp = groupdate2['organization'].apply(lambda x: x.count(sa_only['big_list_name'].loc[i]))\n",
    "\n",
    "            temp1 = groupdate2[['year']].copy()\n",
    "            temp1['weight'] = temp\n",
    "            temp1['lat'] = sa_only['geometry.location.lat'].loc[i]\n",
    "            temp1['lng'] = sa_only['geometry.location.lng'].loc[i]\n",
    "            temp1['saindex'] = sa_only['index'].iloc[i]\n",
    "\n",
    "            new = pd.concat([new,temp1],ignore_index=True)\n",
    "        except:\n",
    "            print(i)\n",
    "\n",
    "    #get the data for time-lapse heat map\n",
    "\n",
    "#     new['weight_2'] = winsorize((new['weight']), limits=[0, 0.005]).tolist()\n",
    "\n",
    "#     new = new[new.weight_2!=0].reset_index(drop=True).copy()\n",
    "#     new['weight_2'] = new['weight_2'] /new['weight_2'].abs().max()\n",
    "    new = new.sort_values(['year']).reset_index(drop=True)\n",
    "    \n",
    "    return new"
   ]
  },
  {
   "cell_type": "code",
   "execution_count": 10,
   "metadata": {
    "ExecuteTime": {
     "end_time": "2022-12-21T12:07:03.451639Z",
     "start_time": "2022-12-21T12:06:15.904537Z"
    }
   },
   "outputs": [],
   "source": [
    "sa_only = loc.reset_index(drop=True)\n",
    "sa_only = sa_only[['geometry.location.lat','geometry.location.lng','big_list_name']]\n",
    "sa_only = sa_only.reset_index()\n",
    "sa_only = sa_only[~sa_only['big_list_name'].isna()].reset_index(drop=True)\n",
    "\n",
    "a = 0.005\n",
    "\n",
    "frame1 = prepare_map(create_groupdate(df1, Aerospace_Space), sa_only, a)\n",
    "frame1['tech'] = 'Aerospace Space and Space'"
   ]
  },
  {
   "cell_type": "code",
   "execution_count": 11,
   "metadata": {
    "ExecuteTime": {
     "end_time": "2022-12-21T12:07:49.420739Z",
     "start_time": "2022-12-21T12:07:03.452631Z"
    }
   },
   "outputs": [],
   "source": [
    "frame2 = prepare_map(create_groupdate(df1, Advanced_manufacturing), sa_only, a)\n",
    "frame2['tech'] = 'Advanced manufacturing'"
   ]
  },
  {
   "cell_type": "code",
   "execution_count": 12,
   "metadata": {
    "ExecuteTime": {
     "end_time": "2022-12-21T12:08:34.481723Z",
     "start_time": "2022-12-21T12:07:49.421526Z"
    }
   },
   "outputs": [],
   "source": [
    "frame3 = prepare_map(create_groupdate(df1, Agtech), sa_only, a)\n",
    "frame3['tech'] = 'Agtech'"
   ]
  },
  {
   "cell_type": "code",
   "execution_count": 13,
   "metadata": {
    "ExecuteTime": {
     "end_time": "2022-12-21T12:09:19.664494Z",
     "start_time": "2022-12-21T12:08:34.482721Z"
    }
   },
   "outputs": [],
   "source": [
    "frame4 = prepare_map(create_groupdate(df1, Digital_infrastructure), sa_only, a)\n",
    "frame4['tech'] = 'Digital infrastructure'"
   ]
  },
  {
   "cell_type": "code",
   "execution_count": 14,
   "metadata": {
    "ExecuteTime": {
     "end_time": "2022-12-21T12:10:04.609945Z",
     "start_time": "2022-12-21T12:09:19.665488Z"
    }
   },
   "outputs": [],
   "source": [
    "frame5 = prepare_map(create_groupdate(df1, Health_medical), sa_only, a)\n",
    "frame5['tech'] = 'Health and medical technology'"
   ]
  },
  {
   "cell_type": "code",
   "execution_count": 15,
   "metadata": {
    "ExecuteTime": {
     "end_time": "2022-12-21T12:10:52.315538Z",
     "start_time": "2022-12-21T12:10:04.611900Z"
    }
   },
   "outputs": [],
   "source": [
    "frame6 = prepare_map(create_groupdate(df1, Machine_learning), sa_only, a)\n",
    "frame6['tech'] = 'Machine learning and big data'"
   ]
  },
  {
   "cell_type": "code",
   "execution_count": 16,
   "metadata": {
    "ExecuteTime": {
     "end_time": "2022-12-21T12:11:40.532615Z",
     "start_time": "2022-12-21T12:10:52.316536Z"
    }
   },
   "outputs": [],
   "source": [
    "frame7 = prepare_map(create_groupdate(df1, Renewable_energy), sa_only, a)\n",
    "frame7['tech'] = 'Renewable energy'"
   ]
  },
  {
   "cell_type": "code",
   "execution_count": 17,
   "metadata": {
    "ExecuteTime": {
     "end_time": "2022-12-21T12:12:25.935299Z",
     "start_time": "2022-12-21T12:11:40.533658Z"
    },
    "scrolled": true
   },
   "outputs": [],
   "source": [
    "frame8 = prepare_map(create_groupdate(df1, VFX_VR_AR), sa_only, a)\n",
    "frame8['tech'] = 'VFX, VR, and AR'"
   ]
  },
  {
   "cell_type": "code",
   "execution_count": 18,
   "metadata": {
    "ExecuteTime": {
     "end_time": "2022-12-21T12:13:12.625894Z",
     "start_time": "2022-12-21T12:12:25.936248Z"
    }
   },
   "outputs": [],
   "source": [
    "frame9 = prepare_map(create_groupdate(df1, start_up), sa_only, a)\n",
    "frame9['tech'] = 'start up'"
   ]
  },
  {
   "cell_type": "code",
   "execution_count": 19,
   "metadata": {
    "ExecuteTime": {
     "end_time": "2022-12-21T12:13:12.845345Z",
     "start_time": "2022-12-21T12:13:12.626589Z"
    }
   },
   "outputs": [],
   "source": [
    "final_frame = pd.concat([frame1,frame2,frame3,frame4,frame5,frame6,frame7,frame8,frame9], ignore_index=True)\n",
    "\n",
    "final_frame['weight_2'] = winsorize((final_frame['weight']), limits=[0, 0.005]).tolist()\n",
    "\n",
    "final_frame = final_frame[final_frame.weight_2!=0].reset_index(drop=True).copy()\n",
    "final_frame['weight_2'] = final_frame['weight_2'] /final_frame['weight_2'].abs().max()"
   ]
  },
  {
   "cell_type": "code",
   "execution_count": 20,
   "metadata": {
    "ExecuteTime": {
     "end_time": "2022-12-21T12:13:12.860001Z",
     "start_time": "2022-12-21T12:13:12.846038Z"
    },
    "scrolled": true
   },
   "outputs": [],
   "source": [
    "# import os\n",
    "# import random\n",
    "\n",
    "# import folium\n",
    "# from folium import plugins\n",
    "# import pandas as pd\n",
    "# import numpy as np\n",
    "\n",
    "# for y in ['2019', '2020', '2021', '2022']:\n",
    "#     print(y)\n",
    "#     # Generate base data\n",
    "#     data_df_gp1 = final_frame[final_frame['year'] == y]\n",
    "\n",
    "#     # Base map\n",
    "#     m = folium.Map([-25.714884, 135.219674], tiles=None, zoom_start=6)\n",
    "\n",
    "#     folium.TileLayer('CartoDB positron', name=\"Light Map\", control=False).add_to(m)\n",
    "\n",
    "#     # Create 2 featuregroup\n",
    "#     for name in data_df_gp1['tech'].unique().tolist():\n",
    "#         print(name)\n",
    "#         print(len(data_df_gp1[data_df_gp1['tech'] == name][['lat', 'lng',\n",
    "#                                                    'weight_2']]))\n",
    "#         folium.plugins.HeatMap(\n",
    "#             data_df_gp1[data_df_gp1['tech'] == name][['lat', 'lng',\n",
    "#                                                    'weight_2']].to_numpy(),\n",
    "#             radius=5,\n",
    "#             blur=5).add_to(\n",
    "#                 folium.FeatureGroup(name='{}'.format(name), overlay=False).add_to(m))\n",
    "        \n",
    "#     # Add LayerControl\n",
    "#     folium.LayerControl(collapsed=False).add_to(m)\n",
    "\n",
    "#     # show map\n",
    "# #     m.save('tech_heatmap_{}.html'.format(y))"
   ]
  },
  {
   "cell_type": "code",
   "execution_count": 21,
   "metadata": {
    "ExecuteTime": {
     "end_time": "2022-12-21T12:13:13.982593Z",
     "start_time": "2022-12-21T12:13:12.861003Z"
    }
   },
   "outputs": [
    {
     "name": "stdout",
     "output_type": "stream",
     "text": [
      "Aerospace Space and Space\n",
      "Advanced manufacturing\n",
      "Agtech\n",
      "Digital infrastructure\n",
      "Health and medical technology\n",
      "Machine learning and big data\n",
      "Renewable energy\n",
      "VFX, VR, and AR\n",
      "start up\n"
     ]
    }
   ],
   "source": [
    "import os\n",
    "import random\n",
    "\n",
    "import folium\n",
    "from folium import plugins\n",
    "import pandas as pd\n",
    "import numpy as np\n",
    "\n",
    "for name in final_frame['tech'].unique().tolist():\n",
    "    print(name)\n",
    "    # Generate base data\n",
    "    data_df_gp1 = final_frame[final_frame['tech'] == name]\n",
    "\n",
    "    # Base map\n",
    "    m = folium.Map([-25.714884, 135.219674], tiles=None, zoom_start=6)\n",
    "\n",
    "    folium.TileLayer('CartoDB positron', name=\"Light Map\", control=False).add_to(m)\n",
    "\n",
    "    # Create 2 featuregroup\n",
    "    for y in ['2019','2020','2021','2022']:\n",
    "#         print(name)\n",
    "#         print(len(data_df_gp1[data_df_gp1['year'] == y][['lat', 'lng',\n",
    "#                                                    'weight_2']]))\n",
    "        folium.plugins.HeatMap(\n",
    "            data_df_gp1[data_df_gp1['year'] == y][['lat', 'lng',\n",
    "                                                   'weight_2']].to_numpy(),\n",
    "            radius=5,\n",
    "            blur=5).add_to(\n",
    "                folium.FeatureGroup(name='{}'.format(y), overlay=False).add_to(m))\n",
    "        \n",
    "    # Add LayerControl\n",
    "    folium.LayerControl(collapsed=False).add_to(m)\n",
    "\n",
    "    # show map\n",
    "    m.save('tech_heatmap_{}.html'.format(name))"
   ]
  },
  {
   "cell_type": "code",
   "execution_count": null,
   "metadata": {},
   "outputs": [],
   "source": []
  }
 ],
 "metadata": {
  "kernelspec": {
   "display_name": "Python 3",
   "language": "python",
   "name": "python3"
  },
  "language_info": {
   "codemirror_mode": {
    "name": "ipython",
    "version": 3
   },
   "file_extension": ".py",
   "mimetype": "text/x-python",
   "name": "python",
   "nbconvert_exporter": "python",
   "pygments_lexer": "ipython3",
   "version": "3.7.6"
  },
  "toc": {
   "base_numbering": 1,
   "nav_menu": {},
   "number_sections": true,
   "sideBar": true,
   "skip_h1_title": false,
   "title_cell": "Table of Contents",
   "title_sidebar": "Contents",
   "toc_cell": false,
   "toc_position": {},
   "toc_section_display": true,
   "toc_window_display": false
  },
  "varInspector": {
   "cols": {
    "lenName": 16,
    "lenType": 16,
    "lenVar": 40
   },
   "kernels_config": {
    "python": {
     "delete_cmd_postfix": "",
     "delete_cmd_prefix": "del ",
     "library": "var_list.py",
     "varRefreshCmd": "print(var_dic_list())"
    },
    "r": {
     "delete_cmd_postfix": ") ",
     "delete_cmd_prefix": "rm(",
     "library": "var_list.r",
     "varRefreshCmd": "cat(var_dic_list()) "
    }
   },
   "types_to_exclude": [
    "module",
    "function",
    "builtin_function_or_method",
    "instance",
    "_Feature"
   ],
   "window_display": false
  }
 },
 "nbformat": 4,
 "nbformat_minor": 4
}
