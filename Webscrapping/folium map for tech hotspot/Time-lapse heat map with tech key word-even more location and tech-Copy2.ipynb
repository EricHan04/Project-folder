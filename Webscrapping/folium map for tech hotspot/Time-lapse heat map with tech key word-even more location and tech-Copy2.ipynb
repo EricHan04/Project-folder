{
 "cells": [
  {
   "cell_type": "code",
   "execution_count": 1,
   "metadata": {
    "ExecuteTime": {
     "end_time": "2022-12-20T12:02:54.187140Z",
     "start_time": "2022-12-20T12:02:52.359954Z"
    }
   },
   "outputs": [],
   "source": [
    "import pandas as pd\n",
    "import numpy as np\n",
    "import folium \n",
    "import geopandas as gpd\n",
    "import folium.plugins as plugins\n",
    "\n",
    "from datetime import datetime\n",
    "\n",
    "\n",
    "from difflib import get_close_matches\n",
    "\n",
    "import matplotlib.pyplot as plt\n",
    "import matplotlib.pyplot\n",
    "\n",
    "%matplotlib inline\n",
    "\n",
    "# import chart_studio.plotly as py\n",
    "# import plotly.graph_objects as go\n",
    "\n",
    "import seaborn as sns\n",
    "\n",
    "pd.set_option('display.max_columns', None)\n",
    "pd.set_option('display.expand_frame_repr', False)\n",
    "pd.set_option('max_colwidth', None)\n",
    "\n",
    "from scipy.stats.mstats import winsorize"
   ]
  },
  {
   "cell_type": "code",
   "execution_count": 2,
   "metadata": {
    "ExecuteTime": {
     "end_time": "2022-12-20T12:03:19.387897Z",
     "start_time": "2022-12-20T12:03:19.319080Z"
    }
   },
   "outputs": [
    {
     "name": "stdout",
     "output_type": "stream",
     "text": [
      "5375\n"
     ]
    }
   ],
   "source": [
    "#load tech_1\n",
    "tech1 = pd.read_csv(\n",
    "    r'C:\\Users\\duchi\\OneDrive - University of South Australia\\Python\\3 webscrapping\\3 summary\\tech_1.csv',\n",
    "    encoding='iso-8859-1')\n",
    "\n",
    "#load location tech1 (for non-similar names only (around 2000))\n",
    "loc_tech1 = pd.read_csv(\n",
    "    r'C:\\Users\\duchi\\OneDrive - University of South Australia\\Python\\3 webscrapping\\3 summary\\loc_for_tech_1.csv',\n",
    "    encoding='iso-8859-1')\n",
    "\n",
    "print(len(loc_tech1))"
   ]
  },
  {
   "cell_type": "code",
   "execution_count": 3,
   "metadata": {
    "ExecuteTime": {
     "end_time": "2022-12-20T12:03:38.716721Z",
     "start_time": "2022-12-20T12:03:35.862814Z"
    },
    "code_folding": [
     4
    ]
   },
   "outputs": [
    {
     "name": "stdout",
     "output_type": "stream",
     "text": [
      "3117\n",
      "3117\n"
     ]
    }
   ],
   "source": [
    "#prepare tech_2\n",
    "\n",
    "df1 = pd.read_csv(\n",
    "    r'C:\\Users\\duchi\\OneDrive - University of South Australia\\Python\\3 webscrapping\\4 do it again\\spacy name entities\\name_entity_proquest_tech(2).csv',\n",
    "    encoding='iso-8859-1')\n",
    "df1_1 = pd.DataFrame()\n",
    "\n",
    "#prep the data for organization name\n",
    "for i in range(len(df1)):\n",
    "\n",
    "    x = df1['organization'].loc[i]\n",
    "    list_1 = []\n",
    "\n",
    "    if type(x) != float:\n",
    "        list_1 = list_1 + [y.strip(\"''\") for y in x.split(', ')]\n",
    "        temp = pd.DataFrame({'org': list_1})\n",
    "        temp['tech'] = df1.tech.loc[i]\n",
    "        df1_1 = pd.concat([df1_1, temp], ignore_index=True)\n",
    "    else:\n",
    "        pass\n",
    "\n",
    "test1 = pd.read_csv(\n",
    "    r'C:\\Users\\duchi\\OneDrive - University of South Australia\\Python\\3 webscrapping\\2 newspaper\\technews(2)_1000.csv',\n",
    "    encoding='iso-8859-1')\n",
    "test2 = pd.read_csv(\n",
    "    r'C:\\Users\\duchi\\OneDrive - University of South Australia\\Python\\3 webscrapping\\2 newspaper\\technews(2)_2000.csv',\n",
    "    encoding='iso-8859-1')\n",
    "test3 = pd.read_csv(\n",
    "    r'C:\\Users\\duchi\\OneDrive - University of South Australia\\Python\\3 webscrapping\\2 newspaper\\technews(2)_3000.csv',\n",
    "    encoding='iso-8859-1')\n",
    "\n",
    "pq_link = pd.concat([test1,test2,test3], ignore_index=True)\n",
    "\n",
    "#merge date time with organization name\n",
    "print(len(df1))\n",
    "df1 = pd.merge(df1, pq_link[['tech','link','date_']], how='left', on=['tech','link'])\n",
    "print(len(df1))\n",
    "\n",
    "df1 = df1.reset_index()"
   ]
  },
  {
   "cell_type": "code",
   "execution_count": 4,
   "metadata": {
    "ExecuteTime": {
     "end_time": "2022-12-20T12:03:48.161243Z",
     "start_time": "2022-12-20T12:03:48.134086Z"
    },
    "code_folding": [],
    "scrolled": true
   },
   "outputs": [
    {
     "name": "stdout",
     "output_type": "stream",
     "text": [
      "2874\n"
     ]
    }
   ],
   "source": [
    "# load location of organization (for non-similar name only)\n",
    "loc1 = pd.read_csv(\n",
    "    r'C:\\Users\\duchi\\OneDrive - University of South Australia\\Python\\3 webscrapping\\4 do it again\\spacy name entities\\geo_location(2)_1.csv',\n",
    "    encoding='iso-8859-1')\n",
    "\n",
    "print(len(loc1))"
   ]
  },
  {
   "cell_type": "code",
   "execution_count": 5,
   "metadata": {
    "ExecuteTime": {
     "end_time": "2022-12-20T12:04:03.221891Z",
     "start_time": "2022-12-20T12:04:03.162052Z"
    }
   },
   "outputs": [
    {
     "name": "stdout",
     "output_type": "stream",
     "text": [
      "14419\n"
     ]
    }
   ],
   "source": [
    "# more location for organization (from similar name)\n",
    "loc_similar1 = pd.read_csv(\n",
    "    r'C:\\Users\\duchi\\OneDrive - University of South Australia\\Python\\3 webscrapping\\4 do it again\\spacy name entities\\geo_location_similar.csv',\n",
    "    encoding='iso-8859-1')\n",
    "\n",
    "print(len(loc_similar1))"
   ]
  },
  {
   "cell_type": "code",
   "execution_count": 6,
   "metadata": {
    "ExecuteTime": {
     "end_time": "2022-12-20T12:04:03.710850Z",
     "start_time": "2022-12-20T12:04:03.671973Z"
    },
    "scrolled": true
   },
   "outputs": [
    {
     "name": "stdout",
     "output_type": "stream",
     "text": [
      "3117\n",
      "4373\n",
      "7490\n",
      "7490\n"
     ]
    },
    {
     "data": {
      "text/html": [
       "<div>\n",
       "<style scoped>\n",
       "    .dataframe tbody tr th:only-of-type {\n",
       "        vertical-align: middle;\n",
       "    }\n",
       "\n",
       "    .dataframe tbody tr th {\n",
       "        vertical-align: top;\n",
       "    }\n",
       "\n",
       "    .dataframe thead th {\n",
       "        text-align: right;\n",
       "    }\n",
       "</style>\n",
       "<table border=\"1\" class=\"dataframe\">\n",
       "  <thead>\n",
       "    <tr style=\"text-align: right;\">\n",
       "      <th></th>\n",
       "      <th>index</th>\n",
       "      <th>link</th>\n",
       "      <th>tech</th>\n",
       "      <th>person</th>\n",
       "      <th>nationality</th>\n",
       "      <th>building</th>\n",
       "      <th>organization</th>\n",
       "      <th>country</th>\n",
       "      <th>location</th>\n",
       "      <th>product</th>\n",
       "      <th>event</th>\n",
       "      <th>money</th>\n",
       "      <th>date_</th>\n",
       "    </tr>\n",
       "  </thead>\n",
       "  <tbody>\n",
       "    <tr>\n",
       "      <th>0</th>\n",
       "      <td>0</td>\n",
       "      <td>https://www.proquest.com/anznews/docview/2673010738/5C465B1D225B42F9PQ/1?accountid=14649</td>\n",
       "      <td>start-up</td>\n",
       "      <td>tom, tom s</td>\n",
       "      <td>NaN</td>\n",
       "      <td>NaN</td>\n",
       "      <td>western ridge brewery, stien s taphouse</td>\n",
       "      <td>adelaide, nuriootpa</td>\n",
       "      <td>NaN</td>\n",
       "      <td>NaN</td>\n",
       "      <td>NaN</td>\n",
       "      <td>an extra cents, the two million dollars</td>\n",
       "      <td>Jun 3, 2022</td>\n",
       "    </tr>\n",
       "    <tr>\n",
       "      <th>1</th>\n",
       "      <td>1</td>\n",
       "      <td>https://www.proquest.com/anznews/docview/2677962027/5C465B1D225B42F9PQ/2?accountid=14649</td>\n",
       "      <td>start-up</td>\n",
       "      <td>lynch, eddie mcguire, wrest, gill mclachlan, mclachlan, rockliff, gillon mclachlan, jeremy rockliff, jeff kennett, john olsen, david koch, colin carter, brett stubbs</td>\n",
       "      <td>tasmania, tasmanians, tasmanian, hawthorn</td>\n",
       "      <td>NaN</td>\n",
       "      <td>collingwood, carbine club, afl, gws, hawks</td>\n",
       "      <td>tasmania, north melbourne, australia, hobart, melbourne, tassie, adelaide, port adelaide</td>\n",
       "      <td>NaN</td>\n",
       "      <td>NaN</td>\n",
       "      <td>NaN</td>\n",
       "      <td>NaN</td>\n",
       "      <td>Jun 17, 2022</td>\n",
       "    </tr>\n",
       "    <tr>\n",
       "      <th>2</th>\n",
       "      <td>2</td>\n",
       "      <td>https://www.proquest.com/anznews/docview/2678516294/5C465B1D225B42F9PQ/3?accountid=14649</td>\n",
       "      <td>start-up</td>\n",
       "      <td>brendan dobson, hope forrest, noel lindsay, dobson</td>\n",
       "      <td>NaN</td>\n",
       "      <td>NaN</td>\n",
       "      <td>the university of adelaide s, renmark university of adelaide s, university of adelaide, the renmark irrigation trust</td>\n",
       "      <td>NaN</td>\n",
       "      <td>riverland, australia, the riverland region</td>\n",
       "      <td>NaN</td>\n",
       "      <td>NaN</td>\n",
       "      <td>NaN</td>\n",
       "      <td>Jun 21, 2022</td>\n",
       "    </tr>\n",
       "    <tr>\n",
       "      <th>3</th>\n",
       "      <td>3</td>\n",
       "      <td>https://www.proquest.com/anznews/docview/2702628411/5C465B1D225B42F9PQ/4?accountid=14649</td>\n",
       "      <td>start-up</td>\n",
       "      <td>sam messina, christian alexandru, messina, alexandru, ortomi, noel lindsay, lindsay</td>\n",
       "      <td>NaN</td>\n",
       "      <td>NaN</td>\n",
       "      <td>the university of adelaide s, ortomi, the university of adelaide</td>\n",
       "      <td>us</td>\n",
       "      <td>NaN</td>\n",
       "      <td>NaN</td>\n",
       "      <td>NaN</td>\n",
       "      <td>NaN</td>\n",
       "      <td>Aug 17, 2022</td>\n",
       "    </tr>\n",
       "    <tr>\n",
       "      <th>4</th>\n",
       "      <td>4</td>\n",
       "      <td>https://www.proquest.com/anznews/docview/2700310489/5C465B1D225B42F9PQ/5?accountid=14649</td>\n",
       "      <td>start-up</td>\n",
       "      <td>richard payne, john lasich, payne</td>\n",
       "      <td>victorian, australian</td>\n",
       "      <td>NaN</td>\n",
       "      <td>raygen, agl chevron s, equinor photon energy, schlumberger new energy, agl</td>\n",
       "      <td>carwarp, shanghai, russia, ukraine, liddell, nsw, south australia</td>\n",
       "      <td>europe, the netherlands</td>\n",
       "      <td>NaN</td>\n",
       "      <td>NaN</td>\n",
       "      <td>NaN</td>\n",
       "      <td>Aug 9, 2022</td>\n",
       "    </tr>\n",
       "  </tbody>\n",
       "</table>\n",
       "</div>"
      ],
      "text/plain": [
       "   index                                                                                      link      tech                                                                                                                                                                 person                                nationality building                                                                                                          organization                                                                                   country                                    location product event                                    money         date_\n",
       "0      0  https://www.proquest.com/anznews/docview/2673010738/5C465B1D225B42F9PQ/1?accountid=14649  start-up                                                                                                                                                             tom, tom s                                        NaN      NaN                                                                               western ridge brewery, stien s taphouse                                                                       adelaide, nuriootpa                                         NaN     NaN   NaN  an extra cents, the two million dollars   Jun 3, 2022\n",
       "1      1  https://www.proquest.com/anznews/docview/2677962027/5C465B1D225B42F9PQ/2?accountid=14649  start-up  lynch, eddie mcguire, wrest, gill mclachlan, mclachlan, rockliff, gillon mclachlan, jeremy rockliff, jeff kennett, john olsen, david koch, colin carter, brett stubbs  tasmania, tasmanians, tasmanian, hawthorn      NaN                                                                            collingwood, carbine club, afl, gws, hawks  tasmania, north melbourne, australia, hobart, melbourne, tassie, adelaide, port adelaide                                         NaN     NaN   NaN                                      NaN  Jun 17, 2022\n",
       "2      2  https://www.proquest.com/anznews/docview/2678516294/5C465B1D225B42F9PQ/3?accountid=14649  start-up                                                                                                                     brendan dobson, hope forrest, noel lindsay, dobson                                        NaN      NaN  the university of adelaide s, renmark university of adelaide s, university of adelaide, the renmark irrigation trust                                                                                       NaN  riverland, australia, the riverland region     NaN   NaN                                      NaN  Jun 21, 2022\n",
       "3      3  https://www.proquest.com/anznews/docview/2702628411/5C465B1D225B42F9PQ/4?accountid=14649  start-up                                                                                    sam messina, christian alexandru, messina, alexandru, ortomi, noel lindsay, lindsay                                        NaN      NaN                                                      the university of adelaide s, ortomi, the university of adelaide                                                                                        us                                         NaN     NaN   NaN                                      NaN  Aug 17, 2022\n",
       "4      4  https://www.proquest.com/anznews/docview/2700310489/5C465B1D225B42F9PQ/5?accountid=14649  start-up                                                                                                                                      richard payne, john lasich, payne                      victorian, australian      NaN                                            raygen, agl chevron s, equinor photon energy, schlumberger new energy, agl                         carwarp, shanghai, russia, ukraine, liddell, nsw, south australia                     europe, the netherlands     NaN   NaN                                      NaN   Aug 9, 2022"
      ]
     },
     "execution_count": 6,
     "metadata": {},
     "output_type": "execute_result"
    }
   ],
   "source": [
    "print(len(df1))\n",
    "print(len(tech1))\n",
    "df1 = pd.concat([df1,tech1],ignore_index=True)\n",
    "print(len(df1))\n",
    "df1 = df1.drop_duplicates(ignore_index=True)\n",
    "print(len(df1))\n",
    "df1.head()"
   ]
  },
  {
   "cell_type": "code",
   "execution_count": 7,
   "metadata": {
    "ExecuteTime": {
     "end_time": "2022-12-20T12:04:05.970653Z",
     "start_time": "2022-12-20T12:04:05.935216Z"
    }
   },
   "outputs": [
    {
     "name": "stdout",
     "output_type": "stream",
     "text": [
      "2874\n",
      "5375\n",
      "14419\n",
      "22668\n",
      "20469\n"
     ]
    }
   ],
   "source": [
    "print(len(loc1))\n",
    "print(len(loc_tech1))\n",
    "print(len(loc_similar1))\n",
    "\n",
    "loc = pd.concat([loc1,loc_tech1,loc_similar1],ignore_index=True)\n",
    "\n",
    "print(len(loc))\n",
    "loc=loc.drop_duplicates(ignore_index=True)\n",
    "\n",
    "print(len(loc))"
   ]
  },
  {
   "cell_type": "code",
   "execution_count": 8,
   "metadata": {
    "ExecuteTime": {
     "end_time": "2022-12-20T12:04:06.492409Z",
     "start_time": "2022-12-20T12:04:06.471464Z"
    }
   },
   "outputs": [
    {
     "data": {
      "text/html": [
       "<div>\n",
       "<style scoped>\n",
       "    .dataframe tbody tr th:only-of-type {\n",
       "        vertical-align: middle;\n",
       "    }\n",
       "\n",
       "    .dataframe tbody tr th {\n",
       "        vertical-align: top;\n",
       "    }\n",
       "\n",
       "    .dataframe thead th {\n",
       "        text-align: right;\n",
       "    }\n",
       "</style>\n",
       "<table border=\"1\" class=\"dataframe\">\n",
       "  <thead>\n",
       "    <tr style=\"text-align: right;\">\n",
       "      <th></th>\n",
       "      <th>formatted_address</th>\n",
       "      <th>name</th>\n",
       "      <th>rating</th>\n",
       "      <th>geometry.location.lat</th>\n",
       "      <th>geometry.location.lng</th>\n",
       "      <th>geometry.viewport.northeast.lat</th>\n",
       "      <th>geometry.viewport.northeast.lng</th>\n",
       "      <th>geometry.viewport.southwest.lat</th>\n",
       "      <th>geometry.viewport.southwest.lng</th>\n",
       "      <th>opening_hours.open_now</th>\n",
       "      <th>big_list_name</th>\n",
       "      <th>adelaide?</th>\n",
       "      <th>south_australia?</th>\n",
       "      <th>sa?</th>\n",
       "      <th>australia?</th>\n",
       "    </tr>\n",
       "  </thead>\n",
       "  <tbody>\n",
       "    <tr>\n",
       "      <th>0</th>\n",
       "      <td>2-4 Kalimna Rd, Nuriootpa SA 5355, Australia</td>\n",
       "      <td>Western Ridge Brewing</td>\n",
       "      <td>4.9</td>\n",
       "      <td>-34.458271</td>\n",
       "      <td>138.998596</td>\n",
       "      <td>-34.456562</td>\n",
       "      <td>139.000131</td>\n",
       "      <td>-34.459262</td>\n",
       "      <td>138.997431</td>\n",
       "      <td>False</td>\n",
       "      <td>western ridge brewery</td>\n",
       "      <td>-1</td>\n",
       "      <td>-1</td>\n",
       "      <td>26</td>\n",
       "      <td>35</td>\n",
       "    </tr>\n",
       "    <tr>\n",
       "      <th>1</th>\n",
       "      <td>149 Murray Ave, Renmark SA 5341, Australia</td>\n",
       "      <td>Renmark Irrigation Trust</td>\n",
       "      <td>0.0</td>\n",
       "      <td>-34.173396</td>\n",
       "      <td>140.750167</td>\n",
       "      <td>-34.172062</td>\n",
       "      <td>140.751637</td>\n",
       "      <td>-34.174761</td>\n",
       "      <td>140.748937</td>\n",
       "      <td>True</td>\n",
       "      <td>the renmark irrigation trust</td>\n",
       "      <td>-1</td>\n",
       "      <td>-1</td>\n",
       "      <td>24</td>\n",
       "      <td>33</td>\n",
       "    </tr>\n",
       "    <tr>\n",
       "      <th>2</th>\n",
       "      <td>ThincLab, 10 Pulteney St, Adelaide SA 5000, Australia</td>\n",
       "      <td>Ortomi</td>\n",
       "      <td>0.0</td>\n",
       "      <td>-34.921765</td>\n",
       "      <td>138.605899</td>\n",
       "      <td>-34.920426</td>\n",
       "      <td>138.607052</td>\n",
       "      <td>-34.923126</td>\n",
       "      <td>138.604352</td>\n",
       "      <td>True</td>\n",
       "      <td>ortomi</td>\n",
       "      <td>26</td>\n",
       "      <td>-1</td>\n",
       "      <td>35</td>\n",
       "      <td>44</td>\n",
       "    </tr>\n",
       "    <tr>\n",
       "      <th>3</th>\n",
       "      <td>10 Pulteney St Ground Floor (ThincLab, Adelaide SA 5000, Australia</td>\n",
       "      <td>AMTD Electronics</td>\n",
       "      <td>0.0</td>\n",
       "      <td>-34.921765</td>\n",
       "      <td>138.605899</td>\n",
       "      <td>-34.920518</td>\n",
       "      <td>138.607257</td>\n",
       "      <td>-34.923218</td>\n",
       "      <td>138.604557</td>\n",
       "      <td>True</td>\n",
       "      <td>ortomi</td>\n",
       "      <td>39</td>\n",
       "      <td>-1</td>\n",
       "      <td>48</td>\n",
       "      <td>57</td>\n",
       "    </tr>\n",
       "    <tr>\n",
       "      <th>4</th>\n",
       "      <td>KarolinskÃ¡ 661/4, 186 00 RohanskÃ½ ostrov, Czechia</td>\n",
       "      <td>Photon Energy</td>\n",
       "      <td>4.0</td>\n",
       "      <td>50.094332</td>\n",
       "      <td>14.446315</td>\n",
       "      <td>50.095455</td>\n",
       "      <td>14.447729</td>\n",
       "      <td>50.092755</td>\n",
       "      <td>14.445030</td>\n",
       "      <td>False</td>\n",
       "      <td>equinor photon energy</td>\n",
       "      <td>-1</td>\n",
       "      <td>-1</td>\n",
       "      <td>-1</td>\n",
       "      <td>-1</td>\n",
       "    </tr>\n",
       "  </tbody>\n",
       "</table>\n",
       "</div>"
      ],
      "text/plain": [
       "                                                    formatted_address                      name  rating  geometry.location.lat  geometry.location.lng  geometry.viewport.northeast.lat  geometry.viewport.northeast.lng  geometry.viewport.southwest.lat  geometry.viewport.southwest.lng opening_hours.open_now                 big_list_name  adelaide?  south_australia?  sa?  australia?\n",
       "0                        2-4 Kalimna Rd, Nuriootpa SA 5355, Australia     Western Ridge Brewing     4.9             -34.458271             138.998596                       -34.456562                       139.000131                       -34.459262                       138.997431                  False         western ridge brewery         -1                -1   26          35\n",
       "1                          149 Murray Ave, Renmark SA 5341, Australia  Renmark Irrigation Trust     0.0             -34.173396             140.750167                       -34.172062                       140.751637                       -34.174761                       140.748937                   True  the renmark irrigation trust         -1                -1   24          33\n",
       "2               ThincLab, 10 Pulteney St, Adelaide SA 5000, Australia                    Ortomi     0.0             -34.921765             138.605899                       -34.920426                       138.607052                       -34.923126                       138.604352                   True                        ortomi         26                -1   35          44\n",
       "3  10 Pulteney St Ground Floor (ThincLab, Adelaide SA 5000, Australia          AMTD Electronics     0.0             -34.921765             138.605899                       -34.920518                       138.607257                       -34.923218                       138.604557                   True                        ortomi         39                -1   48          57\n",
       "4                 KarolinskÃ¡ 661/4, 186 00 RohanskÃ½ ostrov, Czechia             Photon Energy     4.0              50.094332              14.446315                        50.095455                        14.447729                        50.092755                        14.445030                  False         equinor photon energy         -1                -1   -1          -1"
      ]
     },
     "execution_count": 8,
     "metadata": {},
     "output_type": "execute_result"
    }
   ],
   "source": [
    "loc.head()"
   ]
  },
  {
   "cell_type": "code",
   "execution_count": 9,
   "metadata": {
    "ExecuteTime": {
     "end_time": "2022-12-20T12:04:09.138807Z",
     "start_time": "2022-12-20T12:04:09.130828Z"
    }
   },
   "outputs": [
    {
     "data": {
      "text/plain": [
       "array(['start-up', 'artificial intelligence', 'satellite technology',\n",
       "       'energy storage technology', 'smart technology',\n",
       "       'smart home technology', 'blockchain', 'VR technology',\n",
       "       'digital health', 'data analytics', 'crowd funding',\n",
       "       'cloud-based software', 'data storage', 'neuroplasticity',\n",
       "       'aerospace engineering', 'renewable energy',\n",
       "       'autonomous vehicle technology', 'automation systems',\n",
       "       'space exploration', 'agtech', 'blockchain innovation',\n",
       "       'smart technologies', 'photovoltaic panels', 'aerial-mapping',\n",
       "       'virtual reality', 'augmented reality', 'e-invoicing', 'robotics',\n",
       "       'point of sale'], dtype=object)"
      ]
     },
     "execution_count": 9,
     "metadata": {},
     "output_type": "execute_result"
    }
   ],
   "source": [
    "df1.tech.unique()"
   ]
  },
  {
   "cell_type": "code",
   "execution_count": 10,
   "metadata": {
    "ExecuteTime": {
     "end_time": "2022-12-20T12:04:09.390755Z",
     "start_time": "2022-12-20T12:04:09.374741Z"
    },
    "code_folding": [
     0,
     3,
     8,
     13
    ]
   },
   "outputs": [],
   "source": [
    "Aerospace_Space = [\n",
    "    'satellite technology', 'aerospace engineering', 'space exploration'\n",
    "]\n",
    "Advanced_manufacturing = [\n",
    "    'smart technology', 'smart home technology', 'automation systems',\n",
    "    'smart technologies', 'photovoltaic panels', 'robotics'\n",
    "]\n",
    "Agtech = ['agtech']\n",
    "Digital_infrastructure = [\n",
    "    'blockchain', 'crowd funding', 'cloud-based software', 'data storage',\n",
    "    'blockchain innovation'\n",
    "]\n",
    "Health_medical = ['digital health', 'neuroplasticity']\n",
    "Machine_learning = [\n",
    "    'data analytics',\n",
    "    'autonomous vehicle technology',\n",
    "    'automation systems',\n",
    "    'blockchain innovation',\n",
    "    'aerial-mapping',\n",
    "    'e-invoicing',\n",
    "    'robotics',\n",
    "    'point of sale',\n",
    "    'artificial intelligence',\n",
    "    'smart technology',\n",
    "    'smart home technology',\n",
    "    'smart technologies',\n",
    "]\n",
    "Renewable_energy = ['energy storage technology', 'renewable energy']\n",
    "VFX_VR_AR = ['VR technology', 'virtual reality', 'augmented reality']\n",
    "start_up = ['start-up']"
   ]
  },
  {
   "cell_type": "code",
   "execution_count": 16,
   "metadata": {
    "ExecuteTime": {
     "end_time": "2022-12-20T12:05:43.497564Z",
     "start_time": "2022-12-20T12:05:43.480609Z"
    },
    "code_folding": []
   },
   "outputs": [],
   "source": [
    "#prepare\n",
    "groupdate = df1[(~df1['organization'].isna())\n",
    "               & (df1['tech'].isin(Aerospace_Space))].groupby(\n",
    "                   'date_')['organization'].apply(','.join).reset_index()\n",
    "groupdate = groupdate.drop(axis=1, index=len(groupdate) - 1)\n",
    "\n",
    "groupdate['year'] = groupdate['date_'].apply(\n",
    "    lambda x: x.split(',')[1].strip(\" \"))\n",
    "\n",
    "groupdate2 = groupdate.groupby('year')['organization'].apply(\n",
    "    ','.join).reset_index()"
   ]
  },
  {
   "cell_type": "code",
   "execution_count": 25,
   "metadata": {
    "ExecuteTime": {
     "end_time": "2022-12-20T12:10:16.921026Z",
     "start_time": "2022-12-20T12:09:33.539277Z"
    },
    "code_folding": [
     8
    ]
   },
   "outputs": [
    {
     "ename": "AttributeError",
     "evalue": "'DataFrame' object has no attribute 'month_year'",
     "output_type": "error",
     "traceback": [
      "\u001b[1;31m---------------------------------------------------------------------------\u001b[0m",
      "\u001b[1;31mAttributeError\u001b[0m                            Traceback (most recent call last)",
      "\u001b[1;32m<ipython-input-25-1e672034f05e>\u001b[0m in \u001b[0;36m<module>\u001b[1;34m\u001b[0m\n\u001b[0;32m     29\u001b[0m \u001b[0mnew\u001b[0m \u001b[1;33m=\u001b[0m \u001b[0mnew\u001b[0m\u001b[1;33m[\u001b[0m\u001b[0mnew\u001b[0m\u001b[1;33m.\u001b[0m\u001b[0mweight_2\u001b[0m\u001b[1;33m!=\u001b[0m\u001b[1;36m0\u001b[0m\u001b[1;33m]\u001b[0m\u001b[1;33m.\u001b[0m\u001b[0mreset_index\u001b[0m\u001b[1;33m(\u001b[0m\u001b[0mdrop\u001b[0m\u001b[1;33m=\u001b[0m\u001b[1;32mTrue\u001b[0m\u001b[1;33m)\u001b[0m\u001b[1;33m.\u001b[0m\u001b[0mcopy\u001b[0m\u001b[1;33m(\u001b[0m\u001b[1;33m)\u001b[0m\u001b[1;33m\u001b[0m\u001b[1;33m\u001b[0m\u001b[0m\n\u001b[0;32m     30\u001b[0m \u001b[0mnew\u001b[0m\u001b[1;33m[\u001b[0m\u001b[1;34m'weight_2'\u001b[0m\u001b[1;33m]\u001b[0m \u001b[1;33m=\u001b[0m \u001b[0mnew\u001b[0m\u001b[1;33m[\u001b[0m\u001b[1;34m'weight_2'\u001b[0m\u001b[1;33m]\u001b[0m \u001b[1;33m/\u001b[0m\u001b[0mnew\u001b[0m\u001b[1;33m[\u001b[0m\u001b[1;34m'weight_2'\u001b[0m\u001b[1;33m]\u001b[0m\u001b[1;33m.\u001b[0m\u001b[0mabs\u001b[0m\u001b[1;33m(\u001b[0m\u001b[1;33m)\u001b[0m\u001b[1;33m.\u001b[0m\u001b[0mmax\u001b[0m\u001b[1;33m(\u001b[0m\u001b[1;33m)\u001b[0m\u001b[1;33m\u001b[0m\u001b[1;33m\u001b[0m\u001b[0m\n\u001b[1;32m---> 31\u001b[1;33m \u001b[0mnew\u001b[0m\u001b[1;33m[\u001b[0m\u001b[1;34m'month'\u001b[0m\u001b[1;33m]\u001b[0m \u001b[1;33m=\u001b[0m \u001b[0mnew\u001b[0m\u001b[1;33m.\u001b[0m\u001b[0mmonth_year\u001b[0m\u001b[1;33m.\u001b[0m\u001b[0mapply\u001b[0m\u001b[1;33m(\u001b[0m\u001b[1;32mlambda\u001b[0m \u001b[0mx\u001b[0m\u001b[1;33m:\u001b[0m \u001b[0mint\u001b[0m\u001b[1;33m(\u001b[0m\u001b[0mx\u001b[0m\u001b[1;33m.\u001b[0m\u001b[0msplit\u001b[0m\u001b[1;33m(\u001b[0m\u001b[1;34m'-'\u001b[0m\u001b[1;33m)\u001b[0m\u001b[1;33m[\u001b[0m\u001b[1;36m0\u001b[0m\u001b[1;33m]\u001b[0m\u001b[1;33m)\u001b[0m\u001b[1;33m)\u001b[0m\u001b[1;33m\u001b[0m\u001b[1;33m\u001b[0m\u001b[0m\n\u001b[0m\u001b[0;32m     32\u001b[0m \u001b[0mnew\u001b[0m\u001b[1;33m[\u001b[0m\u001b[1;34m'year'\u001b[0m\u001b[1;33m]\u001b[0m \u001b[1;33m=\u001b[0m \u001b[0mnew\u001b[0m\u001b[1;33m.\u001b[0m\u001b[0mmonth_year\u001b[0m\u001b[1;33m.\u001b[0m\u001b[0mapply\u001b[0m\u001b[1;33m(\u001b[0m\u001b[1;32mlambda\u001b[0m \u001b[0mx\u001b[0m\u001b[1;33m:\u001b[0m \u001b[0mint\u001b[0m\u001b[1;33m(\u001b[0m\u001b[0mx\u001b[0m\u001b[1;33m.\u001b[0m\u001b[0msplit\u001b[0m\u001b[1;33m(\u001b[0m\u001b[1;34m'-'\u001b[0m\u001b[1;33m)\u001b[0m\u001b[1;33m[\u001b[0m\u001b[1;36m1\u001b[0m\u001b[1;33m]\u001b[0m\u001b[1;33m)\u001b[0m\u001b[1;33m)\u001b[0m\u001b[1;33m\u001b[0m\u001b[1;33m\u001b[0m\u001b[0m\n\u001b[0;32m     33\u001b[0m \u001b[0mnew\u001b[0m \u001b[1;33m=\u001b[0m \u001b[0mnew\u001b[0m\u001b[1;33m.\u001b[0m\u001b[0msort_values\u001b[0m\u001b[1;33m(\u001b[0m\u001b[1;33m[\u001b[0m\u001b[1;34m'year'\u001b[0m\u001b[1;33m,\u001b[0m\u001b[1;34m'month'\u001b[0m\u001b[1;33m]\u001b[0m\u001b[1;33m)\u001b[0m\u001b[1;33m.\u001b[0m\u001b[0mreset_index\u001b[0m\u001b[1;33m(\u001b[0m\u001b[0mdrop\u001b[0m\u001b[1;33m=\u001b[0m\u001b[1;32mTrue\u001b[0m\u001b[1;33m)\u001b[0m\u001b[1;33m\u001b[0m\u001b[1;33m\u001b[0m\u001b[0m\n",
      "\u001b[1;32mC:\\ProgramData\\Anaconda3\\lib\\site-packages\\pandas\\core\\generic.py\u001b[0m in \u001b[0;36m__getattr__\u001b[1;34m(self, name)\u001b[0m\n\u001b[0;32m   5485\u001b[0m         ):\n\u001b[0;32m   5486\u001b[0m             \u001b[1;32mreturn\u001b[0m \u001b[0mself\u001b[0m\u001b[1;33m[\u001b[0m\u001b[0mname\u001b[0m\u001b[1;33m]\u001b[0m\u001b[1;33m\u001b[0m\u001b[1;33m\u001b[0m\u001b[0m\n\u001b[1;32m-> 5487\u001b[1;33m         \u001b[1;32mreturn\u001b[0m \u001b[0mobject\u001b[0m\u001b[1;33m.\u001b[0m\u001b[0m__getattribute__\u001b[0m\u001b[1;33m(\u001b[0m\u001b[0mself\u001b[0m\u001b[1;33m,\u001b[0m \u001b[0mname\u001b[0m\u001b[1;33m)\u001b[0m\u001b[1;33m\u001b[0m\u001b[1;33m\u001b[0m\u001b[0m\n\u001b[0m\u001b[0;32m   5488\u001b[0m \u001b[1;33m\u001b[0m\u001b[0m\n\u001b[0;32m   5489\u001b[0m     \u001b[1;32mdef\u001b[0m \u001b[0m__setattr__\u001b[0m\u001b[1;33m(\u001b[0m\u001b[0mself\u001b[0m\u001b[1;33m,\u001b[0m \u001b[0mname\u001b[0m\u001b[1;33m:\u001b[0m \u001b[0mstr\u001b[0m\u001b[1;33m,\u001b[0m \u001b[0mvalue\u001b[0m\u001b[1;33m)\u001b[0m \u001b[1;33m->\u001b[0m \u001b[1;32mNone\u001b[0m\u001b[1;33m:\u001b[0m\u001b[1;33m\u001b[0m\u001b[1;33m\u001b[0m\u001b[0m\n",
      "\u001b[1;31mAttributeError\u001b[0m: 'DataFrame' object has no attribute 'month_year'"
     ]
    }
   ],
   "source": [
    "sa_only = loc.reset_index(drop=True)\n",
    "sa_only = sa_only[['geometry.location.lat','geometry.location.lng','big_list_name']]\n",
    "sa_only = sa_only.reset_index()\n",
    "sa_only = sa_only[~sa_only['big_list_name'].isna()].reset_index(drop=True)\n",
    "\n",
    "#get the frame for the map\n",
    "new = pd.DataFrame()\n",
    "\n",
    "for i in range(len(sa_only)):\n",
    "    try:\n",
    "        temp = groupdate2['organization'].apply(lambda x: x.count(sa_only['big_list_name'].loc[i]))\n",
    "\n",
    "        temp1 = groupdate2[['year']].copy()\n",
    "        temp1['weight'] = temp\n",
    "        temp1['lat'] = sa_only['geometry.location.lat'].loc[i]\n",
    "        temp1['lng'] = sa_only['geometry.location.lng'].loc[i]\n",
    "        temp1['saindex'] = sa_only['index'].iloc[i]\n",
    "\n",
    "        new = pd.concat([new,temp1],ignore_index=True)\n",
    "    except:\n",
    "        print(i)\n",
    "    \n",
    "#get the data for time-lapse heat map\n",
    "list_ = []\n",
    "year_ = []\n",
    "\n",
    "new['weight_2'] = winsorize((new['weight']), limits=[0, 0.005]).tolist()\n",
    "\n",
    "new = new[new.weight_2!=0].reset_index(drop=True).copy()\n",
    "new['weight_2'] = new['weight_2'] /new['weight_2'].abs().max()\n",
    "# new['month'] = new.month_year.apply(lambda x: int(x.split('-')[0]))\n",
    "# new['year'] = new.month_year.apply(lambda x: int(x.split('-')[1]))\n",
    "new = new.sort_values(['year','month']).reset_index(drop=True)"
   ]
  },
  {
   "cell_type": "code",
   "execution_count": 28,
   "metadata": {
    "ExecuteTime": {
     "end_time": "2022-12-20T12:10:55.495899Z",
     "start_time": "2022-12-20T12:10:55.480939Z"
    }
   },
   "outputs": [],
   "source": [
    "new = new.sort_values(['year']).reset_index(drop=True)"
   ]
  },
  {
   "cell_type": "code",
   "execution_count": 29,
   "metadata": {
    "ExecuteTime": {
     "end_time": "2022-12-20T12:10:57.606346Z",
     "start_time": "2022-12-20T12:10:57.582407Z"
    }
   },
   "outputs": [
    {
     "data": {
      "text/html": [
       "<div>\n",
       "<style scoped>\n",
       "    .dataframe tbody tr th:only-of-type {\n",
       "        vertical-align: middle;\n",
       "    }\n",
       "\n",
       "    .dataframe tbody tr th {\n",
       "        vertical-align: top;\n",
       "    }\n",
       "\n",
       "    .dataframe thead th {\n",
       "        text-align: right;\n",
       "    }\n",
       "</style>\n",
       "<table border=\"1\" class=\"dataframe\">\n",
       "  <thead>\n",
       "    <tr style=\"text-align: right;\">\n",
       "      <th></th>\n",
       "      <th>year</th>\n",
       "      <th>weight</th>\n",
       "      <th>lat</th>\n",
       "      <th>lng</th>\n",
       "      <th>saindex</th>\n",
       "      <th>weight_2</th>\n",
       "    </tr>\n",
       "  </thead>\n",
       "  <tbody>\n",
       "    <tr>\n",
       "      <th>0</th>\n",
       "      <td>2019</td>\n",
       "      <td>1</td>\n",
       "      <td>47.627065</td>\n",
       "      <td>-122.151530</td>\n",
       "      <td>15150</td>\n",
       "      <td>0.023256</td>\n",
       "    </tr>\n",
       "    <tr>\n",
       "      <th>1</th>\n",
       "      <td>2019</td>\n",
       "      <td>20</td>\n",
       "      <td>47.652468</td>\n",
       "      <td>-122.358257</td>\n",
       "      <td>11609</td>\n",
       "      <td>0.465116</td>\n",
       "    </tr>\n",
       "    <tr>\n",
       "      <th>2</th>\n",
       "      <td>2019</td>\n",
       "      <td>1</td>\n",
       "      <td>-42.882027</td>\n",
       "      <td>147.331852</td>\n",
       "      <td>4440</td>\n",
       "      <td>0.023256</td>\n",
       "    </tr>\n",
       "    <tr>\n",
       "      <th>3</th>\n",
       "      <td>2019</td>\n",
       "      <td>2</td>\n",
       "      <td>-36.313137</td>\n",
       "      <td>142.361338</td>\n",
       "      <td>4434</td>\n",
       "      <td>0.046512</td>\n",
       "    </tr>\n",
       "    <tr>\n",
       "      <th>4</th>\n",
       "      <td>2019</td>\n",
       "      <td>1</td>\n",
       "      <td>47.661172</td>\n",
       "      <td>-122.313981</td>\n",
       "      <td>4426</td>\n",
       "      <td>0.023256</td>\n",
       "    </tr>\n",
       "    <tr>\n",
       "      <th>...</th>\n",
       "      <td>...</td>\n",
       "      <td>...</td>\n",
       "      <td>...</td>\n",
       "      <td>...</td>\n",
       "      <td>...</td>\n",
       "      <td>...</td>\n",
       "    </tr>\n",
       "    <tr>\n",
       "      <th>8999</th>\n",
       "      <td>2022</td>\n",
       "      <td>1</td>\n",
       "      <td>51.046505</td>\n",
       "      <td>-114.070823</td>\n",
       "      <td>10306</td>\n",
       "      <td>0.023256</td>\n",
       "    </tr>\n",
       "    <tr>\n",
       "      <th>9000</th>\n",
       "      <td>2022</td>\n",
       "      <td>1</td>\n",
       "      <td>45.622988</td>\n",
       "      <td>-122.642494</td>\n",
       "      <td>10358</td>\n",
       "      <td>0.023256</td>\n",
       "    </tr>\n",
       "    <tr>\n",
       "      <th>9001</th>\n",
       "      <td>2022</td>\n",
       "      <td>5</td>\n",
       "      <td>47.610152</td>\n",
       "      <td>-122.332363</td>\n",
       "      <td>10361</td>\n",
       "      <td>0.116279</td>\n",
       "    </tr>\n",
       "    <tr>\n",
       "      <th>9002</th>\n",
       "      <td>2022</td>\n",
       "      <td>7</td>\n",
       "      <td>47.773738</td>\n",
       "      <td>-122.148799</td>\n",
       "      <td>10178</td>\n",
       "      <td>0.162791</td>\n",
       "    </tr>\n",
       "    <tr>\n",
       "      <th>9003</th>\n",
       "      <td>2022</td>\n",
       "      <td>17</td>\n",
       "      <td>-23.698042</td>\n",
       "      <td>133.880747</td>\n",
       "      <td>20467</td>\n",
       "      <td>0.395349</td>\n",
       "    </tr>\n",
       "  </tbody>\n",
       "</table>\n",
       "<p>9004 rows × 6 columns</p>\n",
       "</div>"
      ],
      "text/plain": [
       "      year  weight        lat         lng  saindex  weight_2\n",
       "0     2019       1  47.627065 -122.151530    15150  0.023256\n",
       "1     2019      20  47.652468 -122.358257    11609  0.465116\n",
       "2     2019       1 -42.882027  147.331852     4440  0.023256\n",
       "3     2019       2 -36.313137  142.361338     4434  0.046512\n",
       "4     2019       1  47.661172 -122.313981     4426  0.023256\n",
       "...    ...     ...        ...         ...      ...       ...\n",
       "8999  2022       1  51.046505 -114.070823    10306  0.023256\n",
       "9000  2022       1  45.622988 -122.642494    10358  0.023256\n",
       "9001  2022       5  47.610152 -122.332363    10361  0.116279\n",
       "9002  2022       7  47.773738 -122.148799    10178  0.162791\n",
       "9003  2022      17 -23.698042  133.880747    20467  0.395349\n",
       "\n",
       "[9004 rows x 6 columns]"
      ]
     },
     "execution_count": 29,
     "metadata": {},
     "output_type": "execute_result"
    }
   ],
   "source": [
    "new"
   ]
  },
  {
   "cell_type": "code",
   "execution_count": null,
   "metadata": {},
   "outputs": [],
   "source": []
  },
  {
   "cell_type": "code",
   "execution_count": null,
   "metadata": {},
   "outputs": [],
   "source": []
  },
  {
   "cell_type": "code",
   "execution_count": null,
   "metadata": {},
   "outputs": [],
   "source": []
  },
  {
   "cell_type": "code",
   "execution_count": null,
   "metadata": {},
   "outputs": [],
   "source": []
  },
  {
   "cell_type": "code",
   "execution_count": null,
   "metadata": {},
   "outputs": [],
   "source": []
  },
  {
   "cell_type": "code",
   "execution_count": null,
   "metadata": {},
   "outputs": [],
   "source": []
  },
  {
   "cell_type": "code",
   "execution_count": null,
   "metadata": {},
   "outputs": [],
   "source": []
  },
  {
   "cell_type": "code",
   "execution_count": null,
   "metadata": {},
   "outputs": [],
   "source": []
  },
  {
   "cell_type": "code",
   "execution_count": null,
   "metadata": {},
   "outputs": [],
   "source": []
  },
  {
   "cell_type": "code",
   "execution_count": null,
   "metadata": {},
   "outputs": [],
   "source": []
  },
  {
   "cell_type": "code",
   "execution_count": null,
   "metadata": {},
   "outputs": [],
   "source": []
  },
  {
   "cell_type": "code",
   "execution_count": null,
   "metadata": {
    "ExecuteTime": {
     "end_time": "2022-12-20T09:45:54.252533Z",
     "start_time": "2022-12-20T09:43:46.525419Z"
    },
    "code_folding": [],
    "scrolled": true
   },
   "outputs": [],
   "source": [
    "#prepare\n",
    "groupdate = df1[~df1['organization'].isna()].groupby('date_')['organization'].apply(','.join).reset_index()\n",
    "groupdate = groupdate.drop(axis=1,index=len(groupdate)-1)\n",
    "\n",
    "groupdate['month'] = groupdate['date_'].apply(lambda x: x.split(',')[0].split(\" \")[0])\n",
    "groupdate['year'] = groupdate['date_'].apply(lambda x: x.split(',')[1].strip(\" \"))\n",
    "\n",
    "groupdate['month'] = groupdate['month'].replace(\n",
    "    to_replace=[\n",
    "        'Apr', 'Aug', 'Dec', 'Feb', 'Jan', 'Jul', 'Jun', 'Mar', 'May', 'Nov',\n",
    "        'Oct', 'Sep'\n",
    "    ],\n",
    "    value=[4, 8, 12, 2, 1, 7, 6, 3, 5, 11, 10, 9])\n",
    "\n",
    "groupdate['month_year'] = groupdate[['month','year']].apply(lambda x: str(x[0])+'-'+x[1], axis = 1)\n",
    "\n",
    "groupdate2 = groupdate.groupby('month_year')['organization'].apply(','.join).reset_index()\n",
    "\n",
    "#try to filter sa_only\n",
    "# sa_only = loc[(loc['adelaide?']!=-1) | (loc['south_australia?']!=-1) | (loc['sa?']!=-1)].reset_index(drop=True)\n",
    "sa_only = loc.reset_index(drop=True)\n",
    "sa_only = sa_only[['geometry.location.lat','geometry.location.lng','big_list_name']]\n",
    "sa_only = sa_only.reset_index()\n",
    "sa_only = sa_only[~sa_only['big_list_name'].isna()].reset_index(drop=True)\n",
    "\n",
    "list_, year_ = prepare_map(groupdate2, sa_only)\n",
    "\n",
    "# #get the frame for the map\n",
    "# new = pd.DataFrame()\n",
    "\n",
    "# for i in range(len(sa_only)):\n",
    "#     try:\n",
    "#         temp = groupdate2['organization'].apply(lambda x: x.count(sa_only['big_list_name'].loc[i]))\n",
    "\n",
    "#         temp1 = groupdate2[['month_year']].copy()\n",
    "#         temp1['weight'] = temp\n",
    "#         temp1['lat'] = sa_only['geometry.location.lat'].loc[i]\n",
    "#         temp1['lng'] = sa_only['geometry.location.lng'].loc[i]\n",
    "#         temp1['saindex'] = sa_only['index'].iloc[i]\n",
    "\n",
    "#         new = pd.concat([new,temp1],ignore_index=True)\n",
    "#     except:\n",
    "#         print(i)\n",
    "    \n",
    "# #get the data for time-lapse heat map\n",
    "# list_ = []\n",
    "# year_ = []\n",
    "\n",
    "# new['weight_2'] = winsorize((new['weight']), limits=[0, 0.005]).tolist()\n",
    "\n",
    "# new1 = new[new.weight_2!=0].reset_index(drop=True).copy()\n",
    "# new1['weight_2'] = new1['weight_2'] /new1['weight_2'].abs().max()\n",
    "# new1['month'] = new1.month_year.apply(lambda x: int(x.split('-')[0]))\n",
    "# new1['year'] = new1.month_year.apply(lambda x: int(x.split('-')[1]))\n",
    "# new1 = new1.sort_values(['year','month']).reset_index(drop=True)\n",
    "\n",
    "# for sub in new1.groupby(['year','month']):\n",
    "    \n",
    "#     list_.append(sub[1][['lat','lng','weight_2']].values.tolist())\n",
    "#     year_.append(str(sub[0][1])+'-'+str(sub[0][0]))"
   ]
  },
  {
   "cell_type": "code",
   "execution_count": null,
   "metadata": {
    "ExecuteTime": {
     "end_time": "2022-12-20T09:45:54.475348Z",
     "start_time": "2022-12-20T09:45:54.472679Z"
    },
    "code_folding": [
     0
    ]
   },
   "outputs": [],
   "source": [
    "#if we need the state bounderies\n",
    "# lga_gdf = gpd.read_file(\n",
    "#     r'C:\\Users\\duchi\\OneDrive - University of South Australia\\casual contract\\6 Vij - 12.22\\0 geo data\\from Ali\\SUA_2021_AUST_GDA2020.shp'\n",
    "# )\n",
    "\n",
    "# lga_gdf['boundary'] = lga_gdf.boundary\n",
    "# # lga_gdf.head(1)\n",
    "\n",
    "# # lga_gdf.plot(figsize=(20,20))\n",
    "# # plt.show()\n",
    "# lga_gdf['SUA_NAME21'].unique()\n",
    "# lga_gdf = lga_gdf[(lga_gdf['SUA_NAME21'] =='Adelaide')]\n",
    "# # lga_gdf['SUA_NAME21'].unique()\n",
    "\n",
    "# # create map\n",
    "# m = folium.Map([-25.714884, 135.219674],\n",
    "#                zoom_start=4,\n",
    "#                width=1000,\n",
    "#                height=1000,\n",
    "#                tiles=None)\n",
    "\n",
    "# folium.TileLayer('CartoDB positron', name=\"Light Map\", control=False).add_to(m)\n",
    "# # list_orange_places = question2.city.unique().tolist()\n",
    "\n",
    "# # for _, r in lga_gdf.iterrows():\n",
    "# #     # Without simplifying the representation of each borough,\n",
    "# #     # the map might not be displayed\n",
    "# #     sim_geo = gpd.GeoSeries(r['geometry']).simplify(tolerance=0.001)\n",
    "# #     geo_j = sim_geo.to_json()\n",
    "# #     geo_j = folium.GeoJson(data=geo_j)\n",
    "# #     folium.Popup(r['SUA_NAME21']).add_to(geo_j)\n",
    "# #     geo_j.add_to(m)"
   ]
  },
  {
   "cell_type": "code",
   "execution_count": null,
   "metadata": {
    "ExecuteTime": {
     "end_time": "2022-12-20T09:45:54.694868Z",
     "start_time": "2022-12-20T09:45:54.691246Z"
    },
    "code_folding": [
     0
    ]
   },
   "outputs": [],
   "source": [
    "# # location of all\n",
    "\n",
    "# m = folium.Map([-25.714884, 135.219674], tiles=None, zoom_start=6)\n",
    "\n",
    "# folium.TileLayer('CartoDB positron', name=\"Light Map\", control=False).add_to(m)\n",
    "\n",
    "# # hm = plugins.HeatMapWithTime(list_, index= year_, radius=6)\n",
    "\n",
    "# # hm.add_to(m)\n",
    "\n",
    "# # m\n",
    "\n",
    "# for index, row in sa_only.iterrows():\n",
    "\n",
    "#     folium.Marker([row['geometry.location.lat'], row['geometry.location.lng']],\n",
    "#                   popup=row['big_list_name'],\n",
    "#                   color='crimson',\n",
    "#                   fill=True).add_to(m)\n",
    "    \n",
    "# m"
   ]
  },
  {
   "cell_type": "code",
   "execution_count": null,
   "metadata": {
    "ExecuteTime": {
     "end_time": "2022-12-20T09:46:23.034793Z",
     "start_time": "2022-12-20T09:46:22.192777Z"
    },
    "code_folding": []
   },
   "outputs": [],
   "source": [
    "#final time-lapse heatmap\n",
    "m = folium.Map([-25.714884, 135.219674], tiles=None, zoom_start=6)\n",
    "\n",
    "folium.TileLayer('CartoDB positron', name=\"Light Map\", control=False).add_to(m)\n",
    "\n",
    "# hm = plugins.HeatMapWithTime(list_, index= year_, radius=5, blur=0.2, min_opacity=0.2)\n",
    "hm = plugins.HeatMapWithTime(list_, index= year_, radius=5, blur=0.2, min_opacity=0.5 , use_local_extrema=False)\n",
    "\n",
    "hm.add_to(m)\n",
    "\n",
    "\n",
    "m"
   ]
  },
  {
   "cell_type": "code",
   "execution_count": null,
   "metadata": {
    "ExecuteTime": {
     "end_time": "2022-12-15T05:27:51.317580Z",
     "start_time": "2022-12-15T05:27:49.059619Z"
    }
   },
   "outputs": [],
   "source": [
    "# m.save('tech_heatmap.html')"
   ]
  },
  {
   "cell_type": "code",
   "execution_count": null,
   "metadata": {
    "ExecuteTime": {
     "end_time": "2022-12-20T10:08:23.585284Z",
     "start_time": "2022-12-20T09:50:23.088760Z"
    }
   },
   "outputs": [],
   "source": [
    "# Do the same thing bet for each group of tech\n",
    "\n",
    "sa_only = loc.reset_index(drop=True)\n",
    "sa_only = sa_only[['geometry.location.lat','geometry.location.lng','big_list_name']]\n",
    "sa_only = sa_only.reset_index()\n",
    "sa_only = sa_only[~sa_only['big_list_name'].isna()].reset_index(drop=True)\n",
    "a = 0.005\n",
    "\n",
    "list_1, year_1 = prepare_map(create_groupdate(df1, Aerospace_Space), sa_only, a)\n",
    "list_2, year_2 = prepare_map(create_groupdate(df1, Advanced_manufacturing), sa_only, a)\n",
    "list_3, year_3 = prepare_map(create_groupdate(df1, Agtech), sa_only, a)\n",
    "list_4, year_4 = prepare_map(create_groupdate(df1, Digital_infrastructure), sa_only, a)\n",
    "list_5, year_5 = prepare_map(create_groupdate(df1, Health_medical), sa_only, a)\n",
    "list_6, year_6 = prepare_map(create_groupdate(df1, Machine_learning), sa_only, a)\n",
    "list_7, year_7 = prepare_map(create_groupdate(df1, Renewable_energy), sa_only, a)\n",
    "list_8, year_8 = prepare_map(create_groupdate(df1, VFX_VR_AR), sa_only, a)\n",
    "list_9, year_9 = prepare_map(create_groupdate(df1, start_up), sa_only, a)"
   ]
  },
  {
   "cell_type": "code",
   "execution_count": null,
   "metadata": {
    "ExecuteTime": {
     "end_time": "2022-12-20T10:27:05.279892Z",
     "start_time": "2022-12-20T10:27:05.264484Z"
    }
   },
   "outputs": [],
   "source": [
    "test1 = create_groupdate(df1, Aerospace_Space)"
   ]
  },
  {
   "cell_type": "code",
   "execution_count": null,
   "metadata": {
    "ExecuteTime": {
     "end_time": "2022-12-20T10:08:46.413438Z",
     "start_time": "2022-12-20T10:08:46.402395Z"
    },
    "code_folding": [
     4
    ]
   },
   "outputs": [],
   "source": [
    "from jinja2 import Template \n",
    "\n",
    "from folium.map import Layer\n",
    "\n",
    "class HeatMapWithTimeAdditional(Layer):\n",
    "    _template = Template(\"\"\"\n",
    "        {% macro script(this, kwargs) %}\n",
    "            var {{this.get_name()}} = new TDHeatmap({{ this.data }},\n",
    "                {heatmapOptions: {\n",
    "                    radius: {{this.radius}},\n",
    "                    minOpacity: {{this.min_opacity}},\n",
    "                    maxOpacity: {{this.max_opacity}},\n",
    "                    scaleRadius: {{this.scale_radius}},\n",
    "                    useLocalExtrema: {{this.use_local_extrema}},\n",
    "                    defaultWeight: 1,\n",
    "                    {% if this.gradient %}gradient: {{ this.gradient }}{% endif %}\n",
    "                }\n",
    "            }).addTo({{ this._parent.get_name() }});\n",
    "        {% endmacro %}\n",
    "    \"\"\")\n",
    "\n",
    "    def __init__(self, data, name=None, radius=15,\n",
    "                 min_opacity=0, max_opacity=0.6,\n",
    "                 scale_radius=False, gradient=None, use_local_extrema=False,\n",
    "                 overlay=True, control=True, show=True):\n",
    "        super(HeatMapWithTimeAdditional, self).__init__(\n",
    "            name=name, overlay=overlay, control=control, show=show\n",
    "        )\n",
    "        self._name = 'HeatMap'\n",
    "        self.data = data\n",
    "\n",
    "        # Heatmap settings.\n",
    "        self.radius = radius\n",
    "        self.min_opacity = min_opacity\n",
    "        self.max_opacity = max_opacity\n",
    "        self.scale_radius = 'true' if scale_radius else 'false'\n",
    "        self.use_local_extrema = 'true' if use_local_extrema else 'false'\n",
    "        self.gradient = gradient\n",
    "        \n",
    "# folium.plugins.HeatMapWithTime(list_1,overlay=False,name='Aerospace Space',index=year_1,min_opacity=0.05,radius=5).add_to(m)\n",
    "# HeatMapWithTimeAdditional(list_2,overlay=False,name='Advanced manufacturing',min_opacity=0.05,radius=5).add_to(m)       "
   ]
  },
  {
   "cell_type": "code",
   "execution_count": null,
   "metadata": {
    "ExecuteTime": {
     "end_time": "2022-12-20T10:21:07.194968Z",
     "start_time": "2022-12-20T10:21:06.990267Z"
    }
   },
   "outputs": [],
   "source": [
    "m = folium.Map([-25.714884, 135.219674], tiles=None, zoom_start=6)\n",
    "\n",
    "folium.TileLayer('CartoDB positron', name=\"Light Map\", control=False).add_to(m)\n",
    "\n",
    "# hm = plugins.HeatMapWithTime(list_, index= year_, radius=5, blur=0.2, min_opacity=0.2)\n",
    "plugins.HeatMapWithTime(list_1, index= year_1, radius=5, blur=0.2, min_opacity=0.5 , use_local_extrema=False).add_to(m)\n",
    "plugins.HeatMapWithTime(list_2, index= year_2, radius=5, blur=0.2, min_opacity=0.5 , use_local_extrema=False).add_to(m)\n",
    "\n",
    "folium.LayerControl().add_to(m)\n",
    "\n",
    "m"
   ]
  },
  {
   "cell_type": "code",
   "execution_count": null,
   "metadata": {},
   "outputs": [],
   "source": []
  }
 ],
 "metadata": {
  "kernelspec": {
   "display_name": "Python 3",
   "language": "python",
   "name": "python3"
  },
  "language_info": {
   "codemirror_mode": {
    "name": "ipython",
    "version": 3
   },
   "file_extension": ".py",
   "mimetype": "text/x-python",
   "name": "python",
   "nbconvert_exporter": "python",
   "pygments_lexer": "ipython3",
   "version": "3.8.3"
  },
  "toc": {
   "base_numbering": 1,
   "nav_menu": {},
   "number_sections": true,
   "sideBar": true,
   "skip_h1_title": false,
   "title_cell": "Table of Contents",
   "title_sidebar": "Contents",
   "toc_cell": false,
   "toc_position": {},
   "toc_section_display": true,
   "toc_window_display": false
  },
  "varInspector": {
   "cols": {
    "lenName": 16,
    "lenType": 16,
    "lenVar": 40
   },
   "kernels_config": {
    "python": {
     "delete_cmd_postfix": "",
     "delete_cmd_prefix": "del ",
     "library": "var_list.py",
     "varRefreshCmd": "print(var_dic_list())"
    },
    "r": {
     "delete_cmd_postfix": ") ",
     "delete_cmd_prefix": "rm(",
     "library": "var_list.r",
     "varRefreshCmd": "cat(var_dic_list()) "
    }
   },
   "types_to_exclude": [
    "module",
    "function",
    "builtin_function_or_method",
    "instance",
    "_Feature"
   ],
   "window_display": false
  }
 },
 "nbformat": 4,
 "nbformat_minor": 4
}
