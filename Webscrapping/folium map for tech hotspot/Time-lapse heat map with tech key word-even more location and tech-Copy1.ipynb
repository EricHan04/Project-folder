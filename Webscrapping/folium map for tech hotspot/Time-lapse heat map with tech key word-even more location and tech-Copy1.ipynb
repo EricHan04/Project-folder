{
 "cells": [
  {
   "cell_type": "code",
   "execution_count": null,
   "metadata": {
    "ExecuteTime": {
     "end_time": "2022-12-21T03:20:42.940553Z",
     "start_time": "2022-12-21T03:20:38.883824Z"
    }
   },
   "outputs": [],
   "source": [
    "import pandas as pd\n",
    "import numpy as np\n",
    "import folium \n",
    "import geopandas as gpd\n",
    "import folium.plugins as plugins\n",
    "\n",
    "from datetime import datetime\n",
    "\n",
    "\n",
    "from difflib import get_close_matches\n",
    "\n",
    "import matplotlib.pyplot as plt\n",
    "import matplotlib.pyplot\n",
    "\n",
    "%matplotlib inline\n",
    "\n",
    "# import chart_studio.plotly as py\n",
    "# import plotly.graph_objects as go\n",
    "\n",
    "import seaborn as sns\n",
    "\n",
    "pd.set_option('display.max_columns', None)\n",
    "pd.set_option('display.expand_frame_repr', False)\n",
    "pd.set_option('max_colwidth', None)\n",
    "\n",
    "from scipy.stats.mstats import winsorize"
   ]
  },
  {
   "cell_type": "code",
   "execution_count": null,
   "metadata": {
    "ExecuteTime": {
     "end_time": "2022-12-21T03:20:45.764685Z",
     "start_time": "2022-12-21T03:20:42.942823Z"
    },
    "code_folding": [
     0
    ]
   },
   "outputs": [],
   "source": [
    "#load tech_1\n",
    "tech1 = pd.read_csv(\n",
    "    r'/mnt/c/Users/handy019/OneDrive - University of South Australia/Python/3 webscrapping/3 summary/tech_1.csv',\n",
    "    encoding='iso-8859-1')\n",
    "\n",
    "#load location tech1 (for non-similar names only (around 2000))\n",
    "loc_tech1 = pd.read_csv(\n",
    "    r'/mnt/c/Users/handy019/OneDrive - University of South Australia/Python/3 webscrapping/3 summary/loc_for_tech_1.csv',\n",
    "    encoding='iso-8859-1')\n",
    "\n",
    "print(len(loc_tech1))\n",
    "\n",
    "#prepare tech_2\n",
    "\n",
    "df1 = pd.read_csv(\n",
    "    r'/mnt/c/Users/handy019/OneDrive - University of South Australia/Python/3 webscrapping/4 do it again/spacy name entities/name_entity_proquest_tech(2).csv',\n",
    "    encoding='iso-8859-1')\n",
    "df1_1 = pd.DataFrame()\n",
    "\n",
    "#prep the data for organization name\n",
    "for i in range(len(df1)):\n",
    "\n",
    "    x = df1['organization'].loc[i]\n",
    "    list_1 = []\n",
    "\n",
    "    if type(x) != float:\n",
    "        list_1 = list_1 + [y.strip(\"''\") for y in x.split(', ')]\n",
    "        temp = pd.DataFrame({'org': list_1})\n",
    "        temp['tech'] = df1.tech.loc[i]\n",
    "        df1_1 = pd.concat([df1_1, temp], ignore_index=True)\n",
    "    else:\n",
    "        pass\n",
    "\n",
    "test1 = pd.read_csv(\n",
    "    r'/mnt/c/Users/handy019/OneDrive - University of South Australia/Python/3 webscrapping/2 newspaper/technews(2)_1000.csv',\n",
    "    encoding='iso-8859-1')\n",
    "test2 = pd.read_csv(\n",
    "    r'/mnt/c/Users/handy019/OneDrive - University of South Australia/Python/3 webscrapping/2 newspaper/technews(2)_2000.csv',\n",
    "    encoding='iso-8859-1')\n",
    "test3 = pd.read_csv(\n",
    "    r'/mnt/c/Users/handy019/OneDrive - University of South Australia/Python/3 webscrapping/2 newspaper/technews(2)_3000.csv',\n",
    "    encoding='iso-8859-1')\n",
    "\n",
    "pq_link = pd.concat([test1,test2,test3], ignore_index=True)\n",
    "\n",
    "#merge date time with organization name\n",
    "print(len(df1))\n",
    "df1 = pd.merge(df1, pq_link[['tech','link','date_']], how='left', on=['tech','link'])\n",
    "print(len(df1))\n",
    "\n",
    "df1 = df1.reset_index()\n",
    "\n",
    "# load location of organization (for non-similar name only)\n",
    "loc1 = pd.read_csv(\n",
    "    r'/mnt/c/Users/handy019/OneDrive - University of South Australia/Python/3 webscrapping/4 do it again/spacy name entities/geo_location(2)_1.csv',\n",
    "    encoding='iso-8859-1')\n",
    "\n",
    "print(len(loc1))\n",
    "\n",
    "# more location for organization (from similar name)\n",
    "loc_similar1 = pd.read_csv(\n",
    "    r'/mnt/c/Users/handy019/OneDrive - University of South Australia/Python/3 webscrapping/4 do it again/spacy name entities/geo_location_similar.csv',\n",
    "    encoding='iso-8859-1')\n",
    "\n",
    "print(len(loc_similar1))"
   ]
  },
  {
   "cell_type": "code",
   "execution_count": null,
   "metadata": {
    "ExecuteTime": {
     "end_time": "2022-12-21T03:20:45.770041Z",
     "start_time": "2022-12-21T03:20:45.767557Z"
    },
    "code_folding": [
     0
    ],
    "scrolled": true
   },
   "outputs": [],
   "source": [
    "# print(len(df1))\n",
    "# print(len(tech1))\n",
    "# df1 = pd.concat([df1,tech1],ignore_index=True)\n",
    "# print(len(df1))\n",
    "# df1 = df1.drop_duplicates(ignore_index=True)\n",
    "# print(len(df1))\n",
    "# df1.head()"
   ]
  },
  {
   "cell_type": "code",
   "execution_count": null,
   "metadata": {
    "ExecuteTime": {
     "end_time": "2022-12-21T03:20:45.830930Z",
     "start_time": "2022-12-21T03:20:45.772978Z"
    }
   },
   "outputs": [],
   "source": [
    "print(len(loc1))\n",
    "print(len(loc_tech1))\n",
    "print(len(loc_similar1))\n",
    "\n",
    "loc = pd.concat([loc1,loc_tech1,loc_similar1],ignore_index=True)\n",
    "\n",
    "print(len(loc))\n",
    "loc=loc.drop_duplicates(ignore_index=True)\n",
    "\n",
    "print(len(loc))"
   ]
  },
  {
   "cell_type": "code",
   "execution_count": null,
   "metadata": {
    "ExecuteTime": {
     "end_time": "2022-12-21T03:20:45.852695Z",
     "start_time": "2022-12-21T03:20:45.833398Z"
    }
   },
   "outputs": [],
   "source": [
    "loc.head()"
   ]
  },
  {
   "cell_type": "code",
   "execution_count": null,
   "metadata": {
    "ExecuteTime": {
     "end_time": "2022-12-21T03:20:45.862367Z",
     "start_time": "2022-12-21T03:20:45.854920Z"
    }
   },
   "outputs": [],
   "source": [
    "df1.tech.unique()"
   ]
  },
  {
   "cell_type": "code",
   "execution_count": null,
   "metadata": {
    "ExecuteTime": {
     "end_time": "2022-12-21T03:20:45.871381Z",
     "start_time": "2022-12-21T03:20:45.866024Z"
    },
    "code_folding": [
     0,
     3,
     8,
     13
    ]
   },
   "outputs": [],
   "source": [
    "Aerospace_Space = [\n",
    "    'satellite technology', 'aerospace engineering', 'space exploration'\n",
    "]\n",
    "Advanced_manufacturing = [\n",
    "    'smart technology', 'smart home technology', 'automation systems',\n",
    "    'smart technologies', 'photovoltaic panels', 'robotics'\n",
    "]\n",
    "Agtech = ['agtech']\n",
    "Digital_infrastructure = [\n",
    "    'blockchain', 'crowd funding', 'cloud-based software', 'data storage',\n",
    "    'blockchain innovation'\n",
    "]\n",
    "Health_medical = ['digital health', 'neuroplasticity']\n",
    "Machine_learning = [\n",
    "    'data analytics',\n",
    "    'autonomous vehicle technology',\n",
    "    'automation systems',\n",
    "    'blockchain innovation',\n",
    "    'aerial-mapping',\n",
    "    'e-invoicing',\n",
    "    'robotics',\n",
    "    'point of sale',\n",
    "    'artificial intelligence',\n",
    "    'smart technology',\n",
    "    'smart home technology',\n",
    "    'smart technologies',\n",
    "]\n",
    "Renewable_energy = ['energy storage technology', 'renewable energy']\n",
    "VFX_VR_AR = ['VR technology', 'virtual reality', 'augmented reality']\n",
    "start_up = ['start-up']"
   ]
  },
  {
   "cell_type": "code",
   "execution_count": null,
   "metadata": {
    "ExecuteTime": {
     "end_time": "2022-12-21T03:20:45.895252Z",
     "start_time": "2022-12-21T03:20:45.873492Z"
    },
    "code_folding": [
     0
    ]
   },
   "outputs": [],
   "source": [
    "#GroupedLayerControl\n",
    "from jinja2 import Template\n",
    "from branca.element import Figure\n",
    "from folium.map import Layer, LayerControl, FeatureGroup\n",
    "\n",
    "class GroupedLayerControl(Layer):\n",
    "\t_template = Template(u\"\"\"\n",
    "\t\t\t{% macro header(this, kwargs) %}\n",
    "\t\t\t<link rel=\"stylesheet\" href=\"https://raw.githubusercontent.com/ismyrnow/leaflet-groupedlayercontrol/gh-pages/src/leaflet.groupedlayercontrol.css\" />\n",
    "\t\t\t<script src=\"leaflet.groupedlayercontrol.js\"></script> \n",
    "\t\t\t{% endmacro %}\n",
    "\t\t\t{% macro script(this, kwargs) %}\n",
    "\t\t\tvar baseMaps = { {%- for groupkey, group in this._basemaps.items() %}\n",
    "\t\t\t\t\t\t\t{{ groupkey|tojson }} : {\t\t\n",
    "\t\t\t\t\t\t\t\t\t\t {%- for key, val in group.items() %}\n",
    "\t\t\t\t\t\t\t\t\t\t\t{{ key|tojson }} : {{ val.get_name() }},\n",
    "\t\t\t\t\t\t\t\t\t\t{%- endfor %}\n",
    "\t\t\t\t\t\t\t\t}\t,\n",
    "\t\t\t\t\t\t\t{%- endfor %}\n",
    "\t\t\t};\n",
    "\t\t\tvar overlays = {\n",
    "\t\t\t\t\t {%- for groupkey, group in this._overlays.items() %}\n",
    "\t\t\t\t\t\t\t\n",
    "\t\t\t\t\t\t\t\t {{ groupkey|tojson }} : {\t\t\n",
    "\t\t\t\t\t\t\t\t\t\t {%- for key, val in group.items() %}\n",
    "\t\t\t\t\t\t\t\t\t\t\t{{ key|tojson }} : {{ val.get_name() }},\n",
    "\t\t\t\t\t\t\t\t\t\t{%- endfor %}\n",
    "\t\t\t\t\t\t\t\t\t}  ,\n",
    "\t\t\t\t\t\t\t{%- endfor %} };\n",
    "\t\t\tvar options = {\n",
    "\t\t\t\texclusiveGroups : [ {%- for i in this._radio %} \"{{i}}\", {%- endfor %} ],\n",
    "\t\t\t\tcontainer_width \t: \"300px\",\n",
    "\t\t\t\tgroup_maxHeight     : \"80px\",\n",
    "\t\t\t\texclusive       \t: false,\n",
    "\t\t\t\tcollapsed : true, \n",
    "\t\t\t\tposition: 'topright',\n",
    "\t\t\t\tshow: false\n",
    "\t\t\t};\n",
    "\t\t\t\n",
    "\t\t\tL.control.groupedLayers(baseMaps, overlays, options).addTo({{ this._parent.get_name() }})\n",
    "\t\t\t\n",
    "\t\t\tdocument.getElementById('idname').click();\n",
    "        {% endmacro %}\n",
    "        \"\"\")\n",
    "\t\t\n",
    "\tdef __init__(self, bmaps, olays, radio, name=None, overlay=True, control=True, show=True, options=None, **kwargs):\n",
    "\t\tsuper(GroupedLayerControl, self).__init__(name=name, overlay=overlay, control=control, show=show)\n",
    "\t\tself._basemaps = bmaps\n",
    "\t\tself._overlays = olays\n",
    "\t\tself._radio = radio\n",
    "\t\tself._name = 'GroupedLayerControl'"
   ]
  },
  {
   "cell_type": "code",
   "execution_count": null,
   "metadata": {
    "ExecuteTime": {
     "end_time": "2022-12-21T03:20:45.910074Z",
     "start_time": "2022-12-21T03:20:45.899960Z"
    },
    "code_folding": [
     0
    ]
   },
   "outputs": [],
   "source": [
    "def create_groupdate(df, key_list):\n",
    "\n",
    "    #prepare\n",
    "    groupdate = df1[(~df1['organization'].isna())\n",
    "                   & (df1['tech'].isin(Aerospace_Space))].groupby(\n",
    "                       'date_')['organization'].apply(','.join).reset_index()\n",
    "    groupdate = groupdate.drop(axis=1, index=len(groupdate) - 1)\n",
    "\n",
    "    groupdate['year'] = groupdate['date_'].apply(\n",
    "        lambda x: x.split(',')[1].strip(\" \"))\n",
    "\n",
    "    groupdate2 = groupdate.groupby('year')['organization'].apply(\n",
    "        ','.join).reset_index()\n",
    "\n",
    "    return groupdate2"
   ]
  },
  {
   "cell_type": "code",
   "execution_count": null,
   "metadata": {
    "ExecuteTime": {
     "end_time": "2022-12-21T03:20:45.925730Z",
     "start_time": "2022-12-21T03:20:45.914195Z"
    },
    "code_folding": [
     0
    ]
   },
   "outputs": [],
   "source": [
    "def prepare_map(groupdate2, sa_only, a):\n",
    "    #get the frame for the map\n",
    "    new = pd.DataFrame()\n",
    "\n",
    "    for i in range(len(sa_only)):\n",
    "        try:\n",
    "            temp = groupdate2['organization'].apply(lambda x: x.count(sa_only['big_list_name'].loc[i]))\n",
    "\n",
    "            temp1 = groupdate2[['year']].copy()\n",
    "            temp1['weight'] = temp\n",
    "            temp1['lat'] = sa_only['geometry.location.lat'].loc[i]\n",
    "            temp1['lng'] = sa_only['geometry.location.lng'].loc[i]\n",
    "            temp1['saindex'] = sa_only['index'].iloc[i]\n",
    "\n",
    "            new = pd.concat([new,temp1],ignore_index=True)\n",
    "        except:\n",
    "            print(i)\n",
    "\n",
    "    #get the data for time-lapse heat map\n",
    "    list_ = []\n",
    "    year_ = []\n",
    "\n",
    "    new['weight_2'] = winsorize((new['weight']), limits=[0, 0.005]).tolist()\n",
    "\n",
    "    new = new[new.weight_2!=0].reset_index(drop=True).copy()\n",
    "    new['weight_2'] = new['weight_2'] /new['weight_2'].abs().max()\n",
    "    new = new.sort_values(['year']).reset_index(drop=True)\n",
    "    \n",
    "    return new"
   ]
  },
  {
   "cell_type": "code",
   "execution_count": null,
   "metadata": {
    "ExecuteTime": {
     "end_time": "2022-12-21T03:21:37.676150Z",
     "start_time": "2022-12-21T03:20:45.928550Z"
    }
   },
   "outputs": [],
   "source": [
    "sa_only = loc.reset_index(drop=True)\n",
    "sa_only = sa_only[['geometry.location.lat','geometry.location.lng','big_list_name']]\n",
    "sa_only = sa_only.reset_index()\n",
    "sa_only = sa_only[~sa_only['big_list_name'].isna()].reset_index(drop=True)\n",
    "\n",
    "a = 0.005\n",
    "\n",
    "frame1 = prepare_map(create_groupdate(df1, Aerospace_Space), sa_only, a)\n",
    "frame1['tech'] = 'Aerospace Space and Space'"
   ]
  },
  {
   "cell_type": "code",
   "execution_count": null,
   "metadata": {
    "ExecuteTime": {
     "end_time": "2022-12-21T03:22:31.872247Z",
     "start_time": "2022-12-21T03:21:37.678037Z"
    }
   },
   "outputs": [],
   "source": [
    "frame2 = prepare_map(create_groupdate(df1, Advanced_manufacturing), sa_only, a)\n",
    "frame2['tech'] = 'Advanced manufacturing'"
   ]
  },
  {
   "cell_type": "code",
   "execution_count": null,
   "metadata": {
    "ExecuteTime": {
     "end_time": "2022-12-21T03:23:19.967457Z",
     "start_time": "2022-12-21T03:22:31.874082Z"
    }
   },
   "outputs": [],
   "source": [
    "frame3 = prepare_map(create_groupdate(df1, Agtech), sa_only, a)\n",
    "frame3['tech'] = 'Agtech'"
   ]
  },
  {
   "cell_type": "code",
   "execution_count": null,
   "metadata": {
    "ExecuteTime": {
     "end_time": "2022-12-21T03:24:00.504999Z",
     "start_time": "2022-12-21T03:23:19.969108Z"
    }
   },
   "outputs": [],
   "source": [
    "frame4 = prepare_map(create_groupdate(df1, Digital_infrastructure), sa_only, a)\n",
    "frame4['tech'] = 'Digital infrastructure'"
   ]
  },
  {
   "cell_type": "code",
   "execution_count": null,
   "metadata": {
    "ExecuteTime": {
     "end_time": "2022-12-21T03:24:48.197111Z",
     "start_time": "2022-12-21T03:24:00.507000Z"
    }
   },
   "outputs": [],
   "source": [
    "frame5 = prepare_map(create_groupdate(df1, Health_medical), sa_only, a)\n",
    "frame5['tech'] = 'Health and medical technology'"
   ]
  },
  {
   "cell_type": "code",
   "execution_count": null,
   "metadata": {
    "ExecuteTime": {
     "end_time": "2022-12-21T03:25:38.928981Z",
     "start_time": "2022-12-21T03:24:48.198714Z"
    }
   },
   "outputs": [],
   "source": [
    "frame6 = prepare_map(create_groupdate(df1, Machine_learning), sa_only, a)\n",
    "frame6['tech'] = 'Machine learning and big data'"
   ]
  },
  {
   "cell_type": "code",
   "execution_count": null,
   "metadata": {
    "ExecuteTime": {
     "end_time": "2022-12-21T03:26:28.469133Z",
     "start_time": "2022-12-21T03:25:38.931337Z"
    }
   },
   "outputs": [],
   "source": [
    "frame7 = prepare_map(create_groupdate(df1, Renewable_energy), sa_only, a)\n",
    "frame7['tech'] = 'Renewable energy'"
   ]
  },
  {
   "cell_type": "code",
   "execution_count": null,
   "metadata": {
    "ExecuteTime": {
     "end_time": "2022-12-21T03:27:17.687420Z",
     "start_time": "2022-12-21T03:26:28.470881Z"
    }
   },
   "outputs": [],
   "source": [
    "frame8 = prepare_map(create_groupdate(df1, VFX_VR_AR), sa_only, a)\n",
    "frame8['tech'] = 'VFX, VR, and AR'"
   ]
  },
  {
   "cell_type": "code",
   "execution_count": null,
   "metadata": {
    "ExecuteTime": {
     "end_time": "2022-12-21T03:28:07.554137Z",
     "start_time": "2022-12-21T03:27:17.689209Z"
    }
   },
   "outputs": [],
   "source": [
    "frame9 = prepare_map(create_groupdate(df1, start_up), sa_only, a)\n",
    "frame9['tech'] = 'start up'"
   ]
  },
  {
   "cell_type": "code",
   "execution_count": null,
   "metadata": {
    "ExecuteTime": {
     "end_time": "2022-12-21T03:28:07.567358Z",
     "start_time": "2022-12-21T03:28:07.556287Z"
    }
   },
   "outputs": [],
   "source": [
    "final_frame = pd.concat([frame1,frame2,frame3,frame4,frame5,frame6,frame7,frame8,frame9], ignore_index=True)"
   ]
  },
  {
   "cell_type": "code",
   "execution_count": null,
   "metadata": {
    "ExecuteTime": {
     "end_time": "2022-12-21T03:41:07.241713Z",
     "start_time": "2022-12-21T03:41:07.056163Z"
    },
    "code_folding": [
     0
    ]
   },
   "outputs": [],
   "source": [
    "#final time-lapse heatmap\n",
    "# m = folium.Map([-25.714884, 135.219674], tiles=None, zoom_start=6)\n",
    "\n",
    "# folium.TileLayer('CartoDB positron', name=\"Light Map\", control=False).add_to(m)\n",
    "\n",
    "# # hm = plugins.HeatMapWithTime(list_, index= year_, radius=5, blur=0.2, min_opacity=0.2)\n",
    "# hm = plugins.HeatMapWithTime(list_, index= year_, radius=5, blur=0.2, min_opacity=0.5 , use_local_extrema=False)\n",
    "\n",
    "# fg1 = folium.map.FeatureGroup(name='Group 1', show = True)\n",
    "\n",
    "# folium.plugins.HeatMap(final_frame[(final_frame['tech']=='Aerospace Space and Space') & (final_frame['year']=='2019')][['lat','lng','weight_2']].to_numpy(), radius=5, blur=0.2, min_opacity=0.5 , use_local_extrema=False).add_to(fg1)\n",
    "\n",
    "# fg1.add_to(m)\n",
    "\n",
    "# fg2 = folium.map.FeatureGroup(name='Group 2', show = True)\n",
    "\n",
    "# folium.plugins.HeatMap(final_frame[(final_frame['tech']=='Aerospace Space and Space') & (final_frame['year']=='2020')][['lat','lng','weight_2']].to_numpy(), radius=5, blur=0.2, min_opacity=0.5 , use_local_extrema=False)\n",
    "\n",
    "# fg2.add_to(m)\n",
    "\n",
    "# GroupedLayerControl({}, {'Technology' : {'Aerospace Space and Space (2019)' : fg1 , 'Aerospace Space and Space (2020)' : fg2}\n",
    "#                         }, ['Category 1']).add_to(m)\n"
   ]
  },
  {
   "cell_type": "code",
   "execution_count": null,
   "metadata": {
    "ExecuteTime": {
     "end_time": "2022-12-21T04:15:57.399367Z",
     "start_time": "2022-12-21T04:15:57.396876Z"
    },
    "code_folding": [
     0
    ]
   },
   "outputs": [],
   "source": [
    "# import pandas as pd\n",
    "# import numpy as np\n",
    "# import plotly.express as px\n",
    "\n",
    "# fig = px.density_mapbox(final_frame[(final_frame['tech']=='Aerospace Space and Space') & (final_frame['year']=='2019')], lat='lat', lon='lng', z='weight_2',\n",
    "#                         mapbox_style=\"stamen-terrain\", opacity=0.5)\n",
    " \n",
    "# fig"
   ]
  },
  {
   "cell_type": "code",
   "execution_count": null,
   "metadata": {
    "ExecuteTime": {
     "end_time": "2022-12-21T04:15:49.527848Z",
     "start_time": "2022-12-21T04:15:49.525279Z"
    },
    "code_folding": [
     0
    ]
   },
   "outputs": [],
   "source": [
    "# import os\n",
    "# import folium\n",
    "\n",
    "# import numpy as np\n",
    "# import random\n",
    "\n",
    "# # Generate base data\n",
    "# data = (np.random.normal(size=(100, 2)) * np.array([[1, 1]]) +\n",
    "#                 np.array([[48, 5]]))\n",
    "# # Generate the data to segment by (levels of another pandas column in practical usage)\n",
    "# categories = ['category{}'.format(i+1) for i in range(5)]\n",
    "# category_column = [random.choice(categories) for i in range(len(data))]\n"
   ]
  },
  {
   "cell_type": "code",
   "execution_count": null,
   "metadata": {
    "ExecuteTime": {
     "end_time": "2022-12-21T04:15:28.207882Z",
     "start_time": "2022-12-21T04:15:28.205251Z"
    },
    "code_folding": [
     0
    ]
   },
   "outputs": [],
   "source": [
    "# from folium.plugins import TagFilterButton\n",
    "\n",
    "# # Create map and add the data with additional parameter tags as the segmentation\n",
    "# m = folium.Map([48., 5.], tiles='stamentoner', zoom_start=7)\n",
    "# for i, latlng in enumerate(data):\n",
    "#     category = category_column[i]\n",
    "#     folium.Marker(\n",
    "#         tuple(latlng),\n",
    "#         tags=[category]\n",
    "#     ).add_to(m)\n",
    "    \n",
    "# TagFilterButton(categories).add_to(m)\n",
    "\n",
    "# m\n"
   ]
  },
  {
   "cell_type": "code",
   "execution_count": null,
   "metadata": {
    "ExecuteTime": {
     "end_time": "2022-12-21T04:26:47.388271Z",
     "start_time": "2022-12-21T04:26:47.225688Z"
    },
    "code_folding": [
     0
    ]
   },
   "outputs": [],
   "source": [
    "# import os\n",
    "# import random\n",
    "\n",
    "# import folium\n",
    "# from folium import plugins\n",
    "# import pandas as pd\n",
    "# import numpy as np\n",
    "\n",
    "# # Generate base data\n",
    "# data_df = pd.DataFrame(np.random.normal(size=(100, 2)) * np.array([[1, 1]]) + np.array([[48, 5]]),\n",
    "#                        columns=['longitude', 'latitude'])\n",
    "\n",
    "# # Generate the data to segment by (levels of another pandas column in practical usage)\n",
    "# categories = ['category{}'.format(i+1) for i in range(5)]\n",
    "# category_column = [random.choice(categories) for i in range(len(data_df))]\n",
    "# data_df['category'] = category_column\n",
    "\n",
    "# # Split data into 2 groups\n",
    "# data_df_gp1 = data_df.loc[:len(data_df)/2, :]\n",
    "# data_df_gp2 = data_df.loc[len(data_df)/2:, :]\n",
    "\n",
    "# # Base map\n",
    "# m = folium.Map([48., 5.], tiles=None, zoom_start=7)\n",
    "\n",
    "# # Create 2 featuregroup\n",
    "# fg1 = folium.FeatureGroup(name=\"Group1\", overlay=False).add_to(m)\n",
    "# fg2 = folium.FeatureGroup(name=\"Group2\", overlay=False).add_to(m)\n",
    "\n",
    "# # Plot on feature group 1\n",
    "# folium.TileLayer().add_to(fg1)\n",
    "# for y in ['2019','2020']:\n",
    "#     category = row['category']\n",
    "#     folium.Marker(\n",
    "#         tuple([row['longitude'], row['latitude']]),\n",
    "#         tags=[category]\n",
    "#     ).add_to(fg1)\n",
    "    \n",
    "# # Plot on feature group 2\n",
    "# folium.TileLayer().add_to(fg2)\n",
    "# for name, row in data_df_gp2.iterrows():\n",
    "#     category = row['category']\n",
    "#     folium.Marker(\n",
    "#         tuple([row['longitude'], row['latitude']]),\n",
    "#         tags=[category]\n",
    "#     ).add_to(fg2)\n",
    "\n",
    "# # Add LayerControl\n",
    "# folium.LayerControl(collapsed=False).add_to(m)\n",
    "\n",
    "# # Add TagFilterButton\n",
    "# plugins.TagFilterButton(categories, control=False).add_to(m)\n",
    "\n",
    "# # show map\n",
    "# m"
   ]
  },
  {
   "cell_type": "code",
   "execution_count": null,
   "metadata": {
    "ExecuteTime": {
     "end_time": "2022-12-21T05:03:19.455282Z",
     "start_time": "2022-12-21T05:03:19.403558Z"
    }
   },
   "outputs": [],
   "source": [
    "import os\n",
    "import random\n",
    "\n",
    "import folium\n",
    "from folium import plugins\n",
    "import pandas as pd\n",
    "import numpy as np\n",
    "\n",
    "# Generate base data\n",
    "data_df = final_frame[final_frame['tech'] == 'Aerospace Space and Space']\n",
    "\n",
    "# Split data into 2 groups\n",
    "data_df_gp1 = data_df[data_df['tech'] == 'Aerospace Space and Space']\n",
    "\n",
    "# Base map\n",
    "m = folium.Map([-25.714884, 135.219674], tiles=None, zoom_start=6)\n",
    "\n",
    "folium.TileLayer('CartoDB positron', name=\"Light Map\", control=False).add_to(m)\n",
    "\n",
    "# Create 2 featuregroup\n",
    "for y in ['2019', '2020', '2021', '2022']:\n",
    "    folium.plugins.HeatMap(\n",
    "        data_df_gp1[data_df_gp1['year'] == y][['lat', 'lng',\n",
    "                                               'weight_2']].to_numpy(),\n",
    "        radius=10,\n",
    "        blur=5).add_to(\n",
    "            folium.FeatureGroup(name='{}'.format(y)).add_to(m))\n",
    "\n",
    "# # Plot on feature group 2\n",
    "# for y in ['2019', '2020', '2021', '2022']:\n",
    "#     folium.plugins.HeatMap(data_df_gp2[data_df_gp2['year'] == y][[\n",
    "#         'lat', 'lng', 'weight_2'\n",
    "#     ]].to_numpy()).add_to(folium.FeatureGroup(name='{}'.format(y)).add_to(m))\n",
    "\n",
    "# Add LayerControl\n",
    "folium.LayerControl(collapsed=False).add_to(m)\n",
    "\n",
    "# show map\n",
    "m"
   ]
  },
  {
   "cell_type": "code",
   "execution_count": 1,
   "metadata": {
    "ExecuteTime": {
     "end_time": "2022-12-21T05:17:19.239436Z",
     "start_time": "2022-12-21T05:17:19.115952Z"
    }
   },
   "outputs": [
    {
     "ename": "NameError",
     "evalue": "name 'final_frame' is not defined",
     "output_type": "error",
     "traceback": [
      "\u001b[0;31m---------------------------------------------------------------------------\u001b[0m",
      "\u001b[0;31mNameError\u001b[0m                                 Traceback (most recent call last)",
      "\u001b[0;32m<ipython-input-1-45ebb3c46121>\u001b[0m in \u001b[0;36m<module>\u001b[0;34m\u001b[0m\n\u001b[0;32m----> 1\u001b[0;31m \u001b[0mfinal_frame\u001b[0m\u001b[0;34m\u001b[0m\u001b[0;34m\u001b[0m\u001b[0m\n\u001b[0m",
      "\u001b[0;31mNameError\u001b[0m: name 'final_frame' is not defined"
     ]
    }
   ],
   "source": [
    "final_frame"
   ]
  },
  {
   "cell_type": "code",
   "execution_count": null,
   "metadata": {},
   "outputs": [],
   "source": []
  },
  {
   "cell_type": "code",
   "execution_count": null,
   "metadata": {},
   "outputs": [],
   "source": []
  },
  {
   "cell_type": "code",
   "execution_count": null,
   "metadata": {},
   "outputs": [],
   "source": []
  },
  {
   "cell_type": "code",
   "execution_count": null,
   "metadata": {},
   "outputs": [],
   "source": []
  },
  {
   "cell_type": "code",
   "execution_count": null,
   "metadata": {},
   "outputs": [],
   "source": []
  }
 ],
 "metadata": {
  "kernelspec": {
   "display_name": "Python 3",
   "language": "python",
   "name": "python3"
  },
  "language_info": {
   "codemirror_mode": {
    "name": "ipython",
    "version": 3
   },
   "file_extension": ".py",
   "mimetype": "text/x-python",
   "name": "python",
   "nbconvert_exporter": "python",
   "pygments_lexer": "ipython3",
   "version": "3.8.3"
  },
  "toc": {
   "base_numbering": 1,
   "nav_menu": {},
   "number_sections": true,
   "sideBar": true,
   "skip_h1_title": false,
   "title_cell": "Table of Contents",
   "title_sidebar": "Contents",
   "toc_cell": false,
   "toc_position": {},
   "toc_section_display": true,
   "toc_window_display": false
  },
  "varInspector": {
   "cols": {
    "lenName": 16,
    "lenType": 16,
    "lenVar": 40
   },
   "kernels_config": {
    "python": {
     "delete_cmd_postfix": "",
     "delete_cmd_prefix": "del ",
     "library": "var_list.py",
     "varRefreshCmd": "print(var_dic_list())"
    },
    "r": {
     "delete_cmd_postfix": ") ",
     "delete_cmd_prefix": "rm(",
     "library": "var_list.r",
     "varRefreshCmd": "cat(var_dic_list()) "
    }
   },
   "types_to_exclude": [
    "module",
    "function",
    "builtin_function_or_method",
    "instance",
    "_Feature"
   ],
   "window_display": false
  }
 },
 "nbformat": 4,
 "nbformat_minor": 4
}
